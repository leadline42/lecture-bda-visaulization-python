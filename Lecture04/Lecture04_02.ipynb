{
  "cells": [
    {
      "cell_type": "markdown",
      "metadata": {
        "id": "vXSx4def-F9c"
      },
      "source": [
        "본문예제11-01"
      ]
    },
    {
      "cell_type": "code",
      "execution_count": 10,
      "metadata": {},
      "outputs": [],
      "source": [
        "import pandas as pd\n",
        "import numpy as np"
      ]
    },
    {
      "cell_type": "code",
      "execution_count": 7,
      "metadata": {
        "colab": {
          "base_uri": "https://localhost:8080/"
        },
        "id": "kb4EgnBl2AiL",
        "outputId": "aa3fe304-962f-4ba9-82ce-04f6df5a2ce4"
      },
      "outputs": [
        {
          "name": "stdout",
          "output_type": "stream",
          "text": [
            "<class 'pandas.core.frame.DataFrame'>\n",
            "RangeIndex: 3 entries, 0 to 2\n",
            "Data columns (total 2 columns):\n",
            " #   Column  Non-Null Count  Dtype \n",
            "---  ------  --------------  ----- \n",
            " 0   date    3 non-null      object\n",
            " 1   name    3 non-null      object\n",
            "dtypes: object(2)\n",
            "memory usage: 176.0+ bytes\n"
          ]
        }
      ],
      "source": [
        "df = pd.DataFrame({'date':['2019-01-03', '2021-11-22', '2023-01-05'], 'name':['J', 'Y', 'O']})\n",
        "df.info()"
      ]
    },
    {
      "cell_type": "markdown",
      "metadata": {
        "id": "HhtNo5lm-Dvw"
      },
      "source": [
        "본문예제11-02"
      ]
    },
    {
      "cell_type": "code",
      "execution_count": 8,
      "metadata": {
        "colab": {
          "base_uri": "https://localhost:8080/"
        },
        "id": "sPt1pHTX2m6M",
        "outputId": "28535f8d-8eac-4b2a-e249-46c210ff1328"
      },
      "outputs": [
        {
          "name": "stdout",
          "output_type": "stream",
          "text": [
            "<class 'pandas.core.frame.DataFrame'>\n",
            "RangeIndex: 3 entries, 0 to 2\n",
            "Data columns (total 2 columns):\n",
            " #   Column  Non-Null Count  Dtype         \n",
            "---  ------  --------------  -----         \n",
            " 0   date    3 non-null      datetime64[ns]\n",
            " 1   name    3 non-null      object        \n",
            "dtypes: datetime64[ns](1), object(1)\n",
            "memory usage: 176.0+ bytes\n"
          ]
        }
      ],
      "source": [
        "df['date'] = pd.to_datetime(df.date, format='%Y-%m-%d')\n",
        "df.info()"
      ]
    },
    {
      "cell_type": "markdown",
      "metadata": {
        "id": "oTa2mabQ-K2i"
      },
      "source": [
        "본문예제11-03"
      ]
    },
    {
      "cell_type": "code",
      "execution_count": 9,
      "metadata": {
        "colab": {
          "base_uri": "https://localhost:8080/"
        },
        "id": "p2AeKZTg2xMC",
        "outputId": "2a88a661-a6ff-4539-e503-aeaa014d2eff"
      },
      "outputs": [
        {
          "name": "stdout",
          "output_type": "stream",
          "text": [
            "<class 'pandas.core.frame.DataFrame'>\n",
            "DatetimeIndex: 3 entries, 2019-01-03 to 2023-01-05\n",
            "Data columns (total 1 columns):\n",
            " #   Column  Non-Null Count  Dtype \n",
            "---  ------  --------------  ----- \n",
            " 0   name    3 non-null      object\n",
            "dtypes: object(1)\n",
            "memory usage: 48.0+ bytes\n"
          ]
        }
      ],
      "source": [
        "df01 = df.set_index(keys=['date'])\n",
        "df01.info()"
      ]
    },
    {
      "cell_type": "markdown",
      "metadata": {
        "id": "rano4Z-R9scU"
      },
      "source": [
        "본문예제11-04"
      ]
    },
    {
      "cell_type": "code",
      "execution_count": 15,
      "metadata": {
        "colab": {
          "base_uri": "https://localhost:8080/"
        },
        "id": "312r_zie39WC",
        "outputId": "25c86116-56c2-454d-832e-1bcc8fe987a1"
      },
      "outputs": [
        {
          "data": {
            "text/plain": [
              "(x1    1\n",
              " dtype: int64,\n",
              "              x1\n",
              " date           \n",
              " 2019-01-03  0.1\n",
              " 2021-11-22  2.0\n",
              " 2021-12-01  NaN\n",
              " 2023-01-05  1.2)"
            ]
          },
          "execution_count": 15,
          "metadata": {},
          "output_type": "execute_result"
        }
      ],
      "source": [
        "df = pd.DataFrame({'date':['2019-01-03', '2021-11-22','2021-12-01','2023-01-05'],'x1':[0.1,2.0,np.nan,1.2]})\n",
        "df['date']=pd.to_datetime(df.date, format='%Y-%m-%d')\n",
        "df01 = df.set_index(keys=['date'])\n",
        "df01.isnull().sum(), df01"
      ]
    },
    {
      "cell_type": "markdown",
      "metadata": {
        "id": "fPhR4YZg9nTZ"
      },
      "source": [
        "본문예제11-05"
      ]
    },
    {
      "cell_type": "code",
      "execution_count": 13,
      "metadata": {
        "colab": {
          "base_uri": "https://localhost:8080/"
        },
        "id": "BXn_Gvwx5uN_",
        "outputId": "eec0f3b9-2a06-4deb-8c1a-911ce1d28c36"
      },
      "outputs": [
        {
          "name": "stdout",
          "output_type": "stream",
          "text": [
            "====================\n",
            "        date   x1\n",
            "0 2019-01-03  0.1\n",
            "1 2021-11-22  2.0\n",
            "2 2021-12-01  2.0\n",
            "3 2023-01-05  1.2\n"
          ]
        }
      ],
      "source": [
        "df=df.fillna(method='ffill')\n",
        "print('=='*10)\n",
        "print(df)"
      ]
    },
    {
      "cell_type": "markdown",
      "metadata": {
        "id": "NEMLcVnx9g0z"
      },
      "source": [
        "본문예제11-06"
      ]
    },
    {
      "cell_type": "code",
      "execution_count": 16,
      "metadata": {
        "colab": {
          "base_uri": "https://localhost:8080/"
        },
        "id": "bHQh8iIH6Iob",
        "outputId": "570a6e2d-147b-45a2-f536-de32e9e88274"
      },
      "outputs": [
        {
          "name": "stdout",
          "output_type": "stream",
          "text": [
            "x1    1\n",
            "dtype: int64\n",
            "             x1\n",
            "date           \n",
            "2019-01-03  0.1\n",
            "2021-11-22  2.0\n",
            "2021-12-01  NaN\n",
            "2023-01-05  1.2\n",
            "             x1\n",
            "date           \n",
            "2019-01-03  0.1\n",
            "2021-11-22  2.0\n",
            "2023-01-05  1.2\n"
          ]
        }
      ],
      "source": [
        "import numpy as np\n",
        "df = pd.DataFrame({'date':['2019-01-03', '2021-11-22','2021-12-01','2023-01-05'],'x1':[0.1,2.0,np.nan,1.2]})\n",
        "df['date']=pd.to_datetime(df.date, format='%Y-%m-%d')\n",
        "df01 = df.set_index(keys=['date'])\n",
        "print(df01.isnull().sum())\n",
        "print(df01)\n",
        "df02=df01.dropna()\n",
        "print(df02)"
      ]
    },
    {
      "cell_type": "markdown",
      "metadata": {
        "id": "Q4oa9b1c9aRj"
      },
      "source": [
        "본문예제 11-07"
      ]
    },
    {
      "cell_type": "code",
      "execution_count": 16,
      "metadata": {
        "colab": {
          "base_uri": "https://localhost:8080/"
        },
        "id": "m4_N1LDe642O",
        "outputId": "f04d5f2c-a302-4057-a7a3-680f12f5ddaf"
      },
      "outputs": [
        {
          "name": "stdout",
          "output_type": "stream",
          "text": [
            "             x1\n",
            "date           \n",
            "2019-01-03  0.1\n",
            "2021-11-22  2.0\n",
            "2021-12-01  NaN\n",
            "2023-01-05  1.2\n",
            "             x1\n",
            "date           \n",
            "2019-01-03  0.1\n",
            "2021-11-22  2.0\n",
            "2021-12-01  1.6\n",
            "2023-01-05  1.2\n"
          ]
        }
      ],
      "source": [
        "import numpy as np\n",
        "df = pd.DataFrame({'date':['2019-01-03', '2021-11-22','2021-12-01','2023-01-05'],'x1':[0.1,2.0,np.nan,1.2]})\n",
        "d['date']=pd.to_datetime(d.date,format='%Y-%m-%d')\n",
        "d.set_index(keys=['date'],inplace=True)\n",
        "print(d)\n",
        "d=d.interpolate()\n",
        "print(d)"
      ]
    },
    {
      "cell_type": "markdown",
      "metadata": {
        "id": "AsFdTpxX-NsP"
      },
      "source": [
        "본문예제11-08"
      ]
    },
    {
      "cell_type": "code",
      "execution_count": 20,
      "metadata": {
        "colab": {
          "base_uri": "https://localhost:8080/"
        },
        "id": "30x0oSk2-M5O",
        "outputId": "f9a2e2c9-c5e5-4e96-88a4-80e870a9c99e"
      },
      "outputs": [
        {
          "name": "stdout",
          "output_type": "stream",
          "text": [
            "DatetimeIndex(['2019-01-03', '2021-11-22', '2021-12-01', '2023-01-05'], dtype='datetime64[ns]', name='date', freq=None)\n"
          ]
        }
      ],
      "source": [
        "import numpy as np\n",
        "d=pd.DataFrame({'date':['2019-01-03', '2021-11-22','2021-12-01','2023-01-05'],\n",
        "'x1':[0.1,2.0,1.6,1.2]})\n",
        "d['date']=pd.to_datetime(d.date,format='%Y-%m-%d')\n",
        "d.set_index(keys=['date'],inplace=True)\n",
        "#인덱스 속성 확인\n",
        "print(d.index)"
      ]
    },
    {
      "cell_type": "markdown",
      "metadata": {
        "id": "QnafzREs_BvG"
      },
      "source": [
        "본문예제11-09"
      ]
    },
    {
      "cell_type": "code",
      "execution_count": 21,
      "metadata": {
        "colab": {
          "base_uri": "https://localhost:8080/"
        },
        "id": "OnMxZk4N_EmI",
        "outputId": "b7879108-dc30-41aa-caf3-40e0f1a17687"
      },
      "outputs": [
        {
          "name": "stdout",
          "output_type": "stream",
          "text": [
            "             x1\n",
            "date           \n",
            "2019-01-03  0.1\n",
            "2021-11-22  2.0\n",
            "2021-12-01  1.6\n",
            "2023-01-05  1.2\n",
            "             x1\n",
            "date           \n",
            "2019-12-31  0.1\n",
            "2020-12-31  0.1\n",
            "2021-12-31  1.6\n",
            "2022-12-31  1.6\n"
          ]
        }
      ],
      "source": [
        "print(d)\n",
        "d2=d.asfreq('Y', method='ffill') #‘Y’ 매년 마지막 일\n",
        "print(d2) # 설정한 주기로 생성된 데이터\n"
      ]
    },
    {
      "cell_type": "markdown",
      "metadata": {
        "id": "KtnUSqxG__6C"
      },
      "source": [
        "본문예제11-10"
      ]
    },
    {
      "cell_type": "code",
      "execution_count": 22,
      "metadata": {
        "colab": {
          "base_uri": "https://localhost:8080/"
        },
        "id": "fO9XP1LzACHO",
        "outputId": "0bcca06c-01cb-49ff-87a8-957569ab8ae8"
      },
      "outputs": [
        {
          "name": "stdout",
          "output_type": "stream",
          "text": [
            "원본\n",
            "========================================\n",
            "            x1\n",
            "date          \n",
            "2021-01-06   5\n",
            "2021-01-13   4\n",
            "2021-01-20   3\n",
            "2021-01-27   2\n",
            "2021-02-03   7\n",
            "========================================\n",
            "             x1\n",
            "date           \n",
            "2021-01-06  5.0\n",
            "2021-01-13  4.0\n",
            "2021-01-20  3.0\n",
            "2021-01-27  2.0\n",
            "2021-02-03  7.0\n",
            "\n",
            "========================================\n",
            "             x1\n",
            "date           \n",
            "2021-01-06  NaN\n",
            "2021-01-13  4.5\n",
            "2021-01-20  3.5\n",
            "2021-01-27  2.5\n",
            "2021-02-03  4.5\n"
          ]
        }
      ],
      "source": [
        "import numpy as np\n",
        "d=pd.DataFrame({'date':['2021-01-06', '2021-01-13', '2021-01-20', '2021-01-27', '2021-02-03'],\n",
        "'x1':[5,4,3,2,7]})\n",
        "d['date']=pd.to_datetime(d.date)\n",
        "d.set_index(keys=['date'],inplace=True)\n",
        "print(\"원본\")\n",
        "print('=='*20)\n",
        "print(d)\n",
        "print('=='*20)\n",
        "tmp=d.rolling(1).mean()\n",
        "print(tmp)\n",
        "print()\n",
        "print('=='*20)\n",
        "tmp=d.rolling(2).mean()\n",
        "print(tmp)\n"
      ]
    },
    {
      "cell_type": "markdown",
      "metadata": {
        "id": "IKk0kvzWB8S5"
      },
      "source": [
        "본문예제11-11"
      ]
    },
    {
      "cell_type": "code",
      "execution_count": 23,
      "metadata": {
        "colab": {
          "base_uri": "https://localhost:8080/"
        },
        "id": "bkGUWioLB_GU",
        "outputId": "7bf015a3-6c6f-4e61-c1bc-1fb9a1c9569d"
      },
      "outputs": [
        {
          "name": "stdout",
          "output_type": "stream",
          "text": [
            "원본\n",
            "========================================\n",
            "            x1\n",
            "date          \n",
            "2021-01-06   5\n",
            "2021-01-13   4\n",
            "2021-01-20   3\n",
            "2021-01-27   2\n",
            "2021-02-03   7\n",
            "========================================\n",
            "            x1  diff\n",
            "date                \n",
            "2021-01-06   5   NaN\n",
            "2021-01-13   4  -1.0\n",
            "2021-01-20   3  -1.0\n",
            "2021-01-27   2  -1.0\n",
            "2021-02-03   7   5.0\n"
          ]
        }
      ],
      "source": [
        "import numpy as np\n",
        "d=pd.DataFrame({'date':['2021-01-06', '2021-01-13', '2021-01-20', '2021-01-27', '2021-02-03'],\n",
        "'x1':[5,4,3,2,7]})\n",
        "d['date']=pd.to_datetime(d.date)\n",
        "d.set_index(keys=['date'],inplace=True)\n",
        "print(\"원본\")\n",
        "print('=='*20)\n",
        "print(d)\n",
        "y_diff=d.diff() # 이전값-이후값\n",
        "y_diff.columns=['diff'] # 컬럼명 만들기\n",
        "temp=pd.concat([d,y_diff],axis=1) # 데이터프레임 열끼리 합치기\n",
        "print('=='*20)\n",
        "print(temp)"
      ]
    },
    {
      "cell_type": "markdown",
      "metadata": {
        "id": "Qu8nymbrCJvF"
      },
      "source": [
        "본문예제11-12"
      ]
    },
    {
      "cell_type": "code",
      "execution_count": 25,
      "metadata": {
        "colab": {
          "base_uri": "https://localhost:8080/"
        },
        "id": "02jZOs-FCMIH",
        "outputId": "16659405-7946-4d77-ea9d-63b6e6fbc027"
      },
      "outputs": [
        {
          "name": "stdout",
          "output_type": "stream",
          "text": [
            "원본\n",
            "========================================\n",
            "            x1\n",
            "date          \n",
            "2021-01-06   5\n",
            "2021-01-13   4\n",
            "2021-01-20   3\n",
            "2021-01-27   2\n",
            "2021-02-03   7\n",
            "========================================\n",
            "            x1  shift\n",
            "date                 \n",
            "2021-01-06   5    NaN\n",
            "2021-01-13   4    NaN\n",
            "2021-01-20   3    5.0\n",
            "2021-01-27   2    4.0\n",
            "2021-02-03   7    3.0\n",
            "========================================\n",
            "            x1  shift\n",
            "date                 \n",
            "2021-01-06   5    5.0\n",
            "2021-01-13   4    5.0\n",
            "2021-01-20   3    5.0\n",
            "2021-01-27   2    4.0\n",
            "2021-02-03   7    3.0\n"
          ]
        }
      ],
      "source": [
        "import numpy as np\n",
        "d=pd.DataFrame({'date':['2021-01-06', '2021-01-13', '2021-01-20', '2021-01-27', '2021-02-03'],\n",
        "'x1':[5,4,3,2,7]})\n",
        "d['date']=pd.to_datetime(d.date)\n",
        "d.set_index(keys=['date'],inplace=True)\n",
        "print(\"원본\")\n",
        "print('=='*20)\n",
        "print(d)\n",
        "print('=='*20)\n",
        "d['shift']=d['x1'].shift(2)\n",
        "print(d)\n",
        "print('=='*20)\n",
        "d=d.fillna(method='bfill')\n",
        "print(d)"
      ]
    },
    {
      "cell_type": "markdown",
      "metadata": {
        "id": "48shmZv2Egz1"
      },
      "source": [
        "본문예제11-12"
      ]
    },
    {
      "cell_type": "code",
      "execution_count": 27,
      "metadata": {
        "colab": {
          "base_uri": "https://localhost:8080/"
        },
        "id": "LJfFbjKTEpMU",
        "outputId": "bfb32a98-f450-40f7-f900-4085bf76c891"
      },
      "outputs": [
        {
          "name": "stdout",
          "output_type": "stream",
          "text": [
            "원본\n",
            "========================================\n",
            "            x1 과목\n",
            "date             \n",
            "2021-01-06   5  a\n",
            "2021-01-13   4  b\n",
            "2021-01-20   3  c\n",
            "2021-01-27   2  d\n",
            "2021-02-03   7  e\n",
            "========================================\n",
            "            x1 과목  a  b  c  d  e\n",
            "date                            \n",
            "2021-01-06   5  a  1  0  0  0  0\n",
            "2021-01-13   4  b  0  1  0  0  0\n",
            "2021-01-20   3  c  0  0  1  0  0\n",
            "2021-01-27   2  d  0  0  0  1  0\n",
            "2021-02-03   7  e  0  0  0  0  1\n"
          ]
        }
      ],
      "source": [
        "import numpy as np\n",
        "d=pd.DataFrame({'date':['2021-01-06', '2021-01-13', '2021-01-20', '2021-01-27', '2021-02-03'], 'x1':[5,4,3,2,7],'과목':['a','b','c','d','e']})\n",
        "d['date']=pd.to_datetime(d.date)\n",
        "d.set_index(keys=['date'],inplace=True)\n",
        "print(\"원본\")\n",
        "print('=='*20)\n",
        "print(d)\n",
        "x=pd.get_dummies(d['과목'])\n",
        "x=pd.concat([d,x],axis=1)\n",
        "print('=='*20)\n",
        "print(x)"
      ]
    }
  ],
  "metadata": {
    "colab": {
      "provenance": []
    },
    "kernelspec": {
      "display_name": "Python 3",
      "name": "python3"
    },
    "language_info": {
      "codemirror_mode": {
        "name": "ipython",
        "version": 3
      },
      "file_extension": ".py",
      "mimetype": "text/x-python",
      "name": "python",
      "nbconvert_exporter": "python",
      "pygments_lexer": "ipython3",
      "version": "3.9.13"
    }
  },
  "nbformat": 4,
  "nbformat_minor": 0
}
