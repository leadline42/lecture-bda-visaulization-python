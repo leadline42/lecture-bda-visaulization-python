{
  "cells": [
    {
      "cell_type": "markdown",
      "metadata": {},
      "source": [
        "# No-show 발생률을 줄일 수 있는 아이디어?"
      ]
    },
    {
      "cell_type": "code",
      "execution_count": 1,
      "metadata": {
        "id": "Qi9N7pb6CxMh"
      },
      "outputs": [],
      "source": [
        "import pandas as pd\n",
        "import numpy as np\n",
        "import matplotlib.pyplot as plt\n",
        "import seaborn as sns\n",
        "\n",
        "import os"
      ]
    },
    {
      "cell_type": "markdown",
      "metadata": {},
      "source": [
        "## 1. 데이터 로딩"
      ]
    },
    {
      "cell_type": "code",
      "execution_count": 4,
      "metadata": {
        "id": "cOOki2x_NTI5"
      },
      "outputs": [
        {
          "name": "stdout",
          "output_type": "stream",
          "text": [
            "['medical.csv']\n"
          ]
        }
      ],
      "source": [
        "file_path = './Data01/'\n",
        "file_list = os.listdir(file_path)\n",
        "print(file_list)"
      ]
    },
    {
      "cell_type": "code",
      "execution_count": 5,
      "metadata": {
        "colab": {
          "base_uri": "https://localhost:8080/",
          "height": 206
        },
        "id": "ybXhuMLsN5xF",
        "outputId": "cd044833-faac-4a22-a7e3-0774a04a6fd8"
      },
      "outputs": [
        {
          "name": "stdout",
          "output_type": "stream",
          "text": [
            "<class 'pandas.core.frame.DataFrame'>\n",
            "RangeIndex: 110527 entries, 0 to 110526\n",
            "Data columns (total 9 columns):\n",
            " #   Column          Non-Null Count   Dtype  \n",
            "---  ------          --------------   -----  \n",
            " 0   PatientId       110527 non-null  float64\n",
            " 1   AppointmentID   110527 non-null  int64  \n",
            " 2   Gender          110527 non-null  object \n",
            " 3   ScheduledDay    110527 non-null  object \n",
            " 4   AppointmentDay  110527 non-null  object \n",
            " 5   Age             110527 non-null  int64  \n",
            " 6   Neighbourhood   110527 non-null  object \n",
            " 7   SMS_received    110527 non-null  int64  \n",
            " 8   No-show         110527 non-null  object \n",
            "dtypes: float64(1), int64(3), object(5)\n",
            "memory usage: 7.6+ MB\n"
          ]
        },
        {
          "data": {
            "text/html": [
              "<div>\n",
              "<style scoped>\n",
              "    .dataframe tbody tr th:only-of-type {\n",
              "        vertical-align: middle;\n",
              "    }\n",
              "\n",
              "    .dataframe tbody tr th {\n",
              "        vertical-align: top;\n",
              "    }\n",
              "\n",
              "    .dataframe thead th {\n",
              "        text-align: right;\n",
              "    }\n",
              "</style>\n",
              "<table border=\"1\" class=\"dataframe\">\n",
              "  <thead>\n",
              "    <tr style=\"text-align: right;\">\n",
              "      <th></th>\n",
              "      <th>PatientId</th>\n",
              "      <th>AppointmentID</th>\n",
              "      <th>Gender</th>\n",
              "      <th>ScheduledDay</th>\n",
              "      <th>AppointmentDay</th>\n",
              "      <th>Age</th>\n",
              "      <th>Neighbourhood</th>\n",
              "      <th>SMS_received</th>\n",
              "      <th>No-show</th>\n",
              "    </tr>\n",
              "  </thead>\n",
              "  <tbody>\n",
              "    <tr>\n",
              "      <th>0</th>\n",
              "      <td>2.990000e+13</td>\n",
              "      <td>5642903</td>\n",
              "      <td>F</td>\n",
              "      <td>2016-04-29T18:38:08Z</td>\n",
              "      <td>2016-04-29T00:00:00Z</td>\n",
              "      <td>62</td>\n",
              "      <td>JARDIM DA PENHA</td>\n",
              "      <td>0</td>\n",
              "      <td>No</td>\n",
              "    </tr>\n",
              "    <tr>\n",
              "      <th>1</th>\n",
              "      <td>5.590000e+14</td>\n",
              "      <td>5642503</td>\n",
              "      <td>M</td>\n",
              "      <td>2016-04-29T16:08:27Z</td>\n",
              "      <td>2016-04-29T00:00:00Z</td>\n",
              "      <td>56</td>\n",
              "      <td>JARDIM DA PENHA</td>\n",
              "      <td>0</td>\n",
              "      <td>No</td>\n",
              "    </tr>\n",
              "    <tr>\n",
              "      <th>2</th>\n",
              "      <td>4.260000e+12</td>\n",
              "      <td>5642549</td>\n",
              "      <td>F</td>\n",
              "      <td>2016-04-29T16:19:04Z</td>\n",
              "      <td>2016-04-29T00:00:00Z</td>\n",
              "      <td>62</td>\n",
              "      <td>MATA DA PRAIA</td>\n",
              "      <td>0</td>\n",
              "      <td>No</td>\n",
              "    </tr>\n",
              "    <tr>\n",
              "      <th>3</th>\n",
              "      <td>8.680000e+11</td>\n",
              "      <td>5642828</td>\n",
              "      <td>F</td>\n",
              "      <td>2016-04-29T17:29:31Z</td>\n",
              "      <td>2016-04-29T00:00:00Z</td>\n",
              "      <td>8</td>\n",
              "      <td>PONTAL DE CAMBURI</td>\n",
              "      <td>0</td>\n",
              "      <td>No</td>\n",
              "    </tr>\n",
              "    <tr>\n",
              "      <th>4</th>\n",
              "      <td>8.840000e+12</td>\n",
              "      <td>5642494</td>\n",
              "      <td>F</td>\n",
              "      <td>2016-04-29T16:07:23Z</td>\n",
              "      <td>2016-04-29T00:00:00Z</td>\n",
              "      <td>56</td>\n",
              "      <td>JARDIM DA PENHA</td>\n",
              "      <td>0</td>\n",
              "      <td>No</td>\n",
              "    </tr>\n",
              "  </tbody>\n",
              "</table>\n",
              "</div>"
            ],
            "text/plain": [
              "      PatientId  AppointmentID Gender          ScheduledDay  \\\n",
              "0  2.990000e+13        5642903      F  2016-04-29T18:38:08Z   \n",
              "1  5.590000e+14        5642503      M  2016-04-29T16:08:27Z   \n",
              "2  4.260000e+12        5642549      F  2016-04-29T16:19:04Z   \n",
              "3  8.680000e+11        5642828      F  2016-04-29T17:29:31Z   \n",
              "4  8.840000e+12        5642494      F  2016-04-29T16:07:23Z   \n",
              "\n",
              "         AppointmentDay  Age      Neighbourhood  SMS_received No-show  \n",
              "0  2016-04-29T00:00:00Z   62    JARDIM DA PENHA             0      No  \n",
              "1  2016-04-29T00:00:00Z   56    JARDIM DA PENHA             0      No  \n",
              "2  2016-04-29T00:00:00Z   62      MATA DA PRAIA             0      No  \n",
              "3  2016-04-29T00:00:00Z    8  PONTAL DE CAMBURI             0      No  \n",
              "4  2016-04-29T00:00:00Z   56    JARDIM DA PENHA             0      No  "
            ]
          },
          "execution_count": 5,
          "metadata": {},
          "output_type": "execute_result"
        }
      ],
      "source": [
        "df_rawdata_medical = pd.read_csv(file_path+file_list[0])\n",
        "df_rawdata_medical.info()\n",
        "df_rawdata_medical.head()"
      ]
    },
    {
      "cell_type": "markdown",
      "metadata": {},
      "source": [
        "## 2. 기초 통계와 Na값 확인"
      ]
    },
    {
      "cell_type": "code",
      "execution_count": 7,
      "metadata": {
        "colab": {
          "base_uri": "https://localhost:8080/",
          "height": 300
        },
        "id": "PdKSnFCTPM-k",
        "outputId": "3a7f2c5a-da42-4cbe-ec7c-641888bdc7f9"
      },
      "outputs": [
        {
          "data": {
            "text/html": [
              "<div>\n",
              "<style scoped>\n",
              "    .dataframe tbody tr th:only-of-type {\n",
              "        vertical-align: middle;\n",
              "    }\n",
              "\n",
              "    .dataframe tbody tr th {\n",
              "        vertical-align: top;\n",
              "    }\n",
              "\n",
              "    .dataframe thead th {\n",
              "        text-align: right;\n",
              "    }\n",
              "</style>\n",
              "<table border=\"1\" class=\"dataframe\">\n",
              "  <thead>\n",
              "    <tr style=\"text-align: right;\">\n",
              "      <th></th>\n",
              "      <th>PatientId</th>\n",
              "      <th>AppointmentID</th>\n",
              "      <th>Gender</th>\n",
              "      <th>ScheduledDay</th>\n",
              "      <th>AppointmentDay</th>\n",
              "      <th>Age</th>\n",
              "      <th>Neighbourhood</th>\n",
              "      <th>SMS_received</th>\n",
              "      <th>No-show</th>\n",
              "    </tr>\n",
              "  </thead>\n",
              "  <tbody>\n",
              "    <tr>\n",
              "      <th>count</th>\n",
              "      <td>1.105270e+05</td>\n",
              "      <td>1.105270e+05</td>\n",
              "      <td>110527</td>\n",
              "      <td>110527</td>\n",
              "      <td>110527</td>\n",
              "      <td>110527.000000</td>\n",
              "      <td>110527</td>\n",
              "      <td>110527.000000</td>\n",
              "      <td>110527</td>\n",
              "    </tr>\n",
              "    <tr>\n",
              "      <th>unique</th>\n",
              "      <td>NaN</td>\n",
              "      <td>NaN</td>\n",
              "      <td>2</td>\n",
              "      <td>103549</td>\n",
              "      <td>27</td>\n",
              "      <td>NaN</td>\n",
              "      <td>81</td>\n",
              "      <td>NaN</td>\n",
              "      <td>2</td>\n",
              "    </tr>\n",
              "    <tr>\n",
              "      <th>top</th>\n",
              "      <td>NaN</td>\n",
              "      <td>NaN</td>\n",
              "      <td>F</td>\n",
              "      <td>2016-05-06T07:09:54Z</td>\n",
              "      <td>2016-06-06T00:00:00Z</td>\n",
              "      <td>NaN</td>\n",
              "      <td>JARDIM CAMBURI</td>\n",
              "      <td>NaN</td>\n",
              "      <td>No</td>\n",
              "    </tr>\n",
              "    <tr>\n",
              "      <th>freq</th>\n",
              "      <td>NaN</td>\n",
              "      <td>NaN</td>\n",
              "      <td>71840</td>\n",
              "      <td>24</td>\n",
              "      <td>4692</td>\n",
              "      <td>NaN</td>\n",
              "      <td>7717</td>\n",
              "      <td>NaN</td>\n",
              "      <td>88208</td>\n",
              "    </tr>\n",
              "    <tr>\n",
              "      <th>mean</th>\n",
              "      <td>1.474961e+14</td>\n",
              "      <td>5.675305e+06</td>\n",
              "      <td>NaN</td>\n",
              "      <td>NaN</td>\n",
              "      <td>NaN</td>\n",
              "      <td>37.088874</td>\n",
              "      <td>NaN</td>\n",
              "      <td>0.321026</td>\n",
              "      <td>NaN</td>\n",
              "    </tr>\n",
              "    <tr>\n",
              "      <th>std</th>\n",
              "      <td>2.560943e+14</td>\n",
              "      <td>7.129575e+04</td>\n",
              "      <td>NaN</td>\n",
              "      <td>NaN</td>\n",
              "      <td>NaN</td>\n",
              "      <td>23.110205</td>\n",
              "      <td>NaN</td>\n",
              "      <td>0.466873</td>\n",
              "      <td>NaN</td>\n",
              "    </tr>\n",
              "    <tr>\n",
              "      <th>min</th>\n",
              "      <td>3.920000e+04</td>\n",
              "      <td>5.030230e+06</td>\n",
              "      <td>NaN</td>\n",
              "      <td>NaN</td>\n",
              "      <td>NaN</td>\n",
              "      <td>-1.000000</td>\n",
              "      <td>NaN</td>\n",
              "      <td>0.000000</td>\n",
              "      <td>NaN</td>\n",
              "    </tr>\n",
              "    <tr>\n",
              "      <th>25%</th>\n",
              "      <td>4.170000e+12</td>\n",
              "      <td>5.640286e+06</td>\n",
              "      <td>NaN</td>\n",
              "      <td>NaN</td>\n",
              "      <td>NaN</td>\n",
              "      <td>18.000000</td>\n",
              "      <td>NaN</td>\n",
              "      <td>0.000000</td>\n",
              "      <td>NaN</td>\n",
              "    </tr>\n",
              "    <tr>\n",
              "      <th>50%</th>\n",
              "      <td>3.170000e+13</td>\n",
              "      <td>5.680573e+06</td>\n",
              "      <td>NaN</td>\n",
              "      <td>NaN</td>\n",
              "      <td>NaN</td>\n",
              "      <td>37.000000</td>\n",
              "      <td>NaN</td>\n",
              "      <td>0.000000</td>\n",
              "      <td>NaN</td>\n",
              "    </tr>\n",
              "    <tr>\n",
              "      <th>75%</th>\n",
              "      <td>9.440000e+13</td>\n",
              "      <td>5.725524e+06</td>\n",
              "      <td>NaN</td>\n",
              "      <td>NaN</td>\n",
              "      <td>NaN</td>\n",
              "      <td>55.000000</td>\n",
              "      <td>NaN</td>\n",
              "      <td>1.000000</td>\n",
              "      <td>NaN</td>\n",
              "    </tr>\n",
              "    <tr>\n",
              "      <th>max</th>\n",
              "      <td>1.000000e+15</td>\n",
              "      <td>5.790484e+06</td>\n",
              "      <td>NaN</td>\n",
              "      <td>NaN</td>\n",
              "      <td>NaN</td>\n",
              "      <td>115.000000</td>\n",
              "      <td>NaN</td>\n",
              "      <td>1.000000</td>\n",
              "      <td>NaN</td>\n",
              "    </tr>\n",
              "  </tbody>\n",
              "</table>\n",
              "</div>"
            ],
            "text/plain": [
              "           PatientId  AppointmentID  Gender          ScheduledDay  \\\n",
              "count   1.105270e+05   1.105270e+05  110527                110527   \n",
              "unique           NaN            NaN       2                103549   \n",
              "top              NaN            NaN       F  2016-05-06T07:09:54Z   \n",
              "freq             NaN            NaN   71840                    24   \n",
              "mean    1.474961e+14   5.675305e+06     NaN                   NaN   \n",
              "std     2.560943e+14   7.129575e+04     NaN                   NaN   \n",
              "min     3.920000e+04   5.030230e+06     NaN                   NaN   \n",
              "25%     4.170000e+12   5.640286e+06     NaN                   NaN   \n",
              "50%     3.170000e+13   5.680573e+06     NaN                   NaN   \n",
              "75%     9.440000e+13   5.725524e+06     NaN                   NaN   \n",
              "max     1.000000e+15   5.790484e+06     NaN                   NaN   \n",
              "\n",
              "              AppointmentDay            Age   Neighbourhood   SMS_received  \\\n",
              "count                 110527  110527.000000          110527  110527.000000   \n",
              "unique                    27            NaN              81            NaN   \n",
              "top     2016-06-06T00:00:00Z            NaN  JARDIM CAMBURI            NaN   \n",
              "freq                    4692            NaN            7717            NaN   \n",
              "mean                     NaN      37.088874             NaN       0.321026   \n",
              "std                      NaN      23.110205             NaN       0.466873   \n",
              "min                      NaN      -1.000000             NaN       0.000000   \n",
              "25%                      NaN      18.000000             NaN       0.000000   \n",
              "50%                      NaN      37.000000             NaN       0.000000   \n",
              "75%                      NaN      55.000000             NaN       1.000000   \n",
              "max                      NaN     115.000000             NaN       1.000000   \n",
              "\n",
              "       No-show  \n",
              "count   110527  \n",
              "unique       2  \n",
              "top         No  \n",
              "freq     88208  \n",
              "mean       NaN  \n",
              "std        NaN  \n",
              "min        NaN  \n",
              "25%        NaN  \n",
              "50%        NaN  \n",
              "75%        NaN  \n",
              "max        NaN  "
            ]
          },
          "execution_count": 7,
          "metadata": {},
          "output_type": "execute_result"
        }
      ],
      "source": [
        "df_rawdata_medical.describe(include='all')"
      ]
    },
    {
      "cell_type": "code",
      "execution_count": 10,
      "metadata": {},
      "outputs": [
        {
          "data": {
            "text/html": [
              "<div>\n",
              "<style scoped>\n",
              "    .dataframe tbody tr th:only-of-type {\n",
              "        vertical-align: middle;\n",
              "    }\n",
              "\n",
              "    .dataframe tbody tr th {\n",
              "        vertical-align: top;\n",
              "    }\n",
              "\n",
              "    .dataframe thead th {\n",
              "        text-align: right;\n",
              "    }\n",
              "</style>\n",
              "<table border=\"1\" class=\"dataframe\">\n",
              "  <thead>\n",
              "    <tr style=\"text-align: right;\">\n",
              "      <th></th>\n",
              "      <th>0</th>\n",
              "      <th>1</th>\n",
              "    </tr>\n",
              "  </thead>\n",
              "  <tbody>\n",
              "    <tr>\n",
              "      <th>PatientId</th>\n",
              "      <td>0</td>\n",
              "      <td>False</td>\n",
              "    </tr>\n",
              "    <tr>\n",
              "      <th>AppointmentID</th>\n",
              "      <td>0</td>\n",
              "      <td>False</td>\n",
              "    </tr>\n",
              "    <tr>\n",
              "      <th>Gender</th>\n",
              "      <td>0</td>\n",
              "      <td>False</td>\n",
              "    </tr>\n",
              "    <tr>\n",
              "      <th>ScheduledDay</th>\n",
              "      <td>0</td>\n",
              "      <td>False</td>\n",
              "    </tr>\n",
              "    <tr>\n",
              "      <th>AppointmentDay</th>\n",
              "      <td>0</td>\n",
              "      <td>False</td>\n",
              "    </tr>\n",
              "    <tr>\n",
              "      <th>Age</th>\n",
              "      <td>0</td>\n",
              "      <td>False</td>\n",
              "    </tr>\n",
              "    <tr>\n",
              "      <th>Neighbourhood</th>\n",
              "      <td>0</td>\n",
              "      <td>False</td>\n",
              "    </tr>\n",
              "    <tr>\n",
              "      <th>SMS_received</th>\n",
              "      <td>0</td>\n",
              "      <td>False</td>\n",
              "    </tr>\n",
              "    <tr>\n",
              "      <th>No-show</th>\n",
              "      <td>0</td>\n",
              "      <td>False</td>\n",
              "    </tr>\n",
              "  </tbody>\n",
              "</table>\n",
              "</div>"
            ],
            "text/plain": [
              "                0      1\n",
              "PatientId       0  False\n",
              "AppointmentID   0  False\n",
              "Gender          0  False\n",
              "ScheduledDay    0  False\n",
              "AppointmentDay  0  False\n",
              "Age             0  False\n",
              "Neighbourhood   0  False\n",
              "SMS_received    0  False\n",
              "No-show         0  False"
            ]
          },
          "execution_count": 10,
          "metadata": {},
          "output_type": "execute_result"
        }
      ],
      "source": [
        "# 열별 행방향 중 하나라도 널값이 있는지 조사\n",
        "pd.concat([df_rawdata_medical.isnull().sum(), df_rawdata_medical.isnull().any(axis=0)], axis=1)\n",
        "# pd.concat([df_rawdata_medical.notnull().sum(), df_rawdata_medical.notnull().any(axis=0)], axis=1)"
      ]
    },
    {
      "cell_type": "code",
      "execution_count": 12,
      "metadata": {
        "colab": {
          "base_uri": "https://localhost:8080/"
        },
        "id": "qxtraTzpO0Ey",
        "outputId": "430e285e-1f0d-4d35-b5bf-ceef395ec454"
      },
      "outputs": [
        {
          "data": {
            "text/html": [
              "<div>\n",
              "<style scoped>\n",
              "    .dataframe tbody tr th:only-of-type {\n",
              "        vertical-align: middle;\n",
              "    }\n",
              "\n",
              "    .dataframe tbody tr th {\n",
              "        vertical-align: top;\n",
              "    }\n",
              "\n",
              "    .dataframe thead th {\n",
              "        text-align: right;\n",
              "    }\n",
              "</style>\n",
              "<table border=\"1\" class=\"dataframe\">\n",
              "  <thead>\n",
              "    <tr style=\"text-align: right;\">\n",
              "      <th></th>\n",
              "      <th>0</th>\n",
              "      <th>1</th>\n",
              "    </tr>\n",
              "  </thead>\n",
              "  <tbody>\n",
              "    <tr>\n",
              "      <th>0</th>\n",
              "      <td>9</td>\n",
              "      <td>True</td>\n",
              "    </tr>\n",
              "    <tr>\n",
              "      <th>1</th>\n",
              "      <td>9</td>\n",
              "      <td>True</td>\n",
              "    </tr>\n",
              "    <tr>\n",
              "      <th>2</th>\n",
              "      <td>9</td>\n",
              "      <td>True</td>\n",
              "    </tr>\n",
              "    <tr>\n",
              "      <th>3</th>\n",
              "      <td>9</td>\n",
              "      <td>True</td>\n",
              "    </tr>\n",
              "    <tr>\n",
              "      <th>4</th>\n",
              "      <td>9</td>\n",
              "      <td>True</td>\n",
              "    </tr>\n",
              "    <tr>\n",
              "      <th>...</th>\n",
              "      <td>...</td>\n",
              "      <td>...</td>\n",
              "    </tr>\n",
              "    <tr>\n",
              "      <th>110522</th>\n",
              "      <td>9</td>\n",
              "      <td>True</td>\n",
              "    </tr>\n",
              "    <tr>\n",
              "      <th>110523</th>\n",
              "      <td>9</td>\n",
              "      <td>True</td>\n",
              "    </tr>\n",
              "    <tr>\n",
              "      <th>110524</th>\n",
              "      <td>9</td>\n",
              "      <td>True</td>\n",
              "    </tr>\n",
              "    <tr>\n",
              "      <th>110525</th>\n",
              "      <td>9</td>\n",
              "      <td>True</td>\n",
              "    </tr>\n",
              "    <tr>\n",
              "      <th>110526</th>\n",
              "      <td>9</td>\n",
              "      <td>True</td>\n",
              "    </tr>\n",
              "  </tbody>\n",
              "</table>\n",
              "<p>110527 rows × 2 columns</p>\n",
              "</div>"
            ],
            "text/plain": [
              "        0     1\n",
              "0       9  True\n",
              "1       9  True\n",
              "2       9  True\n",
              "3       9  True\n",
              "4       9  True\n",
              "...    ..   ...\n",
              "110522  9  True\n",
              "110523  9  True\n",
              "110524  9  True\n",
              "110525  9  True\n",
              "110526  9  True\n",
              "\n",
              "[110527 rows x 2 columns]"
            ]
          },
          "execution_count": 12,
          "metadata": {},
          "output_type": "execute_result"
        }
      ],
      "source": [
        "# 행별 열방향 중 하나라도 널값이 있는지 조사\n",
        "pd.concat([df_rawdata_medical.T.isna().sum(), df_rawdata_medical.isna().any(axis=1)], axis=1)\n",
        "# pd.concat([df_rawdata_medical.T.notna().sum(), df_rawdata_medical.notna().any(axis=1)], axis=1)"
      ]
    },
    {
      "cell_type": "markdown",
      "metadata": {},
      "source": [
        "## 3. 데이터 전처리\n",
        " - 파생변수(새로운 변수) 생성\n",
        " - 이상치 제거"
      ]
    },
    {
      "cell_type": "markdown",
      "metadata": {},
      "source": [
        "### 3-1. 나이의 이상값 제거"
      ]
    },
    {
      "cell_type": "code",
      "execution_count": 13,
      "metadata": {},
      "outputs": [
        {
          "name": "stdout",
          "output_type": "stream",
          "text": [
            "count    110527.000000\n",
            "mean         37.088874\n",
            "std          23.110205\n",
            "min          -1.000000\n",
            "25%          18.000000\n",
            "50%          37.000000\n",
            "75%          55.000000\n",
            "max         115.000000\n",
            "Name: Age, dtype: float64\n"
          ]
        },
        {
          "data": {
            "image/png": "[encoded data removed]",
            "text/plain": [
              "<Figure size 1500x200 with 1 Axes>"
            ]
          },
          "metadata": {},
          "output_type": "display_data"
        }
      ],
      "source": [
        "print(df_rawdata_medical.Age.describe())\n",
        "\n",
        "fig, ax = plt.subplots()\n",
        "fig.set_size_inches(15,2)\n",
        "\n",
        "sns.boxplot(x = df_rawdata_medical.Age) \n",
        "\n",
        "plt.show()"
      ]
    },
    {
      "cell_type": "code",
      "execution_count": 14,
      "metadata": {
        "id": "J8hO9k0hPnP2"
      },
      "outputs": [
        {
          "data": {
            "text/plain": [
              "99832   -1\n",
              "Name: Age, dtype: int64"
            ]
          },
          "execution_count": 14,
          "metadata": {},
          "output_type": "execute_result"
        }
      ],
      "source": [
        "# 나이의 최소 이상값 제거: 상식에 근거함\n",
        "outlier_age_idx = df_rawdata_medical[df_rawdata_medical.Age < 0].index\n",
        "df_rawdata_medical.Age[outlier_age_idx]"
      ]
    },
    {
      "cell_type": "code",
      "execution_count": 15,
      "metadata": {},
      "outputs": [
        {
          "data": {
            "text/plain": [
              "count    110526.000000\n",
              "mean         37.089219\n",
              "std          23.110026\n",
              "min           0.000000\n",
              "25%          18.000000\n",
              "50%          37.000000\n",
              "75%          55.000000\n",
              "max         115.000000\n",
              "Name: Age, dtype: float64"
            ]
          },
          "execution_count": 15,
          "metadata": {},
          "output_type": "execute_result"
        }
      ],
      "source": [
        "df_mod00_medical = df_rawdata_medical.drop(outlier_age_idx, axis=0)\n",
        "df_mod00_medical.Age.describe()"
      ]
    },
    {
      "cell_type": "code",
      "execution_count": 16,
      "metadata": {},
      "outputs": [
        {
          "name": "stdout",
          "output_type": "stream",
          "text": [
            "Q1: 18.0, 18.0\n",
            "Q3: 55.0, 55.0\n",
            "IQR(InterQuantile Range): 37.0\n",
            "Box min: -37.5, Box max: 110.5\n",
            "Int64Index([63912, 63915, 68127, 76284, 97666], dtype='int64')\n"
          ]
        },
        {
          "data": {
            "text/plain": [
              "63912    115\n",
              "63915    115\n",
              "68127    115\n",
              "76284    115\n",
              "97666    115\n",
              "Name: Age, dtype: int64"
            ]
          },
          "execution_count": 16,
          "metadata": {},
          "output_type": "execute_result"
        }
      ],
      "source": [
        "# 나이의 최소 이상값 제거: 상식에 근거함\n",
        "def detect_outlier(sr): #Series로 입력\n",
        "    sr_desc = sr.describe()\n",
        "    temp_Q1 = sr_desc[4]\n",
        "    temp_Q1_numpy = np.percentile(sr, 25)\n",
        "    temp_Q3 = sr_desc[6]\n",
        "    temp_Q3_numpy = np.percentile(sr, 75)\n",
        "    # IQR: Q3-Q1\n",
        "    temp_IQR = temp_Q3 - temp_Q1\n",
        "    # 최소값: Q1-1.5*IQR, 최대값: Q3+1.5*IQR\n",
        "    temp_min = temp_Q1 - (1.5*temp_IQR)\n",
        "    temp_max = temp_Q3 + (1.5*temp_IQR)\n",
        "    print(f'Q1: {temp_Q1}, {temp_Q1_numpy}\\nQ3: {temp_Q3}, {temp_Q3_numpy}')\n",
        "    print(f'IQR(InterQuantile Range): {temp_IQR}')\n",
        "    print(f'Box min: {temp_min}, Box max: {temp_max}')\n",
        "    outlier_idx = sr[(sr < temp_min) | (sr > temp_max)].index\n",
        "    return outlier_idx\n",
        "\n",
        "outlier_idx = detect_outlier(df_mod00_medical.Age)\n",
        "print(outlier_idx)\n",
        "df_mod00_medical.Age[outlier_idx]"
      ]
    },
    {
      "cell_type": "code",
      "execution_count": 17,
      "metadata": {},
      "outputs": [
        {
          "data": {
            "text/plain": [
              "count    110521.000000\n",
              "mean         37.085694\n",
              "std          23.104606\n",
              "min           0.000000\n",
              "25%          18.000000\n",
              "50%          37.000000\n",
              "75%          55.000000\n",
              "max         102.000000\n",
              "Name: Age, dtype: float64"
            ]
          },
          "execution_count": 17,
          "metadata": {},
          "output_type": "execute_result"
        }
      ],
      "source": [
        "df_mod01_medical = df_mod00_medical.drop(outlier_idx, axis=0)\n",
        "df_mod01_medical.Age.describe()"
      ]
    },
    {
      "cell_type": "code",
      "execution_count": 18,
      "metadata": {},
      "outputs": [
        {
          "data": {
            "text/html": [
              "<div>\n",
              "<style scoped>\n",
              "    .dataframe tbody tr th:only-of-type {\n",
              "        vertical-align: middle;\n",
              "    }\n",
              "\n",
              "    .dataframe tbody tr th {\n",
              "        vertical-align: top;\n",
              "    }\n",
              "\n",
              "    .dataframe thead th {\n",
              "        text-align: right;\n",
              "    }\n",
              "</style>\n",
              "<table border=\"1\" class=\"dataframe\">\n",
              "  <thead>\n",
              "    <tr style=\"text-align: right;\">\n",
              "      <th></th>\n",
              "      <th>Age</th>\n",
              "      <th>Age</th>\n",
              "      <th>Age</th>\n",
              "    </tr>\n",
              "  </thead>\n",
              "  <tbody>\n",
              "    <tr>\n",
              "      <th>count</th>\n",
              "      <td>110527.000000</td>\n",
              "      <td>110526.000000</td>\n",
              "      <td>110521.000000</td>\n",
              "    </tr>\n",
              "    <tr>\n",
              "      <th>mean</th>\n",
              "      <td>37.088874</td>\n",
              "      <td>37.089219</td>\n",
              "      <td>37.085694</td>\n",
              "    </tr>\n",
              "    <tr>\n",
              "      <th>std</th>\n",
              "      <td>23.110205</td>\n",
              "      <td>23.110026</td>\n",
              "      <td>23.104606</td>\n",
              "    </tr>\n",
              "    <tr>\n",
              "      <th>min</th>\n",
              "      <td>-1.000000</td>\n",
              "      <td>0.000000</td>\n",
              "      <td>0.000000</td>\n",
              "    </tr>\n",
              "    <tr>\n",
              "      <th>25%</th>\n",
              "      <td>18.000000</td>\n",
              "      <td>18.000000</td>\n",
              "      <td>18.000000</td>\n",
              "    </tr>\n",
              "    <tr>\n",
              "      <th>50%</th>\n",
              "      <td>37.000000</td>\n",
              "      <td>37.000000</td>\n",
              "      <td>37.000000</td>\n",
              "    </tr>\n",
              "    <tr>\n",
              "      <th>75%</th>\n",
              "      <td>55.000000</td>\n",
              "      <td>55.000000</td>\n",
              "      <td>55.000000</td>\n",
              "    </tr>\n",
              "    <tr>\n",
              "      <th>max</th>\n",
              "      <td>115.000000</td>\n",
              "      <td>115.000000</td>\n",
              "      <td>102.000000</td>\n",
              "    </tr>\n",
              "  </tbody>\n",
              "</table>\n",
              "</div>"
            ],
            "text/plain": [
              "                 Age            Age            Age\n",
              "count  110527.000000  110526.000000  110521.000000\n",
              "mean       37.088874      37.089219      37.085694\n",
              "std        23.110205      23.110026      23.104606\n",
              "min        -1.000000       0.000000       0.000000\n",
              "25%        18.000000      18.000000      18.000000\n",
              "50%        37.000000      37.000000      37.000000\n",
              "75%        55.000000      55.000000      55.000000\n",
              "max       115.000000     115.000000     102.000000"
            ]
          },
          "execution_count": 18,
          "metadata": {},
          "output_type": "execute_result"
        }
      ],
      "source": [
        "pd.concat([df_rawdata_medical.Age.describe(), df_mod00_medical.Age.describe(), df_mod01_medical.Age.describe()], axis=1)"
      ]
    },
    {
      "cell_type": "markdown",
      "metadata": {},
      "source": [
        "### 3-2. No-Show 값을 Binary 숫자로 변경"
      ]
    },
    {
      "cell_type": "code",
      "execution_count": 19,
      "metadata": {},
      "outputs": [
        {
          "data": {
            "text/plain": [
              "No     88205\n",
              "Yes    22316\n",
              "Name: No-show, dtype: int64"
            ]
          },
          "execution_count": 19,
          "metadata": {},
          "output_type": "execute_result"
        }
      ],
      "source": [
        "df_mod01_medical['No-show'].value_counts()"
      ]
    },
    {
      "cell_type": "code",
      "execution_count": 34,
      "metadata": {
        "id": "RxjUYVyeQoX4"
      },
      "outputs": [],
      "source": [
        "df_mod02_medical = df_mod01_medical.copy()"
      ]
    },
    {
      "cell_type": "code",
      "execution_count": 35,
      "metadata": {},
      "outputs": [],
      "source": [
        "# Series의 Map을 활용\n",
        "# df_mod02_medical['No-show'] = df_mod02_medical['No-show'].map({'Yes':1,'No':0})\n",
        "\n",
        "# Series의 str.replace를 활용\n",
        "# df_mod02_medical['No-show'] = df_mod02_medical['No-show'].str.replace('Yes', '1', regex=False)\n",
        "# df_mod02_medical['No-show'] = df_mod02_medical['No-show'].str.replace('No', '0', regex=False)\n",
        "\n",
        "# # boolean indexing를 활용\n",
        "#### df_mod02_medical['No-show'][df_mod02_medical['No-show'] == 'Yes'] = 1 \n",
        "df_mod02_medical.iloc[df_mod02_medical['No-show'] == 'Yes', 8] = 1\n",
        "df_mod02_medical.iloc[df_mod02_medical['No-show'] == 'No', 8] = 0"
      ]
    },
    {
      "cell_type": "code",
      "execution_count": 37,
      "metadata": {
        "colab": {
          "base_uri": "https://localhost:8080/"
        },
        "id": "VpOBUui5vmJE",
        "outputId": "b4ffcbb7-668a-4368-8e0e-6dc4ea7246eb"
      },
      "outputs": [
        {
          "data": {
            "text/plain": [
              "0    88205\n",
              "1    22316\n",
              "Name: No-show, dtype: int64"
            ]
          },
          "execution_count": 37,
          "metadata": {},
          "output_type": "execute_result"
        }
      ],
      "source": [
        "df_mod02_medical['No-show'].value_counts()"
      ]
    },
    {
      "cell_type": "markdown",
      "metadata": {},
      "source": [
        "### 3-3. 병원예약일과 실제방문일을 활용한 파생변수 생성\n",
        " - 예약일(Scheduled)과 실제방문(Appointment)일별 노쇼 현황 분석\n",
        " - 예약일과 실제방문일 차이가 클수록 No-show가 증가? "
      ]
    },
    {
      "cell_type": "code",
      "execution_count": 75,
      "metadata": {},
      "outputs": [],
      "source": [
        "df_mod03_medical = df_mod02_medical.copy()"
      ]
    },
    {
      "cell_type": "code",
      "execution_count": 77,
      "metadata": {},
      "outputs": [
        {
          "name": "stdout",
          "output_type": "stream",
          "text": [
            "<class 'pandas.core.frame.DataFrame'>\n",
            "Int64Index: 110521 entries, 0 to 110526\n",
            "Data columns (total 9 columns):\n",
            " #   Column          Non-Null Count   Dtype  \n",
            "---  ------          --------------   -----  \n",
            " 0   PatientId       110521 non-null  float64\n",
            " 1   AppointmentID   110521 non-null  int64  \n",
            " 2   Gender          110521 non-null  object \n",
            " 3   ScheduledDay    110521 non-null  object \n",
            " 4   AppointmentDay  110521 non-null  object \n",
            " 5   Age             110521 non-null  int64  \n",
            " 6   Neighbourhood   110521 non-null  object \n",
            " 7   SMS_received    110521 non-null  int64  \n",
            " 8   No-show         110521 non-null  object \n",
            "dtypes: float64(1), int64(3), object(5)\n",
            "memory usage: 12.5+ MB\n"
          ]
        },
        {
          "data": {
            "text/html": [
              "<div>\n",
              "<style scoped>\n",
              "    .dataframe tbody tr th:only-of-type {\n",
              "        vertical-align: middle;\n",
              "    }\n",
              "\n",
              "    .dataframe tbody tr th {\n",
              "        vertical-align: top;\n",
              "    }\n",
              "\n",
              "    .dataframe thead th {\n",
              "        text-align: right;\n",
              "    }\n",
              "</style>\n",
              "<table border=\"1\" class=\"dataframe\">\n",
              "  <thead>\n",
              "    <tr style=\"text-align: right;\">\n",
              "      <th></th>\n",
              "      <th>PatientId</th>\n",
              "      <th>AppointmentID</th>\n",
              "      <th>Gender</th>\n",
              "      <th>ScheduledDay</th>\n",
              "      <th>AppointmentDay</th>\n",
              "      <th>Age</th>\n",
              "      <th>Neighbourhood</th>\n",
              "      <th>SMS_received</th>\n",
              "      <th>No-show</th>\n",
              "    </tr>\n",
              "  </thead>\n",
              "  <tbody>\n",
              "    <tr>\n",
              "      <th>0</th>\n",
              "      <td>2.990000e+13</td>\n",
              "      <td>5642903</td>\n",
              "      <td>F</td>\n",
              "      <td>2016-04-29T18:38:08Z</td>\n",
              "      <td>2016-04-29T00:00:00Z</td>\n",
              "      <td>62</td>\n",
              "      <td>JARDIM DA PENHA</td>\n",
              "      <td>0</td>\n",
              "      <td>0</td>\n",
              "    </tr>\n",
              "    <tr>\n",
              "      <th>1</th>\n",
              "      <td>5.590000e+14</td>\n",
              "      <td>5642503</td>\n",
              "      <td>M</td>\n",
              "      <td>2016-04-29T16:08:27Z</td>\n",
              "      <td>2016-04-29T00:00:00Z</td>\n",
              "      <td>56</td>\n",
              "      <td>JARDIM DA PENHA</td>\n",
              "      <td>0</td>\n",
              "      <td>0</td>\n",
              "    </tr>\n",
              "    <tr>\n",
              "      <th>2</th>\n",
              "      <td>4.260000e+12</td>\n",
              "      <td>5642549</td>\n",
              "      <td>F</td>\n",
              "      <td>2016-04-29T16:19:04Z</td>\n",
              "      <td>2016-04-29T00:00:00Z</td>\n",
              "      <td>62</td>\n",
              "      <td>MATA DA PRAIA</td>\n",
              "      <td>0</td>\n",
              "      <td>0</td>\n",
              "    </tr>\n",
              "    <tr>\n",
              "      <th>3</th>\n",
              "      <td>8.680000e+11</td>\n",
              "      <td>5642828</td>\n",
              "      <td>F</td>\n",
              "      <td>2016-04-29T17:29:31Z</td>\n",
              "      <td>2016-04-29T00:00:00Z</td>\n",
              "      <td>8</td>\n",
              "      <td>PONTAL DE CAMBURI</td>\n",
              "      <td>0</td>\n",
              "      <td>0</td>\n",
              "    </tr>\n",
              "    <tr>\n",
              "      <th>4</th>\n",
              "      <td>8.840000e+12</td>\n",
              "      <td>5642494</td>\n",
              "      <td>F</td>\n",
              "      <td>2016-04-29T16:07:23Z</td>\n",
              "      <td>2016-04-29T00:00:00Z</td>\n",
              "      <td>56</td>\n",
              "      <td>JARDIM DA PENHA</td>\n",
              "      <td>0</td>\n",
              "      <td>0</td>\n",
              "    </tr>\n",
              "    <tr>\n",
              "      <th>...</th>\n",
              "      <td>...</td>\n",
              "      <td>...</td>\n",
              "      <td>...</td>\n",
              "      <td>...</td>\n",
              "      <td>...</td>\n",
              "      <td>...</td>\n",
              "      <td>...</td>\n",
              "      <td>...</td>\n",
              "      <td>...</td>\n",
              "    </tr>\n",
              "    <tr>\n",
              "      <th>110522</th>\n",
              "      <td>2.570000e+12</td>\n",
              "      <td>5651768</td>\n",
              "      <td>F</td>\n",
              "      <td>2016-05-03T09:15:35Z</td>\n",
              "      <td>2016-06-07T00:00:00Z</td>\n",
              "      <td>56</td>\n",
              "      <td>MARIA ORTIZ</td>\n",
              "      <td>1</td>\n",
              "      <td>0</td>\n",
              "    </tr>\n",
              "    <tr>\n",
              "      <th>110523</th>\n",
              "      <td>3.600000e+12</td>\n",
              "      <td>5650093</td>\n",
              "      <td>F</td>\n",
              "      <td>2016-05-03T07:27:33Z</td>\n",
              "      <td>2016-06-07T00:00:00Z</td>\n",
              "      <td>51</td>\n",
              "      <td>MARIA ORTIZ</td>\n",
              "      <td>1</td>\n",
              "      <td>0</td>\n",
              "    </tr>\n",
              "    <tr>\n",
              "      <th>110524</th>\n",
              "      <td>1.560000e+13</td>\n",
              "      <td>5630692</td>\n",
              "      <td>F</td>\n",
              "      <td>2016-04-27T16:03:52Z</td>\n",
              "      <td>2016-06-07T00:00:00Z</td>\n",
              "      <td>21</td>\n",
              "      <td>MARIA ORTIZ</td>\n",
              "      <td>1</td>\n",
              "      <td>0</td>\n",
              "    </tr>\n",
              "    <tr>\n",
              "      <th>110525</th>\n",
              "      <td>9.210000e+13</td>\n",
              "      <td>5630323</td>\n",
              "      <td>F</td>\n",
              "      <td>2016-04-27T15:09:23Z</td>\n",
              "      <td>2016-06-07T00:00:00Z</td>\n",
              "      <td>38</td>\n",
              "      <td>MARIA ORTIZ</td>\n",
              "      <td>1</td>\n",
              "      <td>0</td>\n",
              "    </tr>\n",
              "    <tr>\n",
              "      <th>110526</th>\n",
              "      <td>3.780000e+14</td>\n",
              "      <td>5629448</td>\n",
              "      <td>F</td>\n",
              "      <td>2016-04-27T13:30:56Z</td>\n",
              "      <td>2016-06-07T00:00:00Z</td>\n",
              "      <td>54</td>\n",
              "      <td>MARIA ORTIZ</td>\n",
              "      <td>1</td>\n",
              "      <td>0</td>\n",
              "    </tr>\n",
              "  </tbody>\n",
              "</table>\n",
              "<p>110521 rows × 9 columns</p>\n",
              "</div>"
            ],
            "text/plain": [
              "           PatientId  AppointmentID Gender          ScheduledDay  \\\n",
              "0       2.990000e+13        5642903      F  2016-04-29T18:38:08Z   \n",
              "1       5.590000e+14        5642503      M  2016-04-29T16:08:27Z   \n",
              "2       4.260000e+12        5642549      F  2016-04-29T16:19:04Z   \n",
              "3       8.680000e+11        5642828      F  2016-04-29T17:29:31Z   \n",
              "4       8.840000e+12        5642494      F  2016-04-29T16:07:23Z   \n",
              "...              ...            ...    ...                   ...   \n",
              "110522  2.570000e+12        5651768      F  2016-05-03T09:15:35Z   \n",
              "110523  3.600000e+12        5650093      F  2016-05-03T07:27:33Z   \n",
              "110524  1.560000e+13        5630692      F  2016-04-27T16:03:52Z   \n",
              "110525  9.210000e+13        5630323      F  2016-04-27T15:09:23Z   \n",
              "110526  3.780000e+14        5629448      F  2016-04-27T13:30:56Z   \n",
              "\n",
              "              AppointmentDay  Age      Neighbourhood  SMS_received No-show  \n",
              "0       2016-04-29T00:00:00Z   62    JARDIM DA PENHA             0       0  \n",
              "1       2016-04-29T00:00:00Z   56    JARDIM DA PENHA             0       0  \n",
              "2       2016-04-29T00:00:00Z   62      MATA DA PRAIA             0       0  \n",
              "3       2016-04-29T00:00:00Z    8  PONTAL DE CAMBURI             0       0  \n",
              "4       2016-04-29T00:00:00Z   56    JARDIM DA PENHA             0       0  \n",
              "...                      ...  ...                ...           ...     ...  \n",
              "110522  2016-06-07T00:00:00Z   56        MARIA ORTIZ             1       0  \n",
              "110523  2016-06-07T00:00:00Z   51        MARIA ORTIZ             1       0  \n",
              "110524  2016-06-07T00:00:00Z   21        MARIA ORTIZ             1       0  \n",
              "110525  2016-06-07T00:00:00Z   38        MARIA ORTIZ             1       0  \n",
              "110526  2016-06-07T00:00:00Z   54        MARIA ORTIZ             1       0  \n",
              "\n",
              "[110521 rows x 9 columns]"
            ]
          },
          "execution_count": 77,
          "metadata": {},
          "output_type": "execute_result"
        }
      ],
      "source": [
        "df_mod03_medical.info()\n",
        "df_mod03_medical"
      ]
    },
    {
      "cell_type": "code",
      "execution_count": 78,
      "metadata": {
        "id": "Qj8ODIRRAENb"
      },
      "outputs": [],
      "source": [
        "df_mod03_medical['AppointmentDay']=pd.to_datetime(df_mod03_medical['AppointmentDay'])\n",
        "df_mod03_medical['ScheduledDay']=pd.to_datetime(df_mod03_medical['ScheduledDay'])"
      ]
    },
    {
      "cell_type": "code",
      "execution_count": 79,
      "metadata": {
        "colab": {
          "base_uri": "https://localhost:8080/"
        },
        "id": "EfiRiouaAJ_u",
        "outputId": "1c7e2d45-7e8a-4eed-85b4-33588211c253"
      },
      "outputs": [
        {
          "name": "stdout",
          "output_type": "stream",
          "text": [
            "<class 'pandas.core.frame.DataFrame'>\n",
            "Int64Index: 110521 entries, 0 to 110526\n",
            "Data columns (total 9 columns):\n",
            " #   Column          Non-Null Count   Dtype              \n",
            "---  ------          --------------   -----              \n",
            " 0   PatientId       110521 non-null  float64            \n",
            " 1   AppointmentID   110521 non-null  int64              \n",
            " 2   Gender          110521 non-null  object             \n",
            " 3   ScheduledDay    110521 non-null  datetime64[ns, UTC]\n",
            " 4   AppointmentDay  110521 non-null  datetime64[ns, UTC]\n",
            " 5   Age             110521 non-null  int64              \n",
            " 6   Neighbourhood   110521 non-null  object             \n",
            " 7   SMS_received    110521 non-null  int64              \n",
            " 8   No-show         110521 non-null  object             \n",
            "dtypes: datetime64[ns, UTC](2), float64(1), int64(3), object(3)\n",
            "memory usage: 12.5+ MB\n"
          ]
        },
        {
          "data": {
            "text/plain": [
              "(Timestamp('2016-04-29 18:38:08+0000', tz='UTC'),\n",
              " Timestamp('2016-04-29 00:00:00+0000', tz='UTC'))"
            ]
          },
          "execution_count": 79,
          "metadata": {},
          "output_type": "execute_result"
        }
      ],
      "source": [
        "df_mod03_medical.info()\n",
        "df_mod03_medical.ScheduledDay[0], df_mod03_medical.AppointmentDay[0]"
      ]
    },
    {
      "cell_type": "code",
      "execution_count": 80,
      "metadata": {},
      "outputs": [
        {
          "data": {
            "text/html": [
              "<div>\n",
              "<style scoped>\n",
              "    .dataframe tbody tr th:only-of-type {\n",
              "        vertical-align: middle;\n",
              "    }\n",
              "\n",
              "    .dataframe tbody tr th {\n",
              "        vertical-align: top;\n",
              "    }\n",
              "\n",
              "    .dataframe thead th {\n",
              "        text-align: right;\n",
              "    }\n",
              "</style>\n",
              "<table border=\"1\" class=\"dataframe\">\n",
              "  <thead>\n",
              "    <tr style=\"text-align: right;\">\n",
              "      <th></th>\n",
              "      <th>ScheduledDay</th>\n",
              "      <th>AppointmentDay</th>\n",
              "    </tr>\n",
              "  </thead>\n",
              "  <tbody>\n",
              "    <tr>\n",
              "      <th>0</th>\n",
              "      <td>2016-04-29 18:38:08+00:00</td>\n",
              "      <td>2016-04-29 00:00:00+00:00</td>\n",
              "    </tr>\n",
              "    <tr>\n",
              "      <th>1</th>\n",
              "      <td>2016-04-29 16:08:27+00:00</td>\n",
              "      <td>2016-04-29 00:00:00+00:00</td>\n",
              "    </tr>\n",
              "    <tr>\n",
              "      <th>2</th>\n",
              "      <td>2016-04-29 16:19:04+00:00</td>\n",
              "      <td>2016-04-29 00:00:00+00:00</td>\n",
              "    </tr>\n",
              "    <tr>\n",
              "      <th>3</th>\n",
              "      <td>2016-04-29 17:29:31+00:00</td>\n",
              "      <td>2016-04-29 00:00:00+00:00</td>\n",
              "    </tr>\n",
              "    <tr>\n",
              "      <th>4</th>\n",
              "      <td>2016-04-29 16:07:23+00:00</td>\n",
              "      <td>2016-04-29 00:00:00+00:00</td>\n",
              "    </tr>\n",
              "    <tr>\n",
              "      <th>...</th>\n",
              "      <td>...</td>\n",
              "      <td>...</td>\n",
              "    </tr>\n",
              "    <tr>\n",
              "      <th>110522</th>\n",
              "      <td>2016-05-03 09:15:35+00:00</td>\n",
              "      <td>2016-06-07 00:00:00+00:00</td>\n",
              "    </tr>\n",
              "    <tr>\n",
              "      <th>110523</th>\n",
              "      <td>2016-05-03 07:27:33+00:00</td>\n",
              "      <td>2016-06-07 00:00:00+00:00</td>\n",
              "    </tr>\n",
              "    <tr>\n",
              "      <th>110524</th>\n",
              "      <td>2016-04-27 16:03:52+00:00</td>\n",
              "      <td>2016-06-07 00:00:00+00:00</td>\n",
              "    </tr>\n",
              "    <tr>\n",
              "      <th>110525</th>\n",
              "      <td>2016-04-27 15:09:23+00:00</td>\n",
              "      <td>2016-06-07 00:00:00+00:00</td>\n",
              "    </tr>\n",
              "    <tr>\n",
              "      <th>110526</th>\n",
              "      <td>2016-04-27 13:30:56+00:00</td>\n",
              "      <td>2016-06-07 00:00:00+00:00</td>\n",
              "    </tr>\n",
              "  </tbody>\n",
              "</table>\n",
              "<p>110521 rows × 2 columns</p>\n",
              "</div>"
            ],
            "text/plain": [
              "                    ScheduledDay            AppointmentDay\n",
              "0      2016-04-29 18:38:08+00:00 2016-04-29 00:00:00+00:00\n",
              "1      2016-04-29 16:08:27+00:00 2016-04-29 00:00:00+00:00\n",
              "2      2016-04-29 16:19:04+00:00 2016-04-29 00:00:00+00:00\n",
              "3      2016-04-29 17:29:31+00:00 2016-04-29 00:00:00+00:00\n",
              "4      2016-04-29 16:07:23+00:00 2016-04-29 00:00:00+00:00\n",
              "...                          ...                       ...\n",
              "110522 2016-05-03 09:15:35+00:00 2016-06-07 00:00:00+00:00\n",
              "110523 2016-05-03 07:27:33+00:00 2016-06-07 00:00:00+00:00\n",
              "110524 2016-04-27 16:03:52+00:00 2016-06-07 00:00:00+00:00\n",
              "110525 2016-04-27 15:09:23+00:00 2016-06-07 00:00:00+00:00\n",
              "110526 2016-04-27 13:30:56+00:00 2016-06-07 00:00:00+00:00\n",
              "\n",
              "[110521 rows x 2 columns]"
            ]
          },
          "execution_count": 80,
          "metadata": {},
          "output_type": "execute_result"
        }
      ],
      "source": [
        "# 데이터 타입 변환 후 데이터 확인 시 Appointment가 항상 Scheduled보다 뒤에 있어야 함 날짜기준?\n",
        "pd.concat([df_mod03_medical.ScheduledDay, df_mod03_medical.AppointmentDay], axis=1)"
      ]
    },
    {
      "cell_type": "code",
      "execution_count": 81,
      "metadata": {},
      "outputs": [
        {
          "data": {
            "text/html": [
              "<div>\n",
              "<style scoped>\n",
              "    .dataframe tbody tr th:only-of-type {\n",
              "        vertical-align: middle;\n",
              "    }\n",
              "\n",
              "    .dataframe tbody tr th {\n",
              "        vertical-align: top;\n",
              "    }\n",
              "\n",
              "    .dataframe thead th {\n",
              "        text-align: right;\n",
              "    }\n",
              "</style>\n",
              "<table border=\"1\" class=\"dataframe\">\n",
              "  <thead>\n",
              "    <tr style=\"text-align: right;\">\n",
              "      <th></th>\n",
              "      <th>ScheduledDay</th>\n",
              "      <th>ScheduledDay</th>\n",
              "      <th>AppointmentDay</th>\n",
              "      <th>AppointmentDay</th>\n",
              "    </tr>\n",
              "  </thead>\n",
              "  <tbody>\n",
              "    <tr>\n",
              "      <th>0</th>\n",
              "      <td>2016-04-29 18:38:08+00:00</td>\n",
              "      <td>120</td>\n",
              "      <td>2016-04-29 00:00:00+00:00</td>\n",
              "      <td>120</td>\n",
              "    </tr>\n",
              "    <tr>\n",
              "      <th>1</th>\n",
              "      <td>2016-04-29 16:08:27+00:00</td>\n",
              "      <td>120</td>\n",
              "      <td>2016-04-29 00:00:00+00:00</td>\n",
              "      <td>120</td>\n",
              "    </tr>\n",
              "    <tr>\n",
              "      <th>2</th>\n",
              "      <td>2016-04-29 16:19:04+00:00</td>\n",
              "      <td>120</td>\n",
              "      <td>2016-04-29 00:00:00+00:00</td>\n",
              "      <td>120</td>\n",
              "    </tr>\n",
              "    <tr>\n",
              "      <th>3</th>\n",
              "      <td>2016-04-29 17:29:31+00:00</td>\n",
              "      <td>120</td>\n",
              "      <td>2016-04-29 00:00:00+00:00</td>\n",
              "      <td>120</td>\n",
              "    </tr>\n",
              "    <tr>\n",
              "      <th>4</th>\n",
              "      <td>2016-04-29 16:07:23+00:00</td>\n",
              "      <td>120</td>\n",
              "      <td>2016-04-29 00:00:00+00:00</td>\n",
              "      <td>120</td>\n",
              "    </tr>\n",
              "    <tr>\n",
              "      <th>...</th>\n",
              "      <td>...</td>\n",
              "      <td>...</td>\n",
              "      <td>...</td>\n",
              "      <td>...</td>\n",
              "    </tr>\n",
              "    <tr>\n",
              "      <th>110522</th>\n",
              "      <td>2016-05-03 09:15:35+00:00</td>\n",
              "      <td>124</td>\n",
              "      <td>2016-06-07 00:00:00+00:00</td>\n",
              "      <td>159</td>\n",
              "    </tr>\n",
              "    <tr>\n",
              "      <th>110523</th>\n",
              "      <td>2016-05-03 07:27:33+00:00</td>\n",
              "      <td>124</td>\n",
              "      <td>2016-06-07 00:00:00+00:00</td>\n",
              "      <td>159</td>\n",
              "    </tr>\n",
              "    <tr>\n",
              "      <th>110524</th>\n",
              "      <td>2016-04-27 16:03:52+00:00</td>\n",
              "      <td>118</td>\n",
              "      <td>2016-06-07 00:00:00+00:00</td>\n",
              "      <td>159</td>\n",
              "    </tr>\n",
              "    <tr>\n",
              "      <th>110525</th>\n",
              "      <td>2016-04-27 15:09:23+00:00</td>\n",
              "      <td>118</td>\n",
              "      <td>2016-06-07 00:00:00+00:00</td>\n",
              "      <td>159</td>\n",
              "    </tr>\n",
              "    <tr>\n",
              "      <th>110526</th>\n",
              "      <td>2016-04-27 13:30:56+00:00</td>\n",
              "      <td>118</td>\n",
              "      <td>2016-06-07 00:00:00+00:00</td>\n",
              "      <td>159</td>\n",
              "    </tr>\n",
              "  </tbody>\n",
              "</table>\n",
              "<p>110521 rows × 4 columns</p>\n",
              "</div>"
            ],
            "text/plain": [
              "                    ScheduledDay  ScheduledDay            AppointmentDay  \\\n",
              "0      2016-04-29 18:38:08+00:00           120 2016-04-29 00:00:00+00:00   \n",
              "1      2016-04-29 16:08:27+00:00           120 2016-04-29 00:00:00+00:00   \n",
              "2      2016-04-29 16:19:04+00:00           120 2016-04-29 00:00:00+00:00   \n",
              "3      2016-04-29 17:29:31+00:00           120 2016-04-29 00:00:00+00:00   \n",
              "4      2016-04-29 16:07:23+00:00           120 2016-04-29 00:00:00+00:00   \n",
              "...                          ...           ...                       ...   \n",
              "110522 2016-05-03 09:15:35+00:00           124 2016-06-07 00:00:00+00:00   \n",
              "110523 2016-05-03 07:27:33+00:00           124 2016-06-07 00:00:00+00:00   \n",
              "110524 2016-04-27 16:03:52+00:00           118 2016-06-07 00:00:00+00:00   \n",
              "110525 2016-04-27 15:09:23+00:00           118 2016-06-07 00:00:00+00:00   \n",
              "110526 2016-04-27 13:30:56+00:00           118 2016-06-07 00:00:00+00:00   \n",
              "\n",
              "        AppointmentDay  \n",
              "0                  120  \n",
              "1                  120  \n",
              "2                  120  \n",
              "3                  120  \n",
              "4                  120  \n",
              "...                ...  \n",
              "110522             159  \n",
              "110523             159  \n",
              "110524             159  \n",
              "110525             159  \n",
              "110526             159  \n",
              "\n",
              "[110521 rows x 4 columns]"
            ]
          },
          "execution_count": 81,
          "metadata": {},
          "output_type": "execute_result"
        }
      ],
      "source": [
        "# dt.dayofyear를 이용하여 해당 날짜의 일년 중 일자를 도출\n",
        "pd.concat([df_mod03_medical.ScheduledDay, df_mod03_medical.ScheduledDay.dt.dayofyear, df_mod03_medical.AppointmentDay, df_mod03_medical.AppointmentDay.dt.dayofyear], axis=1)"
      ]
    },
    {
      "cell_type": "code",
      "execution_count": 82,
      "metadata": {
        "colab": {
          "base_uri": "https://localhost:8080/"
        },
        "id": "mWyJGVNrAxKK",
        "outputId": "eb21a63d-7538-41b3-c28a-f07f6b6fa0b6"
      },
      "outputs": [
        {
          "name": "stdout",
          "output_type": "stream",
          "text": [
            "<class 'pandas.core.frame.DataFrame'>\n",
            "Int64Index: 110521 entries, 0 to 110526\n",
            "Data columns (total 10 columns):\n",
            " #   Column          Non-Null Count   Dtype              \n",
            "---  ------          --------------   -----              \n",
            " 0   PatientId       110521 non-null  float64            \n",
            " 1   AppointmentID   110521 non-null  int64              \n",
            " 2   Gender          110521 non-null  object             \n",
            " 3   ScheduledDay    110521 non-null  datetime64[ns, UTC]\n",
            " 4   AppointmentDay  110521 non-null  datetime64[ns, UTC]\n",
            " 5   Age             110521 non-null  int64              \n",
            " 6   Neighbourhood   110521 non-null  object             \n",
            " 7   SMS_received    110521 non-null  int64              \n",
            " 8   No-show         110521 non-null  object             \n",
            " 9   waiting_day     110521 non-null  timedelta64[ns]    \n",
            "dtypes: datetime64[ns, UTC](2), float64(1), int64(3), object(3), timedelta64[ns](1)\n",
            "memory usage: 13.3+ MB\n"
          ]
        },
        {
          "data": {
            "text/html": [
              "<div>\n",
              "<style scoped>\n",
              "    .dataframe tbody tr th:only-of-type {\n",
              "        vertical-align: middle;\n",
              "    }\n",
              "\n",
              "    .dataframe tbody tr th {\n",
              "        vertical-align: top;\n",
              "    }\n",
              "\n",
              "    .dataframe thead th {\n",
              "        text-align: right;\n",
              "    }\n",
              "</style>\n",
              "<table border=\"1\" class=\"dataframe\">\n",
              "  <thead>\n",
              "    <tr style=\"text-align: right;\">\n",
              "      <th></th>\n",
              "      <th>PatientId</th>\n",
              "      <th>AppointmentID</th>\n",
              "      <th>Gender</th>\n",
              "      <th>ScheduledDay</th>\n",
              "      <th>AppointmentDay</th>\n",
              "      <th>Age</th>\n",
              "      <th>Neighbourhood</th>\n",
              "      <th>SMS_received</th>\n",
              "      <th>No-show</th>\n",
              "      <th>waiting_day</th>\n",
              "    </tr>\n",
              "  </thead>\n",
              "  <tbody>\n",
              "    <tr>\n",
              "      <th>27033</th>\n",
              "      <td>7.840000e+12</td>\n",
              "      <td>5679978</td>\n",
              "      <td>M</td>\n",
              "      <td>2016-05-10 10:51:53+00:00</td>\n",
              "      <td>2016-05-09 00:00:00+00:00</td>\n",
              "      <td>38</td>\n",
              "      <td>RESISTÊNCIA</td>\n",
              "      <td>0</td>\n",
              "      <td>1</td>\n",
              "      <td>-1 days</td>\n",
              "    </tr>\n",
              "    <tr>\n",
              "      <th>55226</th>\n",
              "      <td>7.900000e+12</td>\n",
              "      <td>5715660</td>\n",
              "      <td>F</td>\n",
              "      <td>2016-05-18 14:50:41+00:00</td>\n",
              "      <td>2016-05-17 00:00:00+00:00</td>\n",
              "      <td>19</td>\n",
              "      <td>SANTO ANTÔNIO</td>\n",
              "      <td>0</td>\n",
              "      <td>1</td>\n",
              "      <td>-1 days</td>\n",
              "    </tr>\n",
              "    <tr>\n",
              "      <th>64175</th>\n",
              "      <td>2.430000e+13</td>\n",
              "      <td>5664962</td>\n",
              "      <td>F</td>\n",
              "      <td>2016-05-05 13:43:58+00:00</td>\n",
              "      <td>2016-05-04 00:00:00+00:00</td>\n",
              "      <td>22</td>\n",
              "      <td>CONSOLAÇÃO</td>\n",
              "      <td>0</td>\n",
              "      <td>1</td>\n",
              "      <td>-1 days</td>\n",
              "    </tr>\n",
              "    <tr>\n",
              "      <th>71533</th>\n",
              "      <td>9.980000e+14</td>\n",
              "      <td>5686628</td>\n",
              "      <td>F</td>\n",
              "      <td>2016-05-11 13:49:20+00:00</td>\n",
              "      <td>2016-05-05 00:00:00+00:00</td>\n",
              "      <td>81</td>\n",
              "      <td>SANTO ANTÔNIO</td>\n",
              "      <td>0</td>\n",
              "      <td>1</td>\n",
              "      <td>-6 days</td>\n",
              "    </tr>\n",
              "    <tr>\n",
              "      <th>72362</th>\n",
              "      <td>3.790000e+12</td>\n",
              "      <td>5655637</td>\n",
              "      <td>M</td>\n",
              "      <td>2016-05-04 06:50:57+00:00</td>\n",
              "      <td>2016-05-03 00:00:00+00:00</td>\n",
              "      <td>7</td>\n",
              "      <td>TABUAZEIRO</td>\n",
              "      <td>0</td>\n",
              "      <td>1</td>\n",
              "      <td>-1 days</td>\n",
              "    </tr>\n",
              "  </tbody>\n",
              "</table>\n",
              "</div>"
            ],
            "text/plain": [
              "          PatientId  AppointmentID Gender              ScheduledDay  \\\n",
              "27033  7.840000e+12        5679978      M 2016-05-10 10:51:53+00:00   \n",
              "55226  7.900000e+12        5715660      F 2016-05-18 14:50:41+00:00   \n",
              "64175  2.430000e+13        5664962      F 2016-05-05 13:43:58+00:00   \n",
              "71533  9.980000e+14        5686628      F 2016-05-11 13:49:20+00:00   \n",
              "72362  3.790000e+12        5655637      M 2016-05-04 06:50:57+00:00   \n",
              "\n",
              "                 AppointmentDay  Age  Neighbourhood  SMS_received No-show  \\\n",
              "27033 2016-05-09 00:00:00+00:00   38    RESISTÊNCIA             0       1   \n",
              "55226 2016-05-17 00:00:00+00:00   19  SANTO ANTÔNIO             0       1   \n",
              "64175 2016-05-04 00:00:00+00:00   22     CONSOLAÇÃO             0       1   \n",
              "71533 2016-05-05 00:00:00+00:00   81  SANTO ANTÔNIO             0       1   \n",
              "72362 2016-05-03 00:00:00+00:00    7     TABUAZEIRO             0       1   \n",
              "\n",
              "      waiting_day  \n",
              "27033     -1 days  \n",
              "55226     -1 days  \n",
              "64175     -1 days  \n",
              "71533     -6 days  \n",
              "72362     -1 days  "
            ]
          },
          "execution_count": 82,
          "metadata": {},
          "output_type": "execute_result"
        }
      ],
      "source": [
        "import datetime as dt\n",
        "# 차이를 통해서 대시 기간(일자)를 도출 이때 대기일자는 무조건 양수여야 함\n",
        "# df_mod03_medical['waiting_day'] = df_mod03_medical.AppointmentDay.dt.dayofyear - df_mod03_medical.ScheduledDay.dt.dayofyear\n",
        "df_mod03_medical['waiting_day'] = df_mod03_medical.AppointmentDay.dt.date - df_mod03_medical.ScheduledDay.dt.date\n",
        "df_mod03_medical.info()\n",
        "# df_mod03_medical[df_mod03_medical['waiting_day'] < 0]\n",
        "df_mod03_medical[df_mod03_medical['waiting_day'] <= dt.timedelta(days=-1)]"
      ]
    },
    {
      "cell_type": "code",
      "execution_count": 83,
      "metadata": {
        "colab": {
          "base_uri": "https://localhost:8080/",
          "height": 300
        },
        "id": "NxwF-jMDBSt5",
        "outputId": "2ec805d7-0240-404f-e723-10120d03fb40"
      },
      "outputs": [
        {
          "data": {
            "text/html": [
              "<div>\n",
              "<style scoped>\n",
              "    .dataframe tbody tr th:only-of-type {\n",
              "        vertical-align: middle;\n",
              "    }\n",
              "\n",
              "    .dataframe tbody tr th {\n",
              "        vertical-align: top;\n",
              "    }\n",
              "\n",
              "    .dataframe thead th {\n",
              "        text-align: right;\n",
              "    }\n",
              "</style>\n",
              "<table border=\"1\" class=\"dataframe\">\n",
              "  <thead>\n",
              "    <tr style=\"text-align: right;\">\n",
              "      <th></th>\n",
              "      <th>PatientId</th>\n",
              "      <th>AppointmentID</th>\n",
              "      <th>Age</th>\n",
              "      <th>SMS_received</th>\n",
              "      <th>waiting_day</th>\n",
              "    </tr>\n",
              "  </thead>\n",
              "  <tbody>\n",
              "    <tr>\n",
              "      <th>count</th>\n",
              "      <td>1.105210e+05</td>\n",
              "      <td>1.105210e+05</td>\n",
              "      <td>110521.000000</td>\n",
              "      <td>110521.000000</td>\n",
              "      <td>110521</td>\n",
              "    </tr>\n",
              "    <tr>\n",
              "      <th>mean</th>\n",
              "      <td>1.474919e+14</td>\n",
              "      <td>5.675304e+06</td>\n",
              "      <td>37.085694</td>\n",
              "      <td>0.321034</td>\n",
              "      <td>10 days 04:24:33.472009844</td>\n",
              "    </tr>\n",
              "    <tr>\n",
              "      <th>std</th>\n",
              "      <td>2.560922e+14</td>\n",
              "      <td>7.129576e+04</td>\n",
              "      <td>23.104606</td>\n",
              "      <td>0.466876</td>\n",
              "      <td>15 days 06:07:19.071616181</td>\n",
              "    </tr>\n",
              "    <tr>\n",
              "      <th>min</th>\n",
              "      <td>3.920000e+04</td>\n",
              "      <td>5.030230e+06</td>\n",
              "      <td>0.000000</td>\n",
              "      <td>0.000000</td>\n",
              "      <td>-6 days +00:00:00</td>\n",
              "    </tr>\n",
              "    <tr>\n",
              "      <th>25%</th>\n",
              "      <td>4.170000e+12</td>\n",
              "      <td>5.640285e+06</td>\n",
              "      <td>18.000000</td>\n",
              "      <td>0.000000</td>\n",
              "      <td>0 days 00:00:00</td>\n",
              "    </tr>\n",
              "    <tr>\n",
              "      <th>50%</th>\n",
              "      <td>3.170000e+13</td>\n",
              "      <td>5.680569e+06</td>\n",
              "      <td>37.000000</td>\n",
              "      <td>0.000000</td>\n",
              "      <td>4 days 00:00:00</td>\n",
              "    </tr>\n",
              "    <tr>\n",
              "      <th>75%</th>\n",
              "      <td>9.440000e+13</td>\n",
              "      <td>5.725523e+06</td>\n",
              "      <td>55.000000</td>\n",
              "      <td>1.000000</td>\n",
              "      <td>15 days 00:00:00</td>\n",
              "    </tr>\n",
              "    <tr>\n",
              "      <th>max</th>\n",
              "      <td>1.000000e+15</td>\n",
              "      <td>5.790484e+06</td>\n",
              "      <td>102.000000</td>\n",
              "      <td>1.000000</td>\n",
              "      <td>179 days 00:00:00</td>\n",
              "    </tr>\n",
              "  </tbody>\n",
              "</table>\n",
              "</div>"
            ],
            "text/plain": [
              "          PatientId  AppointmentID            Age   SMS_received  \\\n",
              "count  1.105210e+05   1.105210e+05  110521.000000  110521.000000   \n",
              "mean   1.474919e+14   5.675304e+06      37.085694       0.321034   \n",
              "std    2.560922e+14   7.129576e+04      23.104606       0.466876   \n",
              "min    3.920000e+04   5.030230e+06       0.000000       0.000000   \n",
              "25%    4.170000e+12   5.640285e+06      18.000000       0.000000   \n",
              "50%    3.170000e+13   5.680569e+06      37.000000       0.000000   \n",
              "75%    9.440000e+13   5.725523e+06      55.000000       1.000000   \n",
              "max    1.000000e+15   5.790484e+06     102.000000       1.000000   \n",
              "\n",
              "                      waiting_day  \n",
              "count                      110521  \n",
              "mean   10 days 04:24:33.472009844  \n",
              "std    15 days 06:07:19.071616181  \n",
              "min             -6 days +00:00:00  \n",
              "25%               0 days 00:00:00  \n",
              "50%               4 days 00:00:00  \n",
              "75%              15 days 00:00:00  \n",
              "max             179 days 00:00:00  "
            ]
          },
          "execution_count": 83,
          "metadata": {},
          "output_type": "execute_result"
        }
      ],
      "source": [
        "df_mod03_medical.describe()"
      ]
    },
    {
      "cell_type": "code",
      "execution_count": 84,
      "metadata": {
        "id": "o8xffzfYC--p"
      },
      "outputs": [],
      "source": [
        "# 음수존재 확인 양수조건만 전처리로 도출\n",
        "df_mod04_medical = df_mod03_medical[df_mod03_medical['waiting_day'] > dt.timedelta(days=-1)].reset_index(drop=True)"
      ]
    },
    {
      "cell_type": "code",
      "execution_count": 95,
      "metadata": {
        "colab": {
          "base_uri": "https://localhost:8080/"
        },
        "id": "b5bzW0BCDHuF",
        "outputId": "9a09b5f0-ef61-4dce-d516-3060940da659"
      },
      "outputs": [
        {
          "data": {
            "text/html": [
              "<div>\n",
              "<style scoped>\n",
              "    .dataframe tbody tr th:only-of-type {\n",
              "        vertical-align: middle;\n",
              "    }\n",
              "\n",
              "    .dataframe tbody tr th {\n",
              "        vertical-align: top;\n",
              "    }\n",
              "\n",
              "    .dataframe thead th {\n",
              "        text-align: right;\n",
              "    }\n",
              "</style>\n",
              "<table border=\"1\" class=\"dataframe\">\n",
              "  <thead>\n",
              "    <tr style=\"text-align: right;\">\n",
              "      <th></th>\n",
              "      <th>PatientId</th>\n",
              "      <th>AppointmentID</th>\n",
              "      <th>Age</th>\n",
              "      <th>SMS_received</th>\n",
              "      <th>waiting_day</th>\n",
              "    </tr>\n",
              "  </thead>\n",
              "  <tbody>\n",
              "    <tr>\n",
              "      <th>count</th>\n",
              "      <td>1.105160e+05</td>\n",
              "      <td>1.105160e+05</td>\n",
              "      <td>110516.000000</td>\n",
              "      <td>110516.000000</td>\n",
              "      <td>110516</td>\n",
              "    </tr>\n",
              "    <tr>\n",
              "      <th>mean</th>\n",
              "      <td>1.474892e+14</td>\n",
              "      <td>5.675304e+06</td>\n",
              "      <td>37.085861</td>\n",
              "      <td>0.321049</td>\n",
              "      <td>10 days 04:25:21.097397661</td>\n",
              "    </tr>\n",
              "    <tr>\n",
              "      <th>std</th>\n",
              "      <td>2.560839e+14</td>\n",
              "      <td>7.129723e+04</td>\n",
              "      <td>23.104465</td>\n",
              "      <td>0.466882</td>\n",
              "      <td>15 days 06:07:29.355505743</td>\n",
              "    </tr>\n",
              "    <tr>\n",
              "      <th>min</th>\n",
              "      <td>3.920000e+04</td>\n",
              "      <td>5.030230e+06</td>\n",
              "      <td>0.000000</td>\n",
              "      <td>0.000000</td>\n",
              "      <td>0 days 00:00:00</td>\n",
              "    </tr>\n",
              "    <tr>\n",
              "      <th>25%</th>\n",
              "      <td>4.170000e+12</td>\n",
              "      <td>5.640284e+06</td>\n",
              "      <td>18.000000</td>\n",
              "      <td>0.000000</td>\n",
              "      <td>0 days 00:00:00</td>\n",
              "    </tr>\n",
              "    <tr>\n",
              "      <th>50%</th>\n",
              "      <td>3.170000e+13</td>\n",
              "      <td>5.680570e+06</td>\n",
              "      <td>37.000000</td>\n",
              "      <td>0.000000</td>\n",
              "      <td>4 days 00:00:00</td>\n",
              "    </tr>\n",
              "    <tr>\n",
              "      <th>75%</th>\n",
              "      <td>9.440000e+13</td>\n",
              "      <td>5.725524e+06</td>\n",
              "      <td>55.000000</td>\n",
              "      <td>1.000000</td>\n",
              "      <td>15 days 00:00:00</td>\n",
              "    </tr>\n",
              "    <tr>\n",
              "      <th>max</th>\n",
              "      <td>1.000000e+15</td>\n",
              "      <td>5.790484e+06</td>\n",
              "      <td>102.000000</td>\n",
              "      <td>1.000000</td>\n",
              "      <td>179 days 00:00:00</td>\n",
              "    </tr>\n",
              "  </tbody>\n",
              "</table>\n",
              "</div>"
            ],
            "text/plain": [
              "          PatientId  AppointmentID            Age   SMS_received  \\\n",
              "count  1.105160e+05   1.105160e+05  110516.000000  110516.000000   \n",
              "mean   1.474892e+14   5.675304e+06      37.085861       0.321049   \n",
              "std    2.560839e+14   7.129723e+04      23.104465       0.466882   \n",
              "min    3.920000e+04   5.030230e+06       0.000000       0.000000   \n",
              "25%    4.170000e+12   5.640284e+06      18.000000       0.000000   \n",
              "50%    3.170000e+13   5.680570e+06      37.000000       0.000000   \n",
              "75%    9.440000e+13   5.725524e+06      55.000000       1.000000   \n",
              "max    1.000000e+15   5.790484e+06     102.000000       1.000000   \n",
              "\n",
              "                      waiting_day  \n",
              "count                      110516  \n",
              "mean   10 days 04:25:21.097397661  \n",
              "std    15 days 06:07:29.355505743  \n",
              "min               0 days 00:00:00  \n",
              "25%               0 days 00:00:00  \n",
              "50%               4 days 00:00:00  \n",
              "75%              15 days 00:00:00  \n",
              "max             179 days 00:00:00  "
            ]
          },
          "execution_count": 95,
          "metadata": {},
          "output_type": "execute_result"
        }
      ],
      "source": [
        "# 데이터 전처리 완료\n",
        "df_mod04_medical.describe()"
      ]
    },
    {
      "cell_type": "code",
      "execution_count": 86,
      "metadata": {},
      "outputs": [
        {
          "name": "stdout",
          "output_type": "stream",
          "text": [
            "<class 'pandas.core.frame.DataFrame'>\n",
            "RangeIndex: 110516 entries, 0 to 110515\n",
            "Data columns (total 10 columns):\n",
            " #   Column          Non-Null Count   Dtype              \n",
            "---  ------          --------------   -----              \n",
            " 0   PatientId       110516 non-null  float64            \n",
            " 1   AppointmentID   110516 non-null  int64              \n",
            " 2   Gender          110516 non-null  object             \n",
            " 3   ScheduledDay    110516 non-null  datetime64[ns, UTC]\n",
            " 4   AppointmentDay  110516 non-null  datetime64[ns, UTC]\n",
            " 5   Age             110516 non-null  int64              \n",
            " 6   Neighbourhood   110516 non-null  object             \n",
            " 7   SMS_received    110516 non-null  int64              \n",
            " 8   No-show         110516 non-null  object             \n",
            " 9   waiting_day     110516 non-null  timedelta64[ns]    \n",
            "dtypes: datetime64[ns, UTC](2), float64(1), int64(3), object(3), timedelta64[ns](1)\n",
            "memory usage: 8.4+ MB\n"
          ]
        }
      ],
      "source": [
        "df_mod04_medical.info()"
      ]
    },
    {
      "cell_type": "code",
      "execution_count": 97,
      "metadata": {},
      "outputs": [],
      "source": [
        "df_mod05_medical = df_mod04_medical.copy()\n",
        "df_mod05_medical['waiting_day'] = df_mod05_medical.waiting_day.dt.days"
      ]
    },
    {
      "cell_type": "code",
      "execution_count": 107,
      "metadata": {},
      "outputs": [
        {
          "name": "stdout",
          "output_type": "stream",
          "text": [
            "<class 'pandas.core.frame.DataFrame'>\n",
            "RangeIndex: 110516 entries, 0 to 110515\n",
            "Data columns (total 10 columns):\n",
            " #   Column          Non-Null Count   Dtype              \n",
            "---  ------          --------------   -----              \n",
            " 0   PatientId       110516 non-null  float64            \n",
            " 1   AppointmentID   110516 non-null  int64              \n",
            " 2   Gender          110516 non-null  object             \n",
            " 3   ScheduledDay    110516 non-null  datetime64[ns, UTC]\n",
            " 4   AppointmentDay  110516 non-null  datetime64[ns, UTC]\n",
            " 5   Age             110516 non-null  int64              \n",
            " 6   Neighbourhood   110516 non-null  object             \n",
            " 7   SMS_received    110516 non-null  int64              \n",
            " 8   No-show         110516 non-null  object             \n",
            " 9   waiting_day     110516 non-null  int64              \n",
            "dtypes: datetime64[ns, UTC](2), float64(1), int64(4), object(3)\n",
            "memory usage: 8.4+ MB\n"
          ]
        },
        {
          "data": {
            "text/html": [
              "<div>\n",
              "<style scoped>\n",
              "    .dataframe tbody tr th:only-of-type {\n",
              "        vertical-align: middle;\n",
              "    }\n",
              "\n",
              "    .dataframe tbody tr th {\n",
              "        vertical-align: top;\n",
              "    }\n",
              "\n",
              "    .dataframe thead th {\n",
              "        text-align: right;\n",
              "    }\n",
              "</style>\n",
              "<table border=\"1\" class=\"dataframe\">\n",
              "  <thead>\n",
              "    <tr style=\"text-align: right;\">\n",
              "      <th></th>\n",
              "      <th>PatientId</th>\n",
              "      <th>AppointmentID</th>\n",
              "      <th>Age</th>\n",
              "      <th>SMS_received</th>\n",
              "      <th>waiting_day</th>\n",
              "    </tr>\n",
              "  </thead>\n",
              "  <tbody>\n",
              "    <tr>\n",
              "      <th>count</th>\n",
              "      <td>1.105160e+05</td>\n",
              "      <td>1.105160e+05</td>\n",
              "      <td>110516.000000</td>\n",
              "      <td>110516.000000</td>\n",
              "      <td>110516.000000</td>\n",
              "    </tr>\n",
              "    <tr>\n",
              "      <th>mean</th>\n",
              "      <td>1.474892e+14</td>\n",
              "      <td>5.675304e+06</td>\n",
              "      <td>37.085861</td>\n",
              "      <td>0.321049</td>\n",
              "      <td>10.184272</td>\n",
              "    </tr>\n",
              "    <tr>\n",
              "      <th>std</th>\n",
              "      <td>2.560839e+14</td>\n",
              "      <td>7.129723e+04</td>\n",
              "      <td>23.104465</td>\n",
              "      <td>0.466882</td>\n",
              "      <td>15.255201</td>\n",
              "    </tr>\n",
              "    <tr>\n",
              "      <th>min</th>\n",
              "      <td>3.920000e+04</td>\n",
              "      <td>5.030230e+06</td>\n",
              "      <td>0.000000</td>\n",
              "      <td>0.000000</td>\n",
              "      <td>0.000000</td>\n",
              "    </tr>\n",
              "    <tr>\n",
              "      <th>25%</th>\n",
              "      <td>4.170000e+12</td>\n",
              "      <td>5.640284e+06</td>\n",
              "      <td>18.000000</td>\n",
              "      <td>0.000000</td>\n",
              "      <td>0.000000</td>\n",
              "    </tr>\n",
              "    <tr>\n",
              "      <th>50%</th>\n",
              "      <td>3.170000e+13</td>\n",
              "      <td>5.680570e+06</td>\n",
              "      <td>37.000000</td>\n",
              "      <td>0.000000</td>\n",
              "      <td>4.000000</td>\n",
              "    </tr>\n",
              "    <tr>\n",
              "      <th>75%</th>\n",
              "      <td>9.440000e+13</td>\n",
              "      <td>5.725524e+06</td>\n",
              "      <td>55.000000</td>\n",
              "      <td>1.000000</td>\n",
              "      <td>15.000000</td>\n",
              "    </tr>\n",
              "    <tr>\n",
              "      <th>max</th>\n",
              "      <td>1.000000e+15</td>\n",
              "      <td>5.790484e+06</td>\n",
              "      <td>102.000000</td>\n",
              "      <td>1.000000</td>\n",
              "      <td>179.000000</td>\n",
              "    </tr>\n",
              "  </tbody>\n",
              "</table>\n",
              "</div>"
            ],
            "text/plain": [
              "          PatientId  AppointmentID            Age   SMS_received  \\\n",
              "count  1.105160e+05   1.105160e+05  110516.000000  110516.000000   \n",
              "mean   1.474892e+14   5.675304e+06      37.085861       0.321049   \n",
              "std    2.560839e+14   7.129723e+04      23.104465       0.466882   \n",
              "min    3.920000e+04   5.030230e+06       0.000000       0.000000   \n",
              "25%    4.170000e+12   5.640284e+06      18.000000       0.000000   \n",
              "50%    3.170000e+13   5.680570e+06      37.000000       0.000000   \n",
              "75%    9.440000e+13   5.725524e+06      55.000000       1.000000   \n",
              "max    1.000000e+15   5.790484e+06     102.000000       1.000000   \n",
              "\n",
              "         waiting_day  \n",
              "count  110516.000000  \n",
              "mean       10.184272  \n",
              "std        15.255201  \n",
              "min         0.000000  \n",
              "25%         0.000000  \n",
              "50%         4.000000  \n",
              "75%        15.000000  \n",
              "max       179.000000  "
            ]
          },
          "execution_count": 107,
          "metadata": {},
          "output_type": "execute_result"
        }
      ],
      "source": [
        "df_mod05_medical.info()\n",
        "df_mod05_medical.describe()"
      ]
    },
    {
      "cell_type": "code",
      "execution_count": 100,
      "metadata": {},
      "outputs": [
        {
          "data": {
            "image/png": "[encoded data removed]",
            "text/plain": [
              "<Figure size 1500x400 with 1 Axes>"
            ]
          },
          "metadata": {},
          "output_type": "display_data"
        }
      ],
      "source": [
        "fig, ax = plt.subplots()\n",
        "fig.set_size_inches(15,4)\n",
        "\n",
        "sns.histplot(data=df_mod05_medical, x='ScheduledDay', hue='No-show')\n",
        "\n",
        "plt.show()"
      ]
    },
    {
      "cell_type": "code",
      "execution_count": 101,
      "metadata": {},
      "outputs": [
        {
          "data": {
            "image/png": "[encoded data removed]",
            "text/plain": [
              "<Figure size 1500x400 with 1 Axes>"
            ]
          },
          "metadata": {},
          "output_type": "display_data"
        }
      ],
      "source": [
        "fig, ax = plt.subplots()\n",
        "fig.set_size_inches(15,4)\n",
        "\n",
        "sns.histplot(data=df_mod05_medical, x='AppointmentDay', hue='No-show')\n",
        "# ax.set_ylim(0, 1000)\n",
        "plt.show()"
      ]
    },
    {
      "cell_type": "code",
      "execution_count": 109,
      "metadata": {},
      "outputs": [
        {
          "data": {
            "image/png": "[encoded data removed]",
            "text/plain": [
              "<Figure size 1500x400 with 1 Axes>"
            ]
          },
          "metadata": {},
          "output_type": "display_data"
        }
      ],
      "source": [
        "fig, ax = plt.subplots()\n",
        "fig.set_size_inches(15,4)\n",
        "\n",
        "sns.histplot(data=df_mod05_medical, x='waiting_day', hue='No-show', bins=179)\n",
        "ax.set_xlim(0, 10)\n",
        "# ax.set_ylim(0, 10000)\n",
        "\n",
        "plt.show()"
      ]
    },
    {
      "cell_type": "code",
      "execution_count": 110,
      "metadata": {},
      "outputs": [
        {
          "data": {
            "text/html": [
              "<div>\n",
              "<style scoped>\n",
              "    .dataframe tbody tr th:only-of-type {\n",
              "        vertical-align: middle;\n",
              "    }\n",
              "\n",
              "    .dataframe tbody tr th {\n",
              "        vertical-align: top;\n",
              "    }\n",
              "\n",
              "    .dataframe thead th {\n",
              "        text-align: right;\n",
              "    }\n",
              "</style>\n",
              "<table border=\"1\" class=\"dataframe\">\n",
              "  <thead>\n",
              "    <tr style=\"text-align: right;\">\n",
              "      <th></th>\n",
              "      <th>waiting_day</th>\n",
              "      <th>sum</th>\n",
              "      <th>count</th>\n",
              "      <th>No_show_ratio</th>\n",
              "    </tr>\n",
              "  </thead>\n",
              "  <tbody>\n",
              "    <tr>\n",
              "      <th>0</th>\n",
              "      <td>0 days</td>\n",
              "      <td>1792</td>\n",
              "      <td>38561</td>\n",
              "      <td>0.046472</td>\n",
              "    </tr>\n",
              "    <tr>\n",
              "      <th>1</th>\n",
              "      <td>1 days</td>\n",
              "      <td>1113</td>\n",
              "      <td>5213</td>\n",
              "      <td>0.213505</td>\n",
              "    </tr>\n",
              "    <tr>\n",
              "      <th>2</th>\n",
              "      <td>2 days</td>\n",
              "      <td>1602</td>\n",
              "      <td>6725</td>\n",
              "      <td>0.238216</td>\n",
              "    </tr>\n",
              "    <tr>\n",
              "      <th>3</th>\n",
              "      <td>3 days</td>\n",
              "      <td>642</td>\n",
              "      <td>2735</td>\n",
              "      <td>0.234735</td>\n",
              "    </tr>\n",
              "    <tr>\n",
              "      <th>4</th>\n",
              "      <td>4 days</td>\n",
              "      <td>1231</td>\n",
              "      <td>5290</td>\n",
              "      <td>0.232703</td>\n",
              "    </tr>\n",
              "    <tr>\n",
              "      <th>...</th>\n",
              "      <td>...</td>\n",
              "      <td>...</td>\n",
              "      <td>...</td>\n",
              "      <td>...</td>\n",
              "    </tr>\n",
              "    <tr>\n",
              "      <th>124</th>\n",
              "      <td>155 days</td>\n",
              "      <td>6</td>\n",
              "      <td>10</td>\n",
              "      <td>0.6</td>\n",
              "    </tr>\n",
              "    <tr>\n",
              "      <th>125</th>\n",
              "      <td>162 days</td>\n",
              "      <td>2</td>\n",
              "      <td>11</td>\n",
              "      <td>0.181818</td>\n",
              "    </tr>\n",
              "    <tr>\n",
              "      <th>126</th>\n",
              "      <td>169 days</td>\n",
              "      <td>1</td>\n",
              "      <td>8</td>\n",
              "      <td>0.125</td>\n",
              "    </tr>\n",
              "    <tr>\n",
              "      <th>127</th>\n",
              "      <td>176 days</td>\n",
              "      <td>6</td>\n",
              "      <td>16</td>\n",
              "      <td>0.375</td>\n",
              "    </tr>\n",
              "    <tr>\n",
              "      <th>128</th>\n",
              "      <td>179 days</td>\n",
              "      <td>2</td>\n",
              "      <td>10</td>\n",
              "      <td>0.2</td>\n",
              "    </tr>\n",
              "  </tbody>\n",
              "</table>\n",
              "<p>129 rows × 4 columns</p>\n",
              "</div>"
            ],
            "text/plain": [
              "    waiting_day   sum  count No_show_ratio\n",
              "0        0 days  1792  38561      0.046472\n",
              "1        1 days  1113   5213      0.213505\n",
              "2        2 days  1602   6725      0.238216\n",
              "3        3 days   642   2735      0.234735\n",
              "4        4 days  1231   5290      0.232703\n",
              "..          ...   ...    ...           ...\n",
              "124    155 days     6     10           0.6\n",
              "125    162 days     2     11      0.181818\n",
              "126    169 days     1      8         0.125\n",
              "127    176 days     6     16         0.375\n",
              "128    179 days     2     10           0.2\n",
              "\n",
              "[129 rows x 4 columns]"
            ]
          },
          "execution_count": 110,
          "metadata": {},
          "output_type": "execute_result"
        }
      ],
      "source": [
        "df_group_result = df_mod05_medical.groupby(['waiting_day'])['No-show'].agg(['sum', 'count']).reset_index()\n",
        "df_group_result['No_show_ratio'] = df_group_result['sum'] / df_group_result['count']\n",
        "df_group_result"
      ]
    },
    {
      "cell_type": "code",
      "execution_count": 115,
      "metadata": {},
      "outputs": [
        {
          "data": {
            "image/png": "[encoded data removed]",
            "text/plain": [
              "<Figure size 1500x400 with 1 Axes>"
            ]
          },
          "metadata": {},
          "output_type": "display_data"
        }
      ],
      "source": [
        "fig, ax = plt.subplots()\n",
        "fig.set_size_inches(15,4)\n",
        "\n",
        "sns.barplot(data=df_group_result, x=df_group_result.index, y='No_show_ratio')\n",
        "ax.set_ylim(0, 0.5)\n",
        "ax.set_xlim(0, 30)\n",
        "\n",
        "plt.show()"
      ]
    },
    {
      "cell_type": "code",
      "execution_count": 117,
      "metadata": {},
      "outputs": [
        {
          "data": {
            "text/html": [
              "<div>\n",
              "<style scoped>\n",
              "    .dataframe tbody tr th:only-of-type {\n",
              "        vertical-align: middle;\n",
              "    }\n",
              "\n",
              "    .dataframe tbody tr th {\n",
              "        vertical-align: top;\n",
              "    }\n",
              "\n",
              "    .dataframe thead th {\n",
              "        text-align: right;\n",
              "    }\n",
              "</style>\n",
              "<table border=\"1\" class=\"dataframe\">\n",
              "  <thead>\n",
              "    <tr style=\"text-align: right;\">\n",
              "      <th></th>\n",
              "      <th>PatientId</th>\n",
              "      <th>sum</th>\n",
              "      <th>count</th>\n",
              "      <th>No_show_ratio</th>\n",
              "    </tr>\n",
              "  </thead>\n",
              "  <tbody>\n",
              "    <tr>\n",
              "      <th>0</th>\n",
              "      <td>8.220000e+14</td>\n",
              "      <td>11</td>\n",
              "      <td>141</td>\n",
              "      <td>0.078014</td>\n",
              "    </tr>\n",
              "    <tr>\n",
              "      <th>1</th>\n",
              "      <td>3.350000e+13</td>\n",
              "      <td>6</td>\n",
              "      <td>127</td>\n",
              "      <td>0.047244</td>\n",
              "    </tr>\n",
              "    <tr>\n",
              "      <th>2</th>\n",
              "      <td>7.580000e+13</td>\n",
              "      <td>21</td>\n",
              "      <td>124</td>\n",
              "      <td>0.169355</td>\n",
              "    </tr>\n",
              "    <tr>\n",
              "      <th>3</th>\n",
              "      <td>8.190000e+13</td>\n",
              "      <td>17</td>\n",
              "      <td>123</td>\n",
              "      <td>0.138211</td>\n",
              "    </tr>\n",
              "    <tr>\n",
              "      <th>4</th>\n",
              "      <td>2.690000e+13</td>\n",
              "      <td>8</td>\n",
              "      <td>117</td>\n",
              "      <td>0.068376</td>\n",
              "    </tr>\n",
              "    <tr>\n",
              "      <th>...</th>\n",
              "      <td>...</td>\n",
              "      <td>...</td>\n",
              "      <td>...</td>\n",
              "      <td>...</td>\n",
              "    </tr>\n",
              "    <tr>\n",
              "      <th>6095</th>\n",
              "      <td>7.692837e+10</td>\n",
              "      <td>0</td>\n",
              "      <td>1</td>\n",
              "      <td>0.0</td>\n",
              "    </tr>\n",
              "    <tr>\n",
              "      <th>6096</th>\n",
              "      <td>3.674982e+10</td>\n",
              "      <td>0</td>\n",
              "      <td>1</td>\n",
              "      <td>0.0</td>\n",
              "    </tr>\n",
              "    <tr>\n",
              "      <th>6097</th>\n",
              "      <td>3.679254e+10</td>\n",
              "      <td>0</td>\n",
              "      <td>1</td>\n",
              "      <td>0.0</td>\n",
              "    </tr>\n",
              "    <tr>\n",
              "      <th>6098</th>\n",
              "      <td>7.682627e+10</td>\n",
              "      <td>0</td>\n",
              "      <td>1</td>\n",
              "      <td>0.0</td>\n",
              "    </tr>\n",
              "    <tr>\n",
              "      <th>6099</th>\n",
              "      <td>3.920000e+04</td>\n",
              "      <td>0</td>\n",
              "      <td>1</td>\n",
              "      <td>0.0</td>\n",
              "    </tr>\n",
              "  </tbody>\n",
              "</table>\n",
              "<p>6100 rows × 4 columns</p>\n",
              "</div>"
            ],
            "text/plain": [
              "         PatientId sum  count No_show_ratio\n",
              "0     8.220000e+14  11    141      0.078014\n",
              "1     3.350000e+13   6    127      0.047244\n",
              "2     7.580000e+13  21    124      0.169355\n",
              "3     8.190000e+13  17    123      0.138211\n",
              "4     2.690000e+13   8    117      0.068376\n",
              "...            ...  ..    ...           ...\n",
              "6095  7.692837e+10   0      1           0.0\n",
              "6096  3.674982e+10   0      1           0.0\n",
              "6097  3.679254e+10   0      1           0.0\n",
              "6098  7.682627e+10   0      1           0.0\n",
              "6099  3.920000e+04   0      1           0.0\n",
              "\n",
              "[6100 rows x 4 columns]"
            ]
          },
          "execution_count": 117,
          "metadata": {},
          "output_type": "execute_result"
        }
      ],
      "source": [
        "df_group01_result = df_mod05_medical.groupby(['PatientId'])['No-show'].agg(['sum', 'count']).sort_values(by='count',ascending=False).reset_index()\n",
        "df_group01_result['No_show_ratio'] = df_group01_result['sum'] / df_group01_result['count']\n",
        "df_group01_result"
      ]
    },
    {
      "cell_type": "code",
      "execution_count": 121,
      "metadata": {},
      "outputs": [
        {
          "data": {
            "image/png": "[encoded data removed]",
            "text/plain": [
              "<Figure size 1500x400 with 1 Axes>"
            ]
          },
          "metadata": {},
          "output_type": "display_data"
        }
      ],
      "source": [
        "fig, ax = plt.subplots()\n",
        "fig.set_size_inches(15,4)\n",
        "\n",
        "df_data_sample = df_group01_result.iloc[0:500,:]\n",
        "\n",
        "sns.barplot(data=df_data_sample, x=df_data_sample.index, y='count')\n",
        "# ax.set_xlim(0, 50)\n",
        "\n",
        "plt.show()"
      ]
    },
    {
      "cell_type": "code",
      "execution_count": 125,
      "metadata": {},
      "outputs": [
        {
          "data": {
            "image/png": "[encoded data removed]",
            "text/plain": [
              "<Figure size 1500x400 with 1 Axes>"
            ]
          },
          "metadata": {},
          "output_type": "display_data"
        }
      ],
      "source": [
        "fig, ax = plt.subplots()\n",
        "fig.set_size_inches(15,4)\n",
        "\n",
        "df_data_sample = df_group01_result.iloc[0:500,:]\n",
        "\n",
        "sns.histplot(data=df_data_sample, x='count', bins=140)\n",
        "ax.set_xlim(50, 70)\n",
        "\n",
        "plt.show()"
      ]
    },
    {
      "cell_type": "code",
      "execution_count": 127,
      "metadata": {},
      "outputs": [
        {
          "data": {
            "image/png": "[encoded data removed]",
            "text/plain": [
              "<Figure size 1500x400 with 1 Axes>"
            ]
          },
          "metadata": {},
          "output_type": "display_data"
        }
      ],
      "source": [
        "fig, ax = plt.subplots()\n",
        "fig.set_size_inches(15,4)\n",
        "\n",
        "df_data_sample = df_group01_result.iloc[0:500,:]\n",
        "\n",
        "sns.barplot(data=df_data_sample, x=df_data_sample.index, y='No_show_ratio')\n",
        "ax.set_xlim(0, 50)\n",
        "\n",
        "plt.show()"
      ]
    },
    {
      "cell_type": "code",
      "execution_count": 148,
      "metadata": {},
      "outputs": [
        {
          "data": {
            "text/html": [
              "<div>\n",
              "<style scoped>\n",
              "    .dataframe tbody tr th:only-of-type {\n",
              "        vertical-align: middle;\n",
              "    }\n",
              "\n",
              "    .dataframe tbody tr th {\n",
              "        vertical-align: top;\n",
              "    }\n",
              "\n",
              "    .dataframe thead th {\n",
              "        text-align: right;\n",
              "    }\n",
              "</style>\n",
              "<table border=\"1\" class=\"dataframe\">\n",
              "  <thead>\n",
              "    <tr style=\"text-align: right;\">\n",
              "      <th></th>\n",
              "      <th>PatientId</th>\n",
              "      <th>waiting_day</th>\n",
              "      <th>sum</th>\n",
              "      <th>count</th>\n",
              "      <th>No_show_ratio</th>\n",
              "    </tr>\n",
              "  </thead>\n",
              "  <tbody>\n",
              "    <tr>\n",
              "      <th>0</th>\n",
              "      <td>1.220000e+12</td>\n",
              "      <td>179</td>\n",
              "      <td>1</td>\n",
              "      <td>1</td>\n",
              "      <td>1.0</td>\n",
              "    </tr>\n",
              "    <tr>\n",
              "      <th>1</th>\n",
              "      <td>3.510000e+14</td>\n",
              "      <td>179</td>\n",
              "      <td>1</td>\n",
              "      <td>1</td>\n",
              "      <td>1.0</td>\n",
              "    </tr>\n",
              "    <tr>\n",
              "      <th>2</th>\n",
              "      <td>3.110000e+13</td>\n",
              "      <td>179</td>\n",
              "      <td>0</td>\n",
              "      <td>1</td>\n",
              "      <td>0.0</td>\n",
              "    </tr>\n",
              "    <tr>\n",
              "      <th>3</th>\n",
              "      <td>2.550000e+14</td>\n",
              "      <td>179</td>\n",
              "      <td>0</td>\n",
              "      <td>1</td>\n",
              "      <td>0.0</td>\n",
              "    </tr>\n",
              "    <tr>\n",
              "      <th>4</th>\n",
              "      <td>3.190000e+13</td>\n",
              "      <td>179</td>\n",
              "      <td>0</td>\n",
              "      <td>1</td>\n",
              "      <td>0.0</td>\n",
              "    </tr>\n",
              "    <tr>\n",
              "      <th>...</th>\n",
              "      <td>...</td>\n",
              "      <td>...</td>\n",
              "      <td>...</td>\n",
              "      <td>...</td>\n",
              "      <td>...</td>\n",
              "    </tr>\n",
              "    <tr>\n",
              "      <th>51835</th>\n",
              "      <td>7.950000e+11</td>\n",
              "      <td>0</td>\n",
              "      <td>1</td>\n",
              "      <td>2</td>\n",
              "      <td>0.5</td>\n",
              "    </tr>\n",
              "    <tr>\n",
              "      <th>51836</th>\n",
              "      <td>3.600000e+12</td>\n",
              "      <td>0</td>\n",
              "      <td>0</td>\n",
              "      <td>4</td>\n",
              "      <td>0.0</td>\n",
              "    </tr>\n",
              "    <tr>\n",
              "      <th>51837</th>\n",
              "      <td>8.672423e+10</td>\n",
              "      <td>0</td>\n",
              "      <td>0</td>\n",
              "      <td>1</td>\n",
              "      <td>0.0</td>\n",
              "    </tr>\n",
              "    <tr>\n",
              "      <th>51838</th>\n",
              "      <td>8.669647e+10</td>\n",
              "      <td>0</td>\n",
              "      <td>0</td>\n",
              "      <td>2</td>\n",
              "      <td>0.0</td>\n",
              "    </tr>\n",
              "    <tr>\n",
              "      <th>51839</th>\n",
              "      <td>3.690000e+14</td>\n",
              "      <td>0</td>\n",
              "      <td>0</td>\n",
              "      <td>6</td>\n",
              "      <td>0.0</td>\n",
              "    </tr>\n",
              "  </tbody>\n",
              "</table>\n",
              "<p>51840 rows × 5 columns</p>\n",
              "</div>"
            ],
            "text/plain": [
              "          PatientId  waiting_day  sum  count  No_show_ratio\n",
              "0      1.220000e+12          179    1      1            1.0\n",
              "1      3.510000e+14          179    1      1            1.0\n",
              "2      3.110000e+13          179    0      1            0.0\n",
              "3      2.550000e+14          179    0      1            0.0\n",
              "4      3.190000e+13          179    0      1            0.0\n",
              "...             ...          ...  ...    ...            ...\n",
              "51835  7.950000e+11            0    1      2            0.5\n",
              "51836  3.600000e+12            0    0      4            0.0\n",
              "51837  8.672423e+10            0    0      1            0.0\n",
              "51838  8.669647e+10            0    0      2            0.0\n",
              "51839  3.690000e+14            0    0      6            0.0\n",
              "\n",
              "[51840 rows x 5 columns]"
            ]
          },
          "execution_count": 148,
          "metadata": {},
          "output_type": "execute_result"
        }
      ],
      "source": [
        "df_group02_result = df_mod05_medical.groupby(['PatientId', 'waiting_day'])['No-show'].agg(['sum', 'count']).sort_values(by='waiting_day',ascending=False).reset_index()\n",
        "df_group02_result['No_show_ratio'] = df_group02_result['sum'] / df_group02_result['count']\n",
        "df_group02_result"
      ]
    },
    {
      "cell_type": "code",
      "execution_count": 149,
      "metadata": {},
      "outputs": [
        {
          "data": {
            "image/png": "[encoded data removed]",
            "text/plain": [
              "<Figure size 1500x400 with 1 Axes>"
            ]
          },
          "metadata": {},
          "output_type": "display_data"
        }
      ],
      "source": [
        "fig, ax = plt.subplots()\n",
        "fig.set_size_inches(15,4)\n",
        "\n",
        "sns.barplot(data=df_mod05_medical, x='SMS_received', y='waiting_day', hue='No-show')\n",
        "\n",
        "plt.show()"
      ]
    },
    {
      "cell_type": "code",
      "execution_count": 150,
      "metadata": {},
      "outputs": [
        {
          "data": {
            "text/html": [
              "<div>\n",
              "<style scoped>\n",
              "    .dataframe tbody tr th:only-of-type {\n",
              "        vertical-align: middle;\n",
              "    }\n",
              "\n",
              "    .dataframe tbody tr th {\n",
              "        vertical-align: top;\n",
              "    }\n",
              "\n",
              "    .dataframe thead th {\n",
              "        text-align: right;\n",
              "    }\n",
              "</style>\n",
              "<table border=\"1\" class=\"dataframe\">\n",
              "  <thead>\n",
              "    <tr style=\"text-align: right;\">\n",
              "      <th></th>\n",
              "      <th>SMS_received</th>\n",
              "      <th>sum</th>\n",
              "      <th>count</th>\n",
              "      <th>No_show_ratio</th>\n",
              "    </tr>\n",
              "  </thead>\n",
              "  <tbody>\n",
              "    <tr>\n",
              "      <th>0</th>\n",
              "      <td>0</td>\n",
              "      <td>12527</td>\n",
              "      <td>75035</td>\n",
              "      <td>0.166949</td>\n",
              "    </tr>\n",
              "    <tr>\n",
              "      <th>1</th>\n",
              "      <td>1</td>\n",
              "      <td>9784</td>\n",
              "      <td>35481</td>\n",
              "      <td>0.275753</td>\n",
              "    </tr>\n",
              "  </tbody>\n",
              "</table>\n",
              "</div>"
            ],
            "text/plain": [
              "   SMS_received    sum  count  No_show_ratio\n",
              "0             0  12527  75035       0.166949\n",
              "1             1   9784  35481       0.275753"
            ]
          },
          "execution_count": 150,
          "metadata": {},
          "output_type": "execute_result"
        }
      ],
      "source": [
        "df_group03_result = df_mod05_medical.groupby(['SMS_received'])['No-show'].agg(['sum', 'count']).reset_index()\n",
        "df_group03_result['No_show_ratio'] = df_group03_result['sum'] / df_group03_result['count']\n",
        "df_group03_result"
      ]
    },
    {
      "cell_type": "code",
      "execution_count": 153,
      "metadata": {},
      "outputs": [
        {
          "name": "stdout",
          "output_type": "stream",
          "text": [
            "<class 'pandas.core.frame.DataFrame'>\n",
            "RangeIndex: 110516 entries, 0 to 110515\n",
            "Data columns (total 10 columns):\n",
            " #   Column          Non-Null Count   Dtype              \n",
            "---  ------          --------------   -----              \n",
            " 0   PatientId       110516 non-null  float64            \n",
            " 1   AppointmentID   110516 non-null  int64              \n",
            " 2   Gender          110516 non-null  object             \n",
            " 3   ScheduledDay    110516 non-null  datetime64[ns, UTC]\n",
            " 4   AppointmentDay  110516 non-null  datetime64[ns, UTC]\n",
            " 5   Age             110516 non-null  int64              \n",
            " 6   Neighbourhood   110516 non-null  object             \n",
            " 7   SMS_received    110516 non-null  int64              \n",
            " 8   No-show         110516 non-null  int32              \n",
            " 9   waiting_day     110516 non-null  int64              \n",
            "dtypes: datetime64[ns, UTC](2), float64(1), int32(1), int64(4), object(2)\n",
            "memory usage: 8.0+ MB\n"
          ]
        }
      ],
      "source": [
        "df_mod05_medical['No-show'] = df_mod05_medical['No-show'].astype(int)\n",
        "df_mod05_medical.info()"
      ]
    },
    {
      "cell_type": "code",
      "execution_count": 156,
      "metadata": {
        "colab": {
          "base_uri": "https://localhost:8080/",
          "height": 288
        },
        "id": "YL-US_XRC9za",
        "outputId": "f40e338e-6d69-4082-9400-c5e0a1214a9e"
      },
      "outputs": [
        {
          "data": {
            "image/png": "[encoded data removed]",
            "text/plain": [
              "<Figure size 500x500 with 2 Axes>"
            ]
          },
          "metadata": {},
          "output_type": "display_data"
        }
      ],
      "source": [
        "fig, ax = plt.subplots()\n",
        "fig.set_size_inches(5,5)\n",
        "\n",
        "temp_corr = df_mod05_medical.iloc[:,[7,8,9]].corr()\n",
        "# upp_mat = np.triu(temp_corr)\n",
        "sns.heatmap(temp_corr, annot=True, cmap='YlGnBu')#, mask=upp_mat)\n",
        "\n",
        "plt.show()"
      ]
    },
    {
      "cell_type": "code",
      "execution_count": 157,
      "metadata": {
        "colab": {
          "base_uri": "https://localhost:8080/",
          "height": 297
        },
        "id": "PYSSdjFLLkYY",
        "outputId": "b98e608d-644b-490f-b3d0-a4abb6bb3550"
      },
      "outputs": [
        {
          "data": {
            "text/plain": [
              "<AxesSubplot: xlabel='No-show', ylabel='count'>"
            ]
          },
          "execution_count": 157,
          "metadata": {},
          "output_type": "execute_result"
        },
        {
          "data": {
            "image/png": "[encoded data removed]",
            "text/plain": [
              "<Figure size 640x480 with 1 Axes>"
            ]
          },
          "metadata": {},
          "output_type": "display_data"
        }
      ],
      "source": [
        "sns.countplot(x='No-show',data=df_mod05_medical)"
      ]
    },
    {
      "cell_type": "code",
      "execution_count": 158,
      "metadata": {
        "colab": {
          "base_uri": "https://localhost:8080/",
          "height": 301
        },
        "id": "FDNW4nGzLn-R",
        "outputId": "cdc3afef-4da1-41ef-ed79-05c2671f41ae"
      },
      "outputs": [
        {
          "data": {
            "text/plain": [
              "<AxesSubplot: xlabel='Gender', ylabel='count'>"
            ]
          },
          "execution_count": 158,
          "metadata": {},
          "output_type": "execute_result"
        },
        {
          "data": {
            "image/png": "[encoded data removed]",
            "text/plain": [
              "<Figure size 640x480 with 1 Axes>"
            ]
          },
          "metadata": {},
          "output_type": "display_data"
        }
      ],
      "source": [
        "sns.countplot(x='Gender',hue='No-show',data=df_mod05_medical)"
      ]
    },
    {
      "cell_type": "code",
      "execution_count": 159,
      "metadata": {},
      "outputs": [
        {
          "data": {
            "text/html": [
              "<div>\n",
              "<style scoped>\n",
              "    .dataframe tbody tr th:only-of-type {\n",
              "        vertical-align: middle;\n",
              "    }\n",
              "\n",
              "    .dataframe tbody tr th {\n",
              "        vertical-align: top;\n",
              "    }\n",
              "\n",
              "    .dataframe thead th {\n",
              "        text-align: right;\n",
              "    }\n",
              "</style>\n",
              "<table border=\"1\" class=\"dataframe\">\n",
              "  <thead>\n",
              "    <tr style=\"text-align: right;\">\n",
              "      <th></th>\n",
              "      <th>Gender</th>\n",
              "      <th>sum</th>\n",
              "      <th>count</th>\n",
              "      <th>No_show_ratio</th>\n",
              "    </tr>\n",
              "  </thead>\n",
              "  <tbody>\n",
              "    <tr>\n",
              "      <th>0</th>\n",
              "      <td>F</td>\n",
              "      <td>14588</td>\n",
              "      <td>71831</td>\n",
              "      <td>0.203088</td>\n",
              "    </tr>\n",
              "    <tr>\n",
              "      <th>1</th>\n",
              "      <td>M</td>\n",
              "      <td>7723</td>\n",
              "      <td>38685</td>\n",
              "      <td>0.199638</td>\n",
              "    </tr>\n",
              "  </tbody>\n",
              "</table>\n",
              "</div>"
            ],
            "text/plain": [
              "  Gender    sum  count  No_show_ratio\n",
              "0      F  14588  71831       0.203088\n",
              "1      M   7723  38685       0.199638"
            ]
          },
          "execution_count": 159,
          "metadata": {},
          "output_type": "execute_result"
        }
      ],
      "source": [
        "df_group04_result = df_mod05_medical.groupby(['Gender'])['No-show'].agg(['sum', 'count']).reset_index()\n",
        "df_group04_result['No_show_ratio'] = df_group04_result['sum'] / df_group04_result['count']\n",
        "df_group04_result"
      ]
    }
  ],
  "metadata": {
    "colab": {
      "provenance": []
    },
    "kernelspec": {
      "display_name": "Python 3",
      "name": "python3"
    },
    "language_info": {
      "codemirror_mode": {
        "name": "ipython",
        "version": 3
      },
      "file_extension": ".py",
      "mimetype": "text/x-python",
      "name": "python",
      "nbconvert_exporter": "python",
      "pygments_lexer": "ipython3",
      "version": "3.9.13"
    }
  },
  "nbformat": 4,
  "nbformat_minor": 0
}
