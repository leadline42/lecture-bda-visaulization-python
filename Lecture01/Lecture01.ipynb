{
  "cells": [
    {
      "cell_type": "markdown",
      "metadata": {
        "id": "RtWE3CqjNyn_"
      },
      "source": [
        "# 데이터 처리가 쉬운 판다스\n",
        " - 링크: https://pandas.pydata.org/"
      ]
    },
    {
      "cell_type": "markdown",
      "metadata": {},
      "source": [
        "# 2. 판다스 객체 생성"
      ]
    },
    {
      "cell_type": "markdown",
      "metadata": {
        "id": "srvm8z-XwsYb"
      },
      "source": [
        "## (1) Series와 DataFrame\n"
      ]
    },
    {
      "cell_type": "code",
      "execution_count": 209,
      "metadata": {},
      "outputs": [],
      "source": [
        "# 라이브러리 불러오기\n",
        "import pandas as pd\n",
        "import numpy as np\n",
        "import matplotlib.pyplot as plt\n",
        "import seaborn as sns"
      ]
    },
    {
      "cell_type": "code",
      "execution_count": 78,
      "metadata": {
        "colab": {
          "base_uri": "https://localhost:8080/"
        },
        "id": "fcjrPQ8-uYjp",
        "outputId": "7cc5e39b-c1d4-4bc2-fdc5-6f04aceb04a7"
      },
      "outputs": [
        {
          "data": {
            "text/plain": [
              "0    95\n",
              "1    90\n",
              "2    85\n",
              "3    90\n",
              "4    95\n",
              "dtype: int64"
            ]
          },
          "execution_count": 78,
          "metadata": {},
          "output_type": "execute_result"
        }
      ],
      "source": [
        "# 정수형 데이터 Series 생성\n",
        "score = pd.Series([95, 90, 85, 90, 95])\n",
        "score"
      ]
    },
    {
      "cell_type": "code",
      "execution_count": 79,
      "metadata": {
        "colab": {
          "base_uri": "https://localhost:8080/"
        },
        "id": "D0inUIFjyPMi",
        "outputId": "737f891f-96d1-4c4f-ef87-0f1ff5d68695"
      },
      "outputs": [
        {
          "data": {
            "text/plain": [
              "0    4.0\n",
              "1    3.5\n",
              "2    3.8\n",
              "3    3.0\n",
              "4    3.7\n",
              "dtype: float64"
            ]
          },
          "execution_count": 79,
          "metadata": {},
          "output_type": "execute_result"
        }
      ],
      "source": [
        "# 실수형 데이터 Series 생성\n",
        "s1 = pd.Series([4, 3.5, 3.8, 3, 3.7])\n",
        "s1"
      ]
    },
    {
      "cell_type": "code",
      "execution_count": 80,
      "metadata": {
        "colab": {
          "base_uri": "https://localhost:8080/"
        },
        "id": "HiORkKKhzUYB",
        "outputId": "e410afe6-af16-439b-d913-ae0e49d8067d"
      },
      "outputs": [
        {
          "data": {
            "text/plain": [
              "A    90\n",
              "B    80\n",
              "C    95\n",
              "dtype: int64"
            ]
          },
          "execution_count": 80,
          "metadata": {},
          "output_type": "execute_result"
        }
      ],
      "source": [
        "# 인덱스 지정하기\n",
        "s2 = pd.Series([90, 80, 95], index=['A', 'B', 'C'])\n",
        "s2"
      ]
    },
    {
      "cell_type": "code",
      "execution_count": 81,
      "metadata": {},
      "outputs": [
        {
          "data": {
            "text/plain": [
              "A    90\n",
              "B    80\n",
              "C    95\n",
              "Name: 점수, dtype: int64"
            ]
          },
          "execution_count": 81,
          "metadata": {},
          "output_type": "execute_result"
        }
      ],
      "source": [
        "## 인데스와 이름(Column Name)까지 지정하기\n",
        "s3 = pd.Series([90, 80, 95], index=['A', 'B', 'C'], name=\"점수\")\n",
        "s3"
      ]
    },
    {
      "cell_type": "code",
      "execution_count": 84,
      "metadata": {
        "colab": {
          "base_uri": "https://localhost:8080/"
        },
        "id": "V5GPYFo60a2Y",
        "outputId": "c2dbba50-0764-4587-93bb-f47e56678ae8"
      },
      "outputs": [
        {
          "name": "stdout",
          "output_type": "stream",
          "text": [
            "[[ 0  1  2]\n",
            " [ 3  4  5]\n",
            " [ 6  7  8]\n",
            " [ 9 10 11]] \n",
            "    0   1   2\n",
            "0  0   1   2\n",
            "1  3   4   5\n",
            "2  6   7   8\n",
            "3  9  10  11\n"
          ]
        }
      ],
      "source": [
        "# 넘파이로 배열생성하기\n",
        "arr = np.arange(12).reshape(4,3)\n",
        "df1 = pd.DataFrame(arr)\n",
        "print(arr, '\\n', df1)"
      ]
    },
    {
      "cell_type": "code",
      "execution_count": 85,
      "metadata": {
        "colab": {
          "base_uri": "https://localhost:8080/",
          "height": 143
        },
        "id": "stmRC2IW2Yzc",
        "outputId": "03dc4949-41d0-4f7c-af5c-033be8f7c376"
      },
      "outputs": [
        {
          "data": {
            "text/html": [
              "<div>\n",
              "<style scoped>\n",
              "    .dataframe tbody tr th:only-of-type {\n",
              "        vertical-align: middle;\n",
              "    }\n",
              "\n",
              "    .dataframe tbody tr th {\n",
              "        vertical-align: top;\n",
              "    }\n",
              "\n",
              "    .dataframe thead th {\n",
              "        text-align: right;\n",
              "    }\n",
              "</style>\n",
              "<table border=\"1\" class=\"dataframe\">\n",
              "  <thead>\n",
              "    <tr style=\"text-align: right;\">\n",
              "      <th></th>\n",
              "      <th>name</th>\n",
              "      <th>score</th>\n",
              "      <th>dept</th>\n",
              "    </tr>\n",
              "  </thead>\n",
              "  <tbody>\n",
              "    <tr>\n",
              "      <th>0</th>\n",
              "      <td>장은실</td>\n",
              "      <td>90</td>\n",
              "      <td>com</td>\n",
              "    </tr>\n",
              "    <tr>\n",
              "      <th>1</th>\n",
              "      <td>오경선</td>\n",
              "      <td>80</td>\n",
              "      <td>eng</td>\n",
              "    </tr>\n",
              "    <tr>\n",
              "      <th>2</th>\n",
              "      <td>양숙희</td>\n",
              "      <td>95</td>\n",
              "      <td>math</td>\n",
              "    </tr>\n",
              "  </tbody>\n",
              "</table>\n",
              "</div>"
            ],
            "text/plain": [
              "  name  score  dept\n",
              "0  장은실     90   com\n",
              "1  오경선     80   eng\n",
              "2  양숙희     95  math"
            ]
          },
          "execution_count": 85,
          "metadata": {},
          "output_type": "execute_result"
        }
      ],
      "source": [
        "# 딕셔너리로 데이터프레임 생성하기\n",
        "df2 = pd.DataFrame({'name':['장은실', '오경선', '양숙희'],\n",
        "                    'score':[90, 80, 95],\n",
        "                    'dept':['com', 'eng', 'math']})\n",
        "df2"
      ]
    },
    {
      "cell_type": "code",
      "execution_count": 86,
      "metadata": {},
      "outputs": [
        {
          "data": {
            "text/html": [
              "<div>\n",
              "<style scoped>\n",
              "    .dataframe tbody tr th:only-of-type {\n",
              "        vertical-align: middle;\n",
              "    }\n",
              "\n",
              "    .dataframe tbody tr th {\n",
              "        vertical-align: top;\n",
              "    }\n",
              "\n",
              "    .dataframe thead th {\n",
              "        text-align: right;\n",
              "    }\n",
              "</style>\n",
              "<table border=\"1\" class=\"dataframe\">\n",
              "  <thead>\n",
              "    <tr style=\"text-align: right;\">\n",
              "      <th></th>\n",
              "      <th>name</th>\n",
              "      <th>score</th>\n",
              "      <th>dept</th>\n",
              "    </tr>\n",
              "  </thead>\n",
              "  <tbody>\n",
              "    <tr>\n",
              "      <th>0</th>\n",
              "      <td>장은실</td>\n",
              "      <td>90</td>\n",
              "      <td>com</td>\n",
              "    </tr>\n",
              "    <tr>\n",
              "      <th>1</th>\n",
              "      <td>오경선</td>\n",
              "      <td>80</td>\n",
              "      <td>eng</td>\n",
              "    </tr>\n",
              "    <tr>\n",
              "      <th>2</th>\n",
              "      <td>양숙희</td>\n",
              "      <td>95</td>\n",
              "      <td>math</td>\n",
              "    </tr>\n",
              "  </tbody>\n",
              "</table>\n",
              "</div>"
            ],
            "text/plain": [
              "  name  score  dept\n",
              "0  장은실     90   com\n",
              "1  오경선     80   eng\n",
              "2  양숙희     95  math"
            ]
          },
          "execution_count": 86,
          "metadata": {},
          "output_type": "execute_result"
        }
      ],
      "source": [
        "## 리스트로 데이터프레임 생성하기\n",
        "list_data = [['장은실', 90, 'com'], ['오경선', 80, 'eng'], ['양숙희', 95, 'math']]\n",
        "df3 = pd.DataFrame(list_data, columns=['name', 'score', 'dept'])\n",
        "df3"
      ]
    },
    {
      "cell_type": "code",
      "execution_count": 87,
      "metadata": {
        "colab": {
          "base_uri": "https://localhost:8080/",
          "height": 174
        },
        "id": "lKWAYLzj6LgH",
        "outputId": "4f5324e7-99b6-447d-853b-784ab4721be0"
      },
      "outputs": [
        {
          "data": {
            "text/html": [
              "<div>\n",
              "<style scoped>\n",
              "    .dataframe tbody tr th:only-of-type {\n",
              "        vertical-align: middle;\n",
              "    }\n",
              "\n",
              "    .dataframe tbody tr th {\n",
              "        vertical-align: top;\n",
              "    }\n",
              "\n",
              "    .dataframe thead th {\n",
              "        text-align: right;\n",
              "    }\n",
              "</style>\n",
              "<table border=\"1\" class=\"dataframe\">\n",
              "  <thead>\n",
              "    <tr style=\"text-align: right;\">\n",
              "      <th></th>\n",
              "      <th>Brand</th>\n",
              "      <th>Color</th>\n",
              "      <th>price</th>\n",
              "    </tr>\n",
              "  </thead>\n",
              "  <tbody>\n",
              "    <tr>\n",
              "      <th>0</th>\n",
              "      <td>Samsung</td>\n",
              "      <td>Black</td>\n",
              "      <td>100</td>\n",
              "    </tr>\n",
              "    <tr>\n",
              "      <th>1</th>\n",
              "      <td>LG</td>\n",
              "      <td>Gold</td>\n",
              "      <td>70</td>\n",
              "    </tr>\n",
              "    <tr>\n",
              "      <th>2</th>\n",
              "      <td>Apple</td>\n",
              "      <td>Silver</td>\n",
              "      <td>150</td>\n",
              "    </tr>\n",
              "    <tr>\n",
              "      <th>3</th>\n",
              "      <td>Apple</td>\n",
              "      <td>Gray</td>\n",
              "      <td>120</td>\n",
              "    </tr>\n",
              "  </tbody>\n",
              "</table>\n",
              "</div>"
            ],
            "text/plain": [
              "     Brand   Color  price\n",
              "0  Samsung   Black    100\n",
              "1       LG    Gold     70\n",
              "2    Apple  Silver    150\n",
              "3    Apple    Gray    120"
            ]
          },
          "execution_count": 87,
          "metadata": {},
          "output_type": "execute_result"
        }
      ],
      "source": [
        "# csv파일 불러오기\n",
        "filename='./Data/mobile.csv'\n",
        "df_rawdata_mobile = pd.read_csv(filename)\n",
        "df_rawdata_mobile"
      ]
    },
    {
      "cell_type": "code",
      "execution_count": 88,
      "metadata": {
        "colab": {
          "base_uri": "https://localhost:8080/",
          "height": 206
        },
        "id": "Gw0IIMVe7HbL",
        "outputId": "25ae155e-fb63-43c0-faef-0cd812b25b29"
      },
      "outputs": [
        {
          "data": {
            "text/html": [
              "<div>\n",
              "<style scoped>\n",
              "    .dataframe tbody tr th:only-of-type {\n",
              "        vertical-align: middle;\n",
              "    }\n",
              "\n",
              "    .dataframe tbody tr th {\n",
              "        vertical-align: top;\n",
              "    }\n",
              "\n",
              "    .dataframe thead th {\n",
              "        text-align: right;\n",
              "    }\n",
              "</style>\n",
              "<table border=\"1\" class=\"dataframe\">\n",
              "  <thead>\n",
              "    <tr style=\"text-align: right;\">\n",
              "      <th></th>\n",
              "      <th>Color</th>\n",
              "      <th>price</th>\n",
              "    </tr>\n",
              "    <tr>\n",
              "      <th>Brand</th>\n",
              "      <th></th>\n",
              "      <th></th>\n",
              "    </tr>\n",
              "  </thead>\n",
              "  <tbody>\n",
              "    <tr>\n",
              "      <th>Samsung</th>\n",
              "      <td>Black</td>\n",
              "      <td>100</td>\n",
              "    </tr>\n",
              "    <tr>\n",
              "      <th>LG</th>\n",
              "      <td>Gold</td>\n",
              "      <td>70</td>\n",
              "    </tr>\n",
              "    <tr>\n",
              "      <th>Apple</th>\n",
              "      <td>Silver</td>\n",
              "      <td>150</td>\n",
              "    </tr>\n",
              "    <tr>\n",
              "      <th>Apple</th>\n",
              "      <td>Gray</td>\n",
              "      <td>120</td>\n",
              "    </tr>\n",
              "  </tbody>\n",
              "</table>\n",
              "</div>"
            ],
            "text/plain": [
              "          Color  price\n",
              "Brand                 \n",
              "Samsung   Black    100\n",
              "LG         Gold     70\n",
              "Apple    Silver    150\n",
              "Apple      Gray    120"
            ]
          },
          "execution_count": 88,
          "metadata": {},
          "output_type": "execute_result"
        }
      ],
      "source": [
        "# csv파일 불러오기와 첫번째 컬럼을 인덱스로 지정하기\n",
        "df_rawdata_mobile = pd.read_csv(filename, index_col=0)\n",
        "df_rawdata_mobile"
      ]
    },
    {
      "cell_type": "markdown",
      "metadata": {
        "id": "g5zGPhKt-qBd"
      },
      "source": [
        "# 3. 판다스 데이터 확인하기"
      ]
    },
    {
      "cell_type": "code",
      "execution_count": 89,
      "metadata": {
        "colab": {
          "base_uri": "https://localhost:8080/",
          "height": 423
        },
        "id": "wY6QgQPs78Ox",
        "outputId": "3d72fa7c-1a2c-46c5-93e7-ccb77a64c770"
      },
      "outputs": [
        {
          "name": "stdout",
          "output_type": "stream",
          "text": [
            "<class 'pandas.core.frame.DataFrame'>\n",
            "RangeIndex: 3653 entries, 0 to 3652\n",
            "Data columns (total 4 columns):\n",
            " #   Column     Non-Null Count  Dtype  \n",
            "---  ------     --------------  -----  \n",
            " 0   date       3653 non-null   object \n",
            " 1   temp       3653 non-null   float64\n",
            " 2   max_wind   3649 non-null   float64\n",
            " 3   mean_wind  3647 non-null   float64\n",
            "dtypes: float64(3), object(1)\n",
            "memory usage: 114.3+ KB\n"
          ]
        }
      ],
      "source": [
        "filename='./Data/weather.csv'\n",
        "df_rawdata_weather = pd.read_csv(filename)\n",
        "df_rawdata_weather.info() # 데이터에 대한 전반적인 정보를 출력"
      ]
    },
    {
      "cell_type": "code",
      "execution_count": 90,
      "metadata": {
        "colab": {
          "base_uri": "https://localhost:8080/"
        },
        "id": "3rQSmY3LDr9Y",
        "outputId": "3ccdf62f-e152-4427-e0a6-cf51f4d60a4f"
      },
      "outputs": [
        {
          "data": {
            "text/plain": [
              "(3653, 4)"
            ]
          },
          "execution_count": 90,
          "metadata": {},
          "output_type": "execute_result"
        }
      ],
      "source": [
        "df_rawdata_weather.shape # (행, 열) 크기 확인"
      ]
    },
    {
      "cell_type": "code",
      "execution_count": 91,
      "metadata": {
        "colab": {
          "base_uri": "https://localhost:8080/",
          "height": 206
        },
        "id": "jYXvJ7oO_3gx",
        "outputId": "9c221f90-8c4e-4ba0-fbba-b4dc50bc8e96"
      },
      "outputs": [
        {
          "data": {
            "text/html": [
              "<div>\n",
              "<style scoped>\n",
              "    .dataframe tbody tr th:only-of-type {\n",
              "        vertical-align: middle;\n",
              "    }\n",
              "\n",
              "    .dataframe tbody tr th {\n",
              "        vertical-align: top;\n",
              "    }\n",
              "\n",
              "    .dataframe thead th {\n",
              "        text-align: right;\n",
              "    }\n",
              "</style>\n",
              "<table border=\"1\" class=\"dataframe\">\n",
              "  <thead>\n",
              "    <tr style=\"text-align: right;\">\n",
              "      <th></th>\n",
              "      <th>date</th>\n",
              "      <th>temp</th>\n",
              "      <th>max_wind</th>\n",
              "      <th>mean_wind</th>\n",
              "    </tr>\n",
              "  </thead>\n",
              "  <tbody>\n",
              "    <tr>\n",
              "      <th>0</th>\n",
              "      <td>2010-08-01</td>\n",
              "      <td>28.7</td>\n",
              "      <td>8.3</td>\n",
              "      <td>3.4</td>\n",
              "    </tr>\n",
              "    <tr>\n",
              "      <th>1</th>\n",
              "      <td>2010-08-02</td>\n",
              "      <td>25.2</td>\n",
              "      <td>8.7</td>\n",
              "      <td>3.8</td>\n",
              "    </tr>\n",
              "    <tr>\n",
              "      <th>2</th>\n",
              "      <td>2010-08-03</td>\n",
              "      <td>22.1</td>\n",
              "      <td>6.3</td>\n",
              "      <td>2.9</td>\n",
              "    </tr>\n",
              "    <tr>\n",
              "      <th>3</th>\n",
              "      <td>2010-08-04</td>\n",
              "      <td>25.3</td>\n",
              "      <td>6.6</td>\n",
              "      <td>4.2</td>\n",
              "    </tr>\n",
              "    <tr>\n",
              "      <th>4</th>\n",
              "      <td>2010-08-05</td>\n",
              "      <td>27.2</td>\n",
              "      <td>9.1</td>\n",
              "      <td>5.6</td>\n",
              "    </tr>\n",
              "    <tr>\n",
              "      <th>5</th>\n",
              "      <td>2010-08-06</td>\n",
              "      <td>26.8</td>\n",
              "      <td>9.8</td>\n",
              "      <td>8.0</td>\n",
              "    </tr>\n",
              "    <tr>\n",
              "      <th>6</th>\n",
              "      <td>2010-08-07</td>\n",
              "      <td>27.5</td>\n",
              "      <td>9.1</td>\n",
              "      <td>5.0</td>\n",
              "    </tr>\n",
              "    <tr>\n",
              "      <th>7</th>\n",
              "      <td>2010-08-08</td>\n",
              "      <td>26.6</td>\n",
              "      <td>5.9</td>\n",
              "      <td>4.0</td>\n",
              "    </tr>\n",
              "    <tr>\n",
              "      <th>8</th>\n",
              "      <td>2010-08-09</td>\n",
              "      <td>26.9</td>\n",
              "      <td>5.1</td>\n",
              "      <td>3.1</td>\n",
              "    </tr>\n",
              "    <tr>\n",
              "      <th>9</th>\n",
              "      <td>2010-08-10</td>\n",
              "      <td>25.6</td>\n",
              "      <td>10.2</td>\n",
              "      <td>5.5</td>\n",
              "    </tr>\n",
              "  </tbody>\n",
              "</table>\n",
              "</div>"
            ],
            "text/plain": [
              "         date  temp  max_wind  mean_wind\n",
              "0  2010-08-01  28.7       8.3        3.4\n",
              "1  2010-08-02  25.2       8.7        3.8\n",
              "2  2010-08-03  22.1       6.3        2.9\n",
              "3  2010-08-04  25.3       6.6        4.2\n",
              "4  2010-08-05  27.2       9.1        5.6\n",
              "5  2010-08-06  26.8       9.8        8.0\n",
              "6  2010-08-07  27.5       9.1        5.0\n",
              "7  2010-08-08  26.6       5.9        4.0\n",
              "8  2010-08-09  26.9       5.1        3.1\n",
              "9  2010-08-10  25.6      10.2        5.5"
            ]
          },
          "execution_count": 91,
          "metadata": {},
          "output_type": "execute_result"
        }
      ],
      "source": [
        "df_rawdata_weather.head(10) # 데이터프레임의 첫 행 출력(Default 5개)"
      ]
    },
    {
      "cell_type": "code",
      "execution_count": 92,
      "metadata": {
        "colab": {
          "base_uri": "https://localhost:8080/",
          "height": 143
        },
        "id": "1nODZoJIAk9N",
        "outputId": "d5e9d9c8-4883-4898-df40-06a983ccc8b8"
      },
      "outputs": [
        {
          "data": {
            "text/html": [
              "<div>\n",
              "<style scoped>\n",
              "    .dataframe tbody tr th:only-of-type {\n",
              "        vertical-align: middle;\n",
              "    }\n",
              "\n",
              "    .dataframe tbody tr th {\n",
              "        vertical-align: top;\n",
              "    }\n",
              "\n",
              "    .dataframe thead th {\n",
              "        text-align: right;\n",
              "    }\n",
              "</style>\n",
              "<table border=\"1\" class=\"dataframe\">\n",
              "  <thead>\n",
              "    <tr style=\"text-align: right;\">\n",
              "      <th></th>\n",
              "      <th>date</th>\n",
              "      <th>temp</th>\n",
              "      <th>max_wind</th>\n",
              "      <th>mean_wind</th>\n",
              "    </tr>\n",
              "  </thead>\n",
              "  <tbody>\n",
              "    <tr>\n",
              "      <th>3650</th>\n",
              "      <td>2020-07-29</td>\n",
              "      <td>21.6</td>\n",
              "      <td>3.2</td>\n",
              "      <td>1.0</td>\n",
              "    </tr>\n",
              "    <tr>\n",
              "      <th>3651</th>\n",
              "      <td>2020-07-30</td>\n",
              "      <td>22.9</td>\n",
              "      <td>9.7</td>\n",
              "      <td>2.4</td>\n",
              "    </tr>\n",
              "    <tr>\n",
              "      <th>3652</th>\n",
              "      <td>2020-07-31</td>\n",
              "      <td>25.7</td>\n",
              "      <td>4.8</td>\n",
              "      <td>2.5</td>\n",
              "    </tr>\n",
              "  </tbody>\n",
              "</table>\n",
              "</div>"
            ],
            "text/plain": [
              "            date  temp  max_wind  mean_wind\n",
              "3650  2020-07-29  21.6       3.2        1.0\n",
              "3651  2020-07-30  22.9       9.7        2.4\n",
              "3652  2020-07-31  25.7       4.8        2.5"
            ]
          },
          "execution_count": 92,
          "metadata": {},
          "output_type": "execute_result"
        }
      ],
      "source": [
        "df_rawdata_weather.tail(3) # 데이터프레임의 마지막 행 출력(Default 5개)"
      ]
    },
    {
      "cell_type": "code",
      "execution_count": 93,
      "metadata": {
        "colab": {
          "base_uri": "https://localhost:8080/"
        },
        "id": "LgEnsYAGBGPo",
        "outputId": "4d24e57f-118e-49c1-f627-303de1fa03b7"
      },
      "outputs": [
        {
          "data": {
            "text/plain": [
              "(RangeIndex(start=0, stop=3653, step=1),\n",
              " Index(['date', 'temp', 'max_wind', 'mean_wind'], dtype='object'))"
            ]
          },
          "execution_count": 93,
          "metadata": {},
          "output_type": "execute_result"
        }
      ],
      "source": [
        "df_rawdata_weather.index, df_rawdata_weather.columns"
      ]
    },
    {
      "cell_type": "code",
      "execution_count": 94,
      "metadata": {
        "colab": {
          "base_uri": "https://localhost:8080/",
          "height": 300
        },
        "id": "Ab0eto0tE-xW",
        "outputId": "a2b6bda4-0042-4569-bc0e-a95bdc6ce64f"
      },
      "outputs": [
        {
          "data": {
            "text/html": [
              "<div>\n",
              "<style scoped>\n",
              "    .dataframe tbody tr th:only-of-type {\n",
              "        vertical-align: middle;\n",
              "    }\n",
              "\n",
              "    .dataframe tbody tr th {\n",
              "        vertical-align: top;\n",
              "    }\n",
              "\n",
              "    .dataframe thead th {\n",
              "        text-align: right;\n",
              "    }\n",
              "</style>\n",
              "<table border=\"1\" class=\"dataframe\">\n",
              "  <thead>\n",
              "    <tr style=\"text-align: right;\">\n",
              "      <th></th>\n",
              "      <th>temp</th>\n",
              "      <th>max_wind</th>\n",
              "      <th>mean_wind</th>\n",
              "    </tr>\n",
              "  </thead>\n",
              "  <tbody>\n",
              "    <tr>\n",
              "      <th>count</th>\n",
              "      <td>3653.000000</td>\n",
              "      <td>3649.000000</td>\n",
              "      <td>3647.000000</td>\n",
              "    </tr>\n",
              "    <tr>\n",
              "      <th>mean</th>\n",
              "      <td>12.942102</td>\n",
              "      <td>7.911099</td>\n",
              "      <td>3.936441</td>\n",
              "    </tr>\n",
              "    <tr>\n",
              "      <th>std</th>\n",
              "      <td>8.538507</td>\n",
              "      <td>3.029862</td>\n",
              "      <td>1.888473</td>\n",
              "    </tr>\n",
              "    <tr>\n",
              "      <th>min</th>\n",
              "      <td>-9.000000</td>\n",
              "      <td>2.000000</td>\n",
              "      <td>0.200000</td>\n",
              "    </tr>\n",
              "    <tr>\n",
              "      <th>25%</th>\n",
              "      <td>5.400000</td>\n",
              "      <td>5.700000</td>\n",
              "      <td>2.500000</td>\n",
              "    </tr>\n",
              "    <tr>\n",
              "      <th>50%</th>\n",
              "      <td>13.800000</td>\n",
              "      <td>7.600000</td>\n",
              "      <td>3.600000</td>\n",
              "    </tr>\n",
              "    <tr>\n",
              "      <th>75%</th>\n",
              "      <td>20.100000</td>\n",
              "      <td>9.700000</td>\n",
              "      <td>5.000000</td>\n",
              "    </tr>\n",
              "    <tr>\n",
              "      <th>max</th>\n",
              "      <td>31.300000</td>\n",
              "      <td>26.000000</td>\n",
              "      <td>14.900000</td>\n",
              "    </tr>\n",
              "  </tbody>\n",
              "</table>\n",
              "</div>"
            ],
            "text/plain": [
              "              temp     max_wind    mean_wind\n",
              "count  3653.000000  3649.000000  3647.000000\n",
              "mean     12.942102     7.911099     3.936441\n",
              "std       8.538507     3.029862     1.888473\n",
              "min      -9.000000     2.000000     0.200000\n",
              "25%       5.400000     5.700000     2.500000\n",
              "50%      13.800000     7.600000     3.600000\n",
              "75%      20.100000     9.700000     5.000000\n",
              "max      31.300000    26.000000    14.900000"
            ]
          },
          "execution_count": 94,
          "metadata": {},
          "output_type": "execute_result"
        }
      ],
      "source": [
        "df_rawdata_weather.describe() # Numerical 만 요약통계 생성 가능"
      ]
    },
    {
      "cell_type": "code",
      "execution_count": 95,
      "metadata": {
        "colab": {
          "base_uri": "https://localhost:8080/"
        },
        "id": "zloYticOFilR",
        "outputId": "23034355-f0c8-4864-d526-c8ef9d904371"
      },
      "outputs": [
        {
          "data": {
            "text/plain": [
              "(12.942102381604162, 12.942102381604162)"
            ]
          },
          "execution_count": 95,
          "metadata": {},
          "output_type": "execute_result"
        }
      ],
      "source": [
        "#기온(temp) 컬럼의 평균 출력하기\n",
        "df_rawdata_weather['temp'].mean(), df_rawdata_weather.temp.mean()"
      ]
    },
    {
      "cell_type": "code",
      "execution_count": 96,
      "metadata": {
        "colab": {
          "base_uri": "https://localhost:8080/",
          "height": 423
        },
        "id": "yVYUHzdSGsh9",
        "outputId": "4eb9e9db-d7b4-4567-8ab2-1f0287ab9270"
      },
      "outputs": [
        {
          "data": {
            "text/html": [
              "<div>\n",
              "<style scoped>\n",
              "    .dataframe tbody tr th:only-of-type {\n",
              "        vertical-align: middle;\n",
              "    }\n",
              "\n",
              "    .dataframe tbody tr th {\n",
              "        vertical-align: top;\n",
              "    }\n",
              "\n",
              "    .dataframe thead th {\n",
              "        text-align: right;\n",
              "    }\n",
              "</style>\n",
              "<table border=\"1\" class=\"dataframe\">\n",
              "  <thead>\n",
              "    <tr style=\"text-align: right;\">\n",
              "      <th></th>\n",
              "      <th>date</th>\n",
              "      <th>temp</th>\n",
              "      <th>max_wind</th>\n",
              "      <th>mean_wind</th>\n",
              "    </tr>\n",
              "  </thead>\n",
              "  <tbody>\n",
              "    <tr>\n",
              "      <th>1514</th>\n",
              "      <td>2014-09-23</td>\n",
              "      <td>20.7</td>\n",
              "      <td>2.0</td>\n",
              "      <td>1.0</td>\n",
              "    </tr>\n",
              "    <tr>\n",
              "      <th>1134</th>\n",
              "      <td>2013-09-08</td>\n",
              "      <td>20.4</td>\n",
              "      <td>2.1</td>\n",
              "      <td>0.8</td>\n",
              "    </tr>\n",
              "    <tr>\n",
              "      <th>421</th>\n",
              "      <td>2011-09-26</td>\n",
              "      <td>18.7</td>\n",
              "      <td>2.1</td>\n",
              "      <td>0.3</td>\n",
              "    </tr>\n",
              "    <tr>\n",
              "      <th>1512</th>\n",
              "      <td>2014-09-21</td>\n",
              "      <td>20.4</td>\n",
              "      <td>2.2</td>\n",
              "      <td>1.2</td>\n",
              "    </tr>\n",
              "    <tr>\n",
              "      <th>1005</th>\n",
              "      <td>2013-05-02</td>\n",
              "      <td>7.1</td>\n",
              "      <td>2.2</td>\n",
              "      <td>0.8</td>\n",
              "    </tr>\n",
              "    <tr>\n",
              "      <th>...</th>\n",
              "      <td>...</td>\n",
              "      <td>...</td>\n",
              "      <td>...</td>\n",
              "      <td>...</td>\n",
              "    </tr>\n",
              "    <tr>\n",
              "      <th>2988</th>\n",
              "      <td>2018-10-06</td>\n",
              "      <td>19.4</td>\n",
              "      <td>26.0</td>\n",
              "      <td>7.0</td>\n",
              "    </tr>\n",
              "    <tr>\n",
              "      <th>559</th>\n",
              "      <td>2012-02-11</td>\n",
              "      <td>-0.7</td>\n",
              "      <td>NaN</td>\n",
              "      <td>NaN</td>\n",
              "    </tr>\n",
              "    <tr>\n",
              "      <th>560</th>\n",
              "      <td>2012-02-12</td>\n",
              "      <td>0.4</td>\n",
              "      <td>NaN</td>\n",
              "      <td>NaN</td>\n",
              "    </tr>\n",
              "    <tr>\n",
              "      <th>561</th>\n",
              "      <td>2012-02-13</td>\n",
              "      <td>4.0</td>\n",
              "      <td>NaN</td>\n",
              "      <td>NaN</td>\n",
              "    </tr>\n",
              "    <tr>\n",
              "      <th>3183</th>\n",
              "      <td>2019-04-19</td>\n",
              "      <td>7.8</td>\n",
              "      <td>NaN</td>\n",
              "      <td>2.3</td>\n",
              "    </tr>\n",
              "  </tbody>\n",
              "</table>\n",
              "<p>3653 rows × 4 columns</p>\n",
              "</div>"
            ],
            "text/plain": [
              "            date  temp  max_wind  mean_wind\n",
              "1514  2014-09-23  20.7       2.0        1.0\n",
              "1134  2013-09-08  20.4       2.1        0.8\n",
              "421   2011-09-26  18.7       2.1        0.3\n",
              "1512  2014-09-21  20.4       2.2        1.2\n",
              "1005  2013-05-02   7.1       2.2        0.8\n",
              "...          ...   ...       ...        ...\n",
              "2988  2018-10-06  19.4      26.0        7.0\n",
              "559   2012-02-11  -0.7       NaN        NaN\n",
              "560   2012-02-12   0.4       NaN        NaN\n",
              "561   2012-02-13   4.0       NaN        NaN\n",
              "3183  2019-04-19   7.8       NaN        2.3\n",
              "\n",
              "[3653 rows x 4 columns]"
            ]
          },
          "execution_count": 96,
          "metadata": {},
          "output_type": "execute_result"
        }
      ],
      "source": [
        "df_rawdata_weather.sort_values(by='max_wind')"
      ]
    },
    {
      "cell_type": "code",
      "execution_count": 97,
      "metadata": {
        "colab": {
          "base_uri": "https://localhost:8080/",
          "height": 423
        },
        "id": "fFsAwQ6ZHtYY",
        "outputId": "8ad28f80-f845-4eba-b706-b2db7379ee6f"
      },
      "outputs": [
        {
          "data": {
            "text/html": [
              "<div>\n",
              "<style scoped>\n",
              "    .dataframe tbody tr th:only-of-type {\n",
              "        vertical-align: middle;\n",
              "    }\n",
              "\n",
              "    .dataframe tbody tr th {\n",
              "        vertical-align: top;\n",
              "    }\n",
              "\n",
              "    .dataframe thead th {\n",
              "        text-align: right;\n",
              "    }\n",
              "</style>\n",
              "<table border=\"1\" class=\"dataframe\">\n",
              "  <thead>\n",
              "    <tr style=\"text-align: right;\">\n",
              "      <th></th>\n",
              "      <th>date</th>\n",
              "      <th>temp</th>\n",
              "      <th>max_wind</th>\n",
              "      <th>mean_wind</th>\n",
              "    </tr>\n",
              "  </thead>\n",
              "  <tbody>\n",
              "    <tr>\n",
              "      <th>2988</th>\n",
              "      <td>2018-10-06</td>\n",
              "      <td>19.4</td>\n",
              "      <td>26.0</td>\n",
              "      <td>7.0</td>\n",
              "    </tr>\n",
              "    <tr>\n",
              "      <th>3340</th>\n",
              "      <td>2019-09-23</td>\n",
              "      <td>15.0</td>\n",
              "      <td>25.8</td>\n",
              "      <td>11.0</td>\n",
              "    </tr>\n",
              "    <tr>\n",
              "      <th>1850</th>\n",
              "      <td>2015-08-25</td>\n",
              "      <td>20.1</td>\n",
              "      <td>25.3</td>\n",
              "      <td>14.9</td>\n",
              "    </tr>\n",
              "    <tr>\n",
              "      <th>3339</th>\n",
              "      <td>2019-09-22</td>\n",
              "      <td>15.7</td>\n",
              "      <td>23.1</td>\n",
              "      <td>11.9</td>\n",
              "    </tr>\n",
              "    <tr>\n",
              "      <th>1851</th>\n",
              "      <td>2015-08-26</td>\n",
              "      <td>17.4</td>\n",
              "      <td>22.6</td>\n",
              "      <td>8.1</td>\n",
              "    </tr>\n",
              "    <tr>\n",
              "      <th>...</th>\n",
              "      <td>...</td>\n",
              "      <td>...</td>\n",
              "      <td>...</td>\n",
              "      <td>...</td>\n",
              "    </tr>\n",
              "    <tr>\n",
              "      <th>1514</th>\n",
              "      <td>2014-09-23</td>\n",
              "      <td>20.7</td>\n",
              "      <td>2.0</td>\n",
              "      <td>1.0</td>\n",
              "    </tr>\n",
              "    <tr>\n",
              "      <th>559</th>\n",
              "      <td>2012-02-11</td>\n",
              "      <td>-0.7</td>\n",
              "      <td>NaN</td>\n",
              "      <td>NaN</td>\n",
              "    </tr>\n",
              "    <tr>\n",
              "      <th>560</th>\n",
              "      <td>2012-02-12</td>\n",
              "      <td>0.4</td>\n",
              "      <td>NaN</td>\n",
              "      <td>NaN</td>\n",
              "    </tr>\n",
              "    <tr>\n",
              "      <th>561</th>\n",
              "      <td>2012-02-13</td>\n",
              "      <td>4.0</td>\n",
              "      <td>NaN</td>\n",
              "      <td>NaN</td>\n",
              "    </tr>\n",
              "    <tr>\n",
              "      <th>3183</th>\n",
              "      <td>2019-04-19</td>\n",
              "      <td>7.8</td>\n",
              "      <td>NaN</td>\n",
              "      <td>2.3</td>\n",
              "    </tr>\n",
              "  </tbody>\n",
              "</table>\n",
              "<p>3653 rows × 4 columns</p>\n",
              "</div>"
            ],
            "text/plain": [
              "            date  temp  max_wind  mean_wind\n",
              "2988  2018-10-06  19.4      26.0        7.0\n",
              "3340  2019-09-23  15.0      25.8       11.0\n",
              "1850  2015-08-25  20.1      25.3       14.9\n",
              "3339  2019-09-22  15.7      23.1       11.9\n",
              "1851  2015-08-26  17.4      22.6        8.1\n",
              "...          ...   ...       ...        ...\n",
              "1514  2014-09-23  20.7       2.0        1.0\n",
              "559   2012-02-11  -0.7       NaN        NaN\n",
              "560   2012-02-12   0.4       NaN        NaN\n",
              "561   2012-02-13   4.0       NaN        NaN\n",
              "3183  2019-04-19   7.8       NaN        2.3\n",
              "\n",
              "[3653 rows x 4 columns]"
            ]
          },
          "execution_count": 97,
          "metadata": {},
          "output_type": "execute_result"
        }
      ],
      "source": [
        "df_rawdata_weather.sort_values(by='max_wind', ascending=False)"
      ]
    },
    {
      "cell_type": "code",
      "execution_count": 98,
      "metadata": {
        "colab": {
          "base_uri": "https://localhost:8080/"
        },
        "id": "j3P-eCfPQg1Z",
        "outputId": "45795984-ff98-4b3e-b331-04cdb54373e4"
      },
      "outputs": [
        {
          "data": {
            "text/plain": [
              "(management       1560\n",
              " blue-collar      1499\n",
              " technician       1206\n",
              " admin.            834\n",
              " services          661\n",
              " retired           351\n",
              " self-employed     256\n",
              " entrepreneur      239\n",
              " unemployed        223\n",
              " housemaid         208\n",
              " student           153\n",
              " Name: job, dtype: int64,\n",
              " student           153\n",
              " housemaid         208\n",
              " unemployed        223\n",
              " entrepreneur      239\n",
              " self-employed     256\n",
              " retired           351\n",
              " services          661\n",
              " admin.            834\n",
              " technician       1206\n",
              " blue-collar      1499\n",
              " management       1560\n",
              " Name: job, dtype: int64)"
            ]
          },
          "execution_count": 98,
          "metadata": {},
          "output_type": "execute_result"
        }
      ],
      "source": [
        "filename='./Data/bank.csv'\n",
        "df_rawdata_bank=pd.read_csv(filename)\n",
        "df_rawdata_bank['job'].value_counts(), df_rawdata_bank['job'].value_counts(ascending=True)"
      ]
    },
    {
      "cell_type": "code",
      "execution_count": 99,
      "metadata": {
        "colab": {
          "base_uri": "https://localhost:8080/"
        },
        "id": "y_ds2YhvTBqk",
        "outputId": "d5339616-afbe-43af-cbe9-c2a8cebd5b2a"
      },
      "outputs": [
        {
          "data": {
            "text/plain": [
              "array(['management', 'technician', 'blue-collar', 'retired', 'services',\n",
              "       'admin.', 'entrepreneur', 'self-employed', 'unemployed', 'student',\n",
              "       nan, 'housemaid'], dtype=object)"
            ]
          },
          "execution_count": 99,
          "metadata": {},
          "output_type": "execute_result"
        }
      ],
      "source": [
        "df_rawdata_bank['job'].unique()"
      ]
    },
    {
      "cell_type": "markdown",
      "metadata": {
        "id": "oQz72RFWK_fv"
      },
      "source": [
        "# 4. 판다스 데이터 선택하기"
      ]
    },
    {
      "cell_type": "markdown",
      "metadata": {
        "id": "uk0Pjo6YL4p9"
      },
      "source": [
        "## 열 선택하기"
      ]
    },
    {
      "cell_type": "code",
      "execution_count": 100,
      "metadata": {
        "colab": {
          "base_uri": "https://localhost:8080/"
        },
        "id": "wJOBx0jVK8Ob",
        "outputId": "46837a06-b256-4237-c99e-1f8b4170cce2"
      },
      "outputs": [
        {
          "data": {
            "text/plain": [
              "pandas.core.series.Series"
            ]
          },
          "execution_count": 100,
          "metadata": {},
          "output_type": "execute_result"
        }
      ],
      "source": [
        "df_rawdata_weather['temp'] # df.temp\n",
        "type(df_rawdata_weather['temp'])"
      ]
    },
    {
      "cell_type": "code",
      "execution_count": 101,
      "metadata": {
        "colab": {
          "base_uri": "https://localhost:8080/",
          "height": 423
        },
        "id": "xVgU7EDXQh30",
        "outputId": "f42f6d42-836b-423b-964d-56fafa743c92"
      },
      "outputs": [
        {
          "data": {
            "text/html": [
              "<div>\n",
              "<style scoped>\n",
              "    .dataframe tbody tr th:only-of-type {\n",
              "        vertical-align: middle;\n",
              "    }\n",
              "\n",
              "    .dataframe tbody tr th {\n",
              "        vertical-align: top;\n",
              "    }\n",
              "\n",
              "    .dataframe thead th {\n",
              "        text-align: right;\n",
              "    }\n",
              "</style>\n",
              "<table border=\"1\" class=\"dataframe\">\n",
              "  <thead>\n",
              "    <tr style=\"text-align: right;\">\n",
              "      <th></th>\n",
              "      <th>date</th>\n",
              "      <th>temp</th>\n",
              "    </tr>\n",
              "  </thead>\n",
              "  <tbody>\n",
              "    <tr>\n",
              "      <th>0</th>\n",
              "      <td>2010-08-01</td>\n",
              "      <td>28.7</td>\n",
              "    </tr>\n",
              "    <tr>\n",
              "      <th>1</th>\n",
              "      <td>2010-08-02</td>\n",
              "      <td>25.2</td>\n",
              "    </tr>\n",
              "    <tr>\n",
              "      <th>2</th>\n",
              "      <td>2010-08-03</td>\n",
              "      <td>22.1</td>\n",
              "    </tr>\n",
              "    <tr>\n",
              "      <th>3</th>\n",
              "      <td>2010-08-04</td>\n",
              "      <td>25.3</td>\n",
              "    </tr>\n",
              "    <tr>\n",
              "      <th>4</th>\n",
              "      <td>2010-08-05</td>\n",
              "      <td>27.2</td>\n",
              "    </tr>\n",
              "    <tr>\n",
              "      <th>...</th>\n",
              "      <td>...</td>\n",
              "      <td>...</td>\n",
              "    </tr>\n",
              "    <tr>\n",
              "      <th>3648</th>\n",
              "      <td>2020-07-27</td>\n",
              "      <td>22.1</td>\n",
              "    </tr>\n",
              "    <tr>\n",
              "      <th>3649</th>\n",
              "      <td>2020-07-28</td>\n",
              "      <td>21.9</td>\n",
              "    </tr>\n",
              "    <tr>\n",
              "      <th>3650</th>\n",
              "      <td>2020-07-29</td>\n",
              "      <td>21.6</td>\n",
              "    </tr>\n",
              "    <tr>\n",
              "      <th>3651</th>\n",
              "      <td>2020-07-30</td>\n",
              "      <td>22.9</td>\n",
              "    </tr>\n",
              "    <tr>\n",
              "      <th>3652</th>\n",
              "      <td>2020-07-31</td>\n",
              "      <td>25.7</td>\n",
              "    </tr>\n",
              "  </tbody>\n",
              "</table>\n",
              "<p>3653 rows × 2 columns</p>\n",
              "</div>"
            ],
            "text/plain": [
              "            date  temp\n",
              "0     2010-08-01  28.7\n",
              "1     2010-08-02  25.2\n",
              "2     2010-08-03  22.1\n",
              "3     2010-08-04  25.3\n",
              "4     2010-08-05  27.2\n",
              "...          ...   ...\n",
              "3648  2020-07-27  22.1\n",
              "3649  2020-07-28  21.9\n",
              "3650  2020-07-29  21.6\n",
              "3651  2020-07-30  22.9\n",
              "3652  2020-07-31  25.7\n",
              "\n",
              "[3653 rows x 2 columns]"
            ]
          },
          "execution_count": 101,
          "metadata": {},
          "output_type": "execute_result"
        }
      ],
      "source": [
        "df_rawdata_weather[['date','temp']]"
      ]
    },
    {
      "cell_type": "code",
      "execution_count": 102,
      "metadata": {
        "colab": {
          "base_uri": "https://localhost:8080/",
          "height": 423
        },
        "id": "Zu9sStoPROYx",
        "outputId": "9dfd9153-265e-4acb-a8fd-e58af2e0aac7"
      },
      "outputs": [
        {
          "data": {
            "text/html": [
              "<div>\n",
              "<style scoped>\n",
              "    .dataframe tbody tr th:only-of-type {\n",
              "        vertical-align: middle;\n",
              "    }\n",
              "\n",
              "    .dataframe tbody tr th {\n",
              "        vertical-align: top;\n",
              "    }\n",
              "\n",
              "    .dataframe thead th {\n",
              "        text-align: right;\n",
              "    }\n",
              "</style>\n",
              "<table border=\"1\" class=\"dataframe\">\n",
              "  <thead>\n",
              "    <tr style=\"text-align: right;\">\n",
              "      <th></th>\n",
              "      <th>date</th>\n",
              "      <th>temp</th>\n",
              "    </tr>\n",
              "  </thead>\n",
              "  <tbody>\n",
              "    <tr>\n",
              "      <th>0</th>\n",
              "      <td>2010-08-01</td>\n",
              "      <td>28.7</td>\n",
              "    </tr>\n",
              "    <tr>\n",
              "      <th>1</th>\n",
              "      <td>2010-08-02</td>\n",
              "      <td>25.2</td>\n",
              "    </tr>\n",
              "    <tr>\n",
              "      <th>2</th>\n",
              "      <td>2010-08-03</td>\n",
              "      <td>22.1</td>\n",
              "    </tr>\n",
              "    <tr>\n",
              "      <th>3</th>\n",
              "      <td>2010-08-04</td>\n",
              "      <td>25.3</td>\n",
              "    </tr>\n",
              "    <tr>\n",
              "      <th>4</th>\n",
              "      <td>2010-08-05</td>\n",
              "      <td>27.2</td>\n",
              "    </tr>\n",
              "    <tr>\n",
              "      <th>...</th>\n",
              "      <td>...</td>\n",
              "      <td>...</td>\n",
              "    </tr>\n",
              "    <tr>\n",
              "      <th>3648</th>\n",
              "      <td>2020-07-27</td>\n",
              "      <td>22.1</td>\n",
              "    </tr>\n",
              "    <tr>\n",
              "      <th>3649</th>\n",
              "      <td>2020-07-28</td>\n",
              "      <td>21.9</td>\n",
              "    </tr>\n",
              "    <tr>\n",
              "      <th>3650</th>\n",
              "      <td>2020-07-29</td>\n",
              "      <td>21.6</td>\n",
              "    </tr>\n",
              "    <tr>\n",
              "      <th>3651</th>\n",
              "      <td>2020-07-30</td>\n",
              "      <td>22.9</td>\n",
              "    </tr>\n",
              "    <tr>\n",
              "      <th>3652</th>\n",
              "      <td>2020-07-31</td>\n",
              "      <td>25.7</td>\n",
              "    </tr>\n",
              "  </tbody>\n",
              "</table>\n",
              "<p>3653 rows × 2 columns</p>\n",
              "</div>"
            ],
            "text/plain": [
              "            date  temp\n",
              "0     2010-08-01  28.7\n",
              "1     2010-08-02  25.2\n",
              "2     2010-08-03  22.1\n",
              "3     2010-08-04  25.3\n",
              "4     2010-08-05  27.2\n",
              "...          ...   ...\n",
              "3648  2020-07-27  22.1\n",
              "3649  2020-07-28  21.9\n",
              "3650  2020-07-29  21.6\n",
              "3651  2020-07-30  22.9\n",
              "3652  2020-07-31  25.7\n",
              "\n",
              "[3653 rows x 2 columns]"
            ]
          },
          "execution_count": 102,
          "metadata": {},
          "output_type": "execute_result"
        }
      ],
      "source": [
        "df_rawdata_weather.loc[:,['date','temp']]"
      ]
    },
    {
      "cell_type": "code",
      "execution_count": 103,
      "metadata": {
        "colab": {
          "base_uri": "https://localhost:8080/",
          "height": 423
        },
        "id": "jQHozTxoR3uU",
        "outputId": "cd129600-7949-4852-b09c-2ab4926ed8d1"
      },
      "outputs": [
        {
          "data": {
            "text/html": [
              "<div>\n",
              "<style scoped>\n",
              "    .dataframe tbody tr th:only-of-type {\n",
              "        vertical-align: middle;\n",
              "    }\n",
              "\n",
              "    .dataframe tbody tr th {\n",
              "        vertical-align: top;\n",
              "    }\n",
              "\n",
              "    .dataframe thead th {\n",
              "        text-align: right;\n",
              "    }\n",
              "</style>\n",
              "<table border=\"1\" class=\"dataframe\">\n",
              "  <thead>\n",
              "    <tr style=\"text-align: right;\">\n",
              "      <th></th>\n",
              "      <th>date</th>\n",
              "      <th>temp</th>\n",
              "    </tr>\n",
              "  </thead>\n",
              "  <tbody>\n",
              "    <tr>\n",
              "      <th>0</th>\n",
              "      <td>2010-08-01</td>\n",
              "      <td>28.7</td>\n",
              "    </tr>\n",
              "    <tr>\n",
              "      <th>1</th>\n",
              "      <td>2010-08-02</td>\n",
              "      <td>25.2</td>\n",
              "    </tr>\n",
              "    <tr>\n",
              "      <th>2</th>\n",
              "      <td>2010-08-03</td>\n",
              "      <td>22.1</td>\n",
              "    </tr>\n",
              "    <tr>\n",
              "      <th>3</th>\n",
              "      <td>2010-08-04</td>\n",
              "      <td>25.3</td>\n",
              "    </tr>\n",
              "    <tr>\n",
              "      <th>4</th>\n",
              "      <td>2010-08-05</td>\n",
              "      <td>27.2</td>\n",
              "    </tr>\n",
              "    <tr>\n",
              "      <th>...</th>\n",
              "      <td>...</td>\n",
              "      <td>...</td>\n",
              "    </tr>\n",
              "    <tr>\n",
              "      <th>3648</th>\n",
              "      <td>2020-07-27</td>\n",
              "      <td>22.1</td>\n",
              "    </tr>\n",
              "    <tr>\n",
              "      <th>3649</th>\n",
              "      <td>2020-07-28</td>\n",
              "      <td>21.9</td>\n",
              "    </tr>\n",
              "    <tr>\n",
              "      <th>3650</th>\n",
              "      <td>2020-07-29</td>\n",
              "      <td>21.6</td>\n",
              "    </tr>\n",
              "    <tr>\n",
              "      <th>3651</th>\n",
              "      <td>2020-07-30</td>\n",
              "      <td>22.9</td>\n",
              "    </tr>\n",
              "    <tr>\n",
              "      <th>3652</th>\n",
              "      <td>2020-07-31</td>\n",
              "      <td>25.7</td>\n",
              "    </tr>\n",
              "  </tbody>\n",
              "</table>\n",
              "<p>3653 rows × 2 columns</p>\n",
              "</div>"
            ],
            "text/plain": [
              "            date  temp\n",
              "0     2010-08-01  28.7\n",
              "1     2010-08-02  25.2\n",
              "2     2010-08-03  22.1\n",
              "3     2010-08-04  25.3\n",
              "4     2010-08-05  27.2\n",
              "...          ...   ...\n",
              "3648  2020-07-27  22.1\n",
              "3649  2020-07-28  21.9\n",
              "3650  2020-07-29  21.6\n",
              "3651  2020-07-30  22.9\n",
              "3652  2020-07-31  25.7\n",
              "\n",
              "[3653 rows x 2 columns]"
            ]
          },
          "execution_count": 103,
          "metadata": {},
          "output_type": "execute_result"
        }
      ],
      "source": [
        "df_rawdata_weather.iloc[:,[0,1]]"
      ]
    },
    {
      "cell_type": "markdown",
      "metadata": {
        "id": "LjyXrk_GTQ4N"
      },
      "source": [
        "## 행 선택하기"
      ]
    },
    {
      "cell_type": "code",
      "execution_count": 104,
      "metadata": {
        "colab": {
          "base_uri": "https://localhost:8080/",
          "height": 174
        },
        "id": "GX33SwfWTOW3",
        "outputId": "33dbed31-30ca-48b1-9bd3-35256fa8b39a"
      },
      "outputs": [
        {
          "data": {
            "text/html": [
              "<div>\n",
              "<style scoped>\n",
              "    .dataframe tbody tr th:only-of-type {\n",
              "        vertical-align: middle;\n",
              "    }\n",
              "\n",
              "    .dataframe tbody tr th {\n",
              "        vertical-align: top;\n",
              "    }\n",
              "\n",
              "    .dataframe thead th {\n",
              "        text-align: right;\n",
              "    }\n",
              "</style>\n",
              "<table border=\"1\" class=\"dataframe\">\n",
              "  <thead>\n",
              "    <tr style=\"text-align: right;\">\n",
              "      <th></th>\n",
              "      <th>date</th>\n",
              "      <th>temp</th>\n",
              "      <th>max_wind</th>\n",
              "      <th>mean_wind</th>\n",
              "    </tr>\n",
              "  </thead>\n",
              "  <tbody>\n",
              "    <tr>\n",
              "      <th>0</th>\n",
              "      <td>2010-08-01</td>\n",
              "      <td>28.7</td>\n",
              "      <td>8.3</td>\n",
              "      <td>3.4</td>\n",
              "    </tr>\n",
              "    <tr>\n",
              "      <th>1</th>\n",
              "      <td>2010-08-02</td>\n",
              "      <td>25.2</td>\n",
              "      <td>8.7</td>\n",
              "      <td>3.8</td>\n",
              "    </tr>\n",
              "    <tr>\n",
              "      <th>2</th>\n",
              "      <td>2010-08-03</td>\n",
              "      <td>22.1</td>\n",
              "      <td>6.3</td>\n",
              "      <td>2.9</td>\n",
              "    </tr>\n",
              "  </tbody>\n",
              "</table>\n",
              "</div>"
            ],
            "text/plain": [
              "         date  temp  max_wind  mean_wind\n",
              "0  2010-08-01  28.7       8.3        3.4\n",
              "1  2010-08-02  25.2       8.7        3.8\n",
              "2  2010-08-03  22.1       6.3        2.9"
            ]
          },
          "execution_count": 104,
          "metadata": {},
          "output_type": "execute_result"
        }
      ],
      "source": [
        "df_rawdata_weather[0:3]"
      ]
    },
    {
      "cell_type": "code",
      "execution_count": 106,
      "metadata": {
        "colab": {
          "base_uri": "https://localhost:8080/"
        },
        "id": "6i2y6StsUo42",
        "outputId": "6ee4eb0d-71e4-4f40-fef9-798bdc292410"
      },
      "outputs": [
        {
          "data": {
            "text/plain": [
              "temp         28.7\n",
              "mean_wind     3.4\n",
              "Name: 2010-08-01, dtype: object"
            ]
          },
          "execution_count": 106,
          "metadata": {},
          "output_type": "execute_result"
        }
      ],
      "source": [
        "# 인덱스를 date로 변경 후 행 선택하기\n",
        "df_mod00_weather = df_rawdata_weather.copy()\n",
        "df_mod00_weather.index=df_mod00_weather['date']\n",
        "df_mod00_weather.loc['2010-08-01',['temp','mean_wind']]"
      ]
    },
    {
      "cell_type": "code",
      "execution_count": 109,
      "metadata": {
        "colab": {
          "base_uri": "https://localhost:8080/"
        },
        "id": "81i63Vu6WMur",
        "outputId": "191b229d-5bf5-4686-f33b-a71241585aab"
      },
      "outputs": [
        {
          "data": {
            "text/plain": [
              "(date         2010-08-04\n",
              " temp               25.3\n",
              " max_wind            6.6\n",
              " mean_wind           4.2\n",
              " Name: 3, dtype: object,\n",
              " date         2010-08-04\n",
              " temp               25.3\n",
              " max_wind            6.6\n",
              " mean_wind           4.2\n",
              " Name: 2010-08-04, dtype: object)"
            ]
          },
          "execution_count": 109,
          "metadata": {},
          "output_type": "execute_result"
        }
      ],
      "source": [
        "df_rawdata_weather.iloc[3], df_mod00_weather.iloc[3] # Name이 다름(Index가 변경됨)"
      ]
    },
    {
      "cell_type": "code",
      "execution_count": 111,
      "metadata": {
        "colab": {
          "base_uri": "https://localhost:8080/",
          "height": 143
        },
        "id": "KooUWt3LW8_i",
        "outputId": "bba82887-f716-4519-f61f-03fb82a72545"
      },
      "outputs": [
        {
          "data": {
            "text/plain": [
              "(         date  temp\n",
              " 1  2010-08-02  25.2\n",
              " 2  2010-08-03  22.1,\n",
              "                   date  temp\n",
              " date                        \n",
              " 2010-08-02  2010-08-02  25.2\n",
              " 2010-08-03  2010-08-03  22.1)"
            ]
          },
          "execution_count": 111,
          "metadata": {},
          "output_type": "execute_result"
        }
      ],
      "source": [
        "df_rawdata_weather.iloc[1:3,0:2], df_mod00_weather.iloc[1:3,0:2]"
      ]
    },
    {
      "cell_type": "markdown",
      "metadata": {
        "id": "SzJH0904aEar"
      },
      "source": [
        "## 불 인덱싱(Boolean indexing)"
      ]
    },
    {
      "cell_type": "code",
      "execution_count": 126,
      "metadata": {
        "colab": {
          "base_uri": "https://localhost:8080/",
          "height": 237
        },
        "id": "BC4Do4kiaGiL",
        "outputId": "ab4d3f1c-9001-4059-cdc2-43ff59904535"
      },
      "outputs": [
        {
          "data": {
            "text/plain": [
              "0       False\n",
              "1       False\n",
              "2       False\n",
              "3       False\n",
              "4       False\n",
              "        ...  \n",
              "3648    False\n",
              "3649    False\n",
              "3650    False\n",
              "3651    False\n",
              "3652    False\n",
              "Name: temp, Length: 3653, dtype: bool"
            ]
          },
          "execution_count": 126,
          "metadata": {},
          "output_type": "execute_result"
        }
      ],
      "source": [
        "# 해당 조건값에 대해 동일 길이의 Boolean Vector(True/False) 생성한다.\n",
        "# Boolean 조건을 활용하야 원하는 index를 선택할 수 있다.\n",
        "df_rawdata_weather['temp'] >= 30 "
      ]
    },
    {
      "cell_type": "code",
      "execution_count": 127,
      "metadata": {},
      "outputs": [
        {
          "data": {
            "text/html": [
              "<div>\n",
              "<style scoped>\n",
              "    .dataframe tbody tr th:only-of-type {\n",
              "        vertical-align: middle;\n",
              "    }\n",
              "\n",
              "    .dataframe tbody tr th {\n",
              "        vertical-align: top;\n",
              "    }\n",
              "\n",
              "    .dataframe thead th {\n",
              "        text-align: right;\n",
              "    }\n",
              "</style>\n",
              "<table border=\"1\" class=\"dataframe\">\n",
              "  <thead>\n",
              "    <tr style=\"text-align: right;\">\n",
              "      <th></th>\n",
              "      <th>date</th>\n",
              "      <th>temp</th>\n",
              "      <th>max_wind</th>\n",
              "      <th>mean_wind</th>\n",
              "    </tr>\n",
              "  </thead>\n",
              "  <tbody>\n",
              "    <tr>\n",
              "      <th>1103</th>\n",
              "      <td>2013-08-08</td>\n",
              "      <td>31.3</td>\n",
              "      <td>7.8</td>\n",
              "      <td>4.6</td>\n",
              "    </tr>\n",
              "    <tr>\n",
              "      <th>1104</th>\n",
              "      <td>2013-08-09</td>\n",
              "      <td>30.6</td>\n",
              "      <td>9.9</td>\n",
              "      <td>6.4</td>\n",
              "    </tr>\n",
              "    <tr>\n",
              "      <th>1105</th>\n",
              "      <td>2013-08-10</td>\n",
              "      <td>30.6</td>\n",
              "      <td>7.4</td>\n",
              "      <td>3.8</td>\n",
              "    </tr>\n",
              "    <tr>\n",
              "      <th>2913</th>\n",
              "      <td>2018-07-23</td>\n",
              "      <td>30.5</td>\n",
              "      <td>6.5</td>\n",
              "      <td>1.6</td>\n",
              "    </tr>\n",
              "    <tr>\n",
              "      <th>2925</th>\n",
              "      <td>2018-08-04</td>\n",
              "      <td>30.3</td>\n",
              "      <td>5.8</td>\n",
              "      <td>3.0</td>\n",
              "    </tr>\n",
              "  </tbody>\n",
              "</table>\n",
              "</div>"
            ],
            "text/plain": [
              "            date  temp  max_wind  mean_wind\n",
              "1103  2013-08-08  31.3       7.8        4.6\n",
              "1104  2013-08-09  30.6       9.9        6.4\n",
              "1105  2013-08-10  30.6       7.4        3.8\n",
              "2913  2018-07-23  30.5       6.5        1.6\n",
              "2925  2018-08-04  30.3       5.8        3.0"
            ]
          },
          "execution_count": 127,
          "metadata": {},
          "output_type": "execute_result"
        }
      ],
      "source": [
        "w = df_rawdata_weather['temp'] >= 30 \n",
        "df_rawdata_weather[w]"
      ]
    },
    {
      "cell_type": "code",
      "execution_count": 133,
      "metadata": {},
      "outputs": [
        {
          "data": {
            "text/html": [
              "<div>\n",
              "<style scoped>\n",
              "    .dataframe tbody tr th:only-of-type {\n",
              "        vertical-align: middle;\n",
              "    }\n",
              "\n",
              "    .dataframe tbody tr th {\n",
              "        vertical-align: top;\n",
              "    }\n",
              "\n",
              "    .dataframe thead th {\n",
              "        text-align: right;\n",
              "    }\n",
              "</style>\n",
              "<table border=\"1\" class=\"dataframe\">\n",
              "  <thead>\n",
              "    <tr style=\"text-align: right;\">\n",
              "      <th></th>\n",
              "      <th>date</th>\n",
              "      <th>temp</th>\n",
              "      <th>max_wind</th>\n",
              "      <th>mean_wind</th>\n",
              "    </tr>\n",
              "  </thead>\n",
              "  <tbody>\n",
              "    <tr>\n",
              "      <th>1103</th>\n",
              "      <td>2013-08-08</td>\n",
              "      <td>31.3</td>\n",
              "      <td>7.8</td>\n",
              "      <td>4.6</td>\n",
              "    </tr>\n",
              "    <tr>\n",
              "      <th>1104</th>\n",
              "      <td>2013-08-09</td>\n",
              "      <td>30.6</td>\n",
              "      <td>9.9</td>\n",
              "      <td>6.4</td>\n",
              "    </tr>\n",
              "    <tr>\n",
              "      <th>1105</th>\n",
              "      <td>2013-08-10</td>\n",
              "      <td>30.6</td>\n",
              "      <td>7.4</td>\n",
              "      <td>3.8</td>\n",
              "    </tr>\n",
              "    <tr>\n",
              "      <th>2913</th>\n",
              "      <td>2018-07-23</td>\n",
              "      <td>30.5</td>\n",
              "      <td>6.5</td>\n",
              "      <td>1.6</td>\n",
              "    </tr>\n",
              "    <tr>\n",
              "      <th>2925</th>\n",
              "      <td>2018-08-04</td>\n",
              "      <td>30.3</td>\n",
              "      <td>5.8</td>\n",
              "      <td>3.0</td>\n",
              "    </tr>\n",
              "  </tbody>\n",
              "</table>\n",
              "</div>"
            ],
            "text/plain": [
              "            date  temp  max_wind  mean_wind\n",
              "1103  2013-08-08  31.3       7.8        4.6\n",
              "1104  2013-08-09  30.6       9.9        6.4\n",
              "1105  2013-08-10  30.6       7.4        3.8\n",
              "2913  2018-07-23  30.5       6.5        1.6\n",
              "2925  2018-08-04  30.3       5.8        3.0"
            ]
          },
          "execution_count": 133,
          "metadata": {},
          "output_type": "execute_result"
        }
      ],
      "source": [
        "# Boolean Indexing을 별도의 변수 할당 없이 바로 적용 가능\n",
        "df_rawdata_weather[df_rawdata_weather['temp'] >= 30]"
      ]
    },
    {
      "cell_type": "code",
      "execution_count": 134,
      "metadata": {
        "colab": {
          "base_uri": "https://localhost:8080/",
          "height": 112
        },
        "id": "kKP0zm0xoZwF",
        "outputId": "e6f90767-86ed-4287-b235-d960506d2734"
      },
      "outputs": [
        {
          "data": {
            "text/html": [
              "<div>\n",
              "<style scoped>\n",
              "    .dataframe tbody tr th:only-of-type {\n",
              "        vertical-align: middle;\n",
              "    }\n",
              "\n",
              "    .dataframe tbody tr th {\n",
              "        vertical-align: top;\n",
              "    }\n",
              "\n",
              "    .dataframe thead th {\n",
              "        text-align: right;\n",
              "    }\n",
              "</style>\n",
              "<table border=\"1\" class=\"dataframe\">\n",
              "  <thead>\n",
              "    <tr style=\"text-align: right;\">\n",
              "      <th></th>\n",
              "      <th>date</th>\n",
              "      <th>temp</th>\n",
              "      <th>max_wind</th>\n",
              "      <th>mean_wind</th>\n",
              "    </tr>\n",
              "  </thead>\n",
              "  <tbody>\n",
              "    <tr>\n",
              "      <th>1104</th>\n",
              "      <td>2013-08-09</td>\n",
              "      <td>30.6</td>\n",
              "      <td>9.9</td>\n",
              "      <td>6.4</td>\n",
              "    </tr>\n",
              "  </tbody>\n",
              "</table>\n",
              "</div>"
            ],
            "text/plain": [
              "            date  temp  max_wind  mean_wind\n",
              "1104  2013-08-09  30.6       9.9        6.4"
            ]
          },
          "execution_count": 134,
          "metadata": {},
          "output_type": "execute_result"
        }
      ],
      "source": [
        "df_rawdata_weather[(df_rawdata_weather['temp']>=30) & (df_rawdata_weather['max_wind']>=9)]"
      ]
    },
    {
      "cell_type": "code",
      "execution_count": 135,
      "metadata": {
        "colab": {
          "base_uri": "https://localhost:8080/",
          "height": 112
        },
        "id": "ByfmUbctcn4i",
        "outputId": "c2a65ead-83de-4fae-ce82-6efb0ac0aadd"
      },
      "outputs": [
        {
          "data": {
            "text/html": [
              "<div>\n",
              "<style scoped>\n",
              "    .dataframe tbody tr th:only-of-type {\n",
              "        vertical-align: middle;\n",
              "    }\n",
              "\n",
              "    .dataframe tbody tr th {\n",
              "        vertical-align: top;\n",
              "    }\n",
              "\n",
              "    .dataframe thead th {\n",
              "        text-align: right;\n",
              "    }\n",
              "</style>\n",
              "<table border=\"1\" class=\"dataframe\">\n",
              "  <thead>\n",
              "    <tr style=\"text-align: right;\">\n",
              "      <th></th>\n",
              "      <th>date</th>\n",
              "      <th>temp</th>\n",
              "      <th>max_wind</th>\n",
              "      <th>mean_wind</th>\n",
              "    </tr>\n",
              "  </thead>\n",
              "  <tbody>\n",
              "    <tr>\n",
              "      <th>1103</th>\n",
              "      <td>2013-08-08</td>\n",
              "      <td>31.3</td>\n",
              "      <td>7.8</td>\n",
              "      <td>4.6</td>\n",
              "    </tr>\n",
              "  </tbody>\n",
              "</table>\n",
              "</div>"
            ],
            "text/plain": [
              "            date  temp  max_wind  mean_wind\n",
              "1103  2013-08-08  31.3       7.8        4.6"
            ]
          },
          "execution_count": 135,
          "metadata": {},
          "output_type": "execute_result"
        }
      ],
      "source": [
        "df_rawdata_weather[df_rawdata_weather['temp'] == df_rawdata_weather['temp'].max()]"
      ]
    },
    {
      "cell_type": "markdown",
      "metadata": {
        "id": "Yjs5KkVOfbWR"
      },
      "source": [
        "# 5. 판다스 결측 데이터 처리하기"
      ]
    },
    {
      "cell_type": "code",
      "execution_count": 132,
      "metadata": {},
      "outputs": [
        {
          "name": "stdout",
          "output_type": "stream",
          "text": [
            "<class 'pandas.core.frame.DataFrame'>\n",
            "RangeIndex: 3653 entries, 0 to 3652\n",
            "Data columns (total 4 columns):\n",
            " #   Column     Non-Null Count  Dtype  \n",
            "---  ------     --------------  -----  \n",
            " 0   date       3653 non-null   object \n",
            " 1   temp       3653 non-null   float64\n",
            " 2   max_wind   3649 non-null   float64\n",
            " 3   mean_wind  3647 non-null   float64\n",
            "dtypes: float64(3), object(1)\n",
            "memory usage: 114.3+ KB\n"
          ]
        }
      ],
      "source": [
        "df_rawdata_weather.info()"
      ]
    },
    {
      "cell_type": "code",
      "execution_count": 152,
      "metadata": {
        "colab": {
          "base_uri": "https://localhost:8080/",
          "height": 206
        },
        "id": "k1loB4JWfbDK",
        "outputId": "d96d9953-6efa-4987-9aa1-11d066f143da"
      },
      "outputs": [
        {
          "data": {
            "text/html": [
              "<div>\n",
              "<style scoped>\n",
              "    .dataframe tbody tr th:only-of-type {\n",
              "        vertical-align: middle;\n",
              "    }\n",
              "\n",
              "    .dataframe tbody tr th {\n",
              "        vertical-align: top;\n",
              "    }\n",
              "\n",
              "    .dataframe thead th {\n",
              "        text-align: right;\n",
              "    }\n",
              "</style>\n",
              "<table border=\"1\" class=\"dataframe\">\n",
              "  <thead>\n",
              "    <tr style=\"text-align: right;\">\n",
              "      <th></th>\n",
              "      <th>date</th>\n",
              "      <th>temp</th>\n",
              "      <th>max_wind</th>\n",
              "      <th>mean_wind</th>\n",
              "    </tr>\n",
              "  </thead>\n",
              "  <tbody>\n",
              "    <tr>\n",
              "      <th>559</th>\n",
              "      <td>2012-02-11</td>\n",
              "      <td>-0.7</td>\n",
              "      <td>NaN</td>\n",
              "      <td>NaN</td>\n",
              "    </tr>\n",
              "    <tr>\n",
              "      <th>560</th>\n",
              "      <td>2012-02-12</td>\n",
              "      <td>0.4</td>\n",
              "      <td>NaN</td>\n",
              "      <td>NaN</td>\n",
              "    </tr>\n",
              "    <tr>\n",
              "      <th>561</th>\n",
              "      <td>2012-02-13</td>\n",
              "      <td>4.0</td>\n",
              "      <td>NaN</td>\n",
              "      <td>NaN</td>\n",
              "    </tr>\n",
              "    <tr>\n",
              "      <th>1694</th>\n",
              "      <td>2015-03-22</td>\n",
              "      <td>10.1</td>\n",
              "      <td>11.6</td>\n",
              "      <td>NaN</td>\n",
              "    </tr>\n",
              "    <tr>\n",
              "      <th>1704</th>\n",
              "      <td>2015-04-01</td>\n",
              "      <td>7.3</td>\n",
              "      <td>12.1</td>\n",
              "      <td>NaN</td>\n",
              "    </tr>\n",
              "    <tr>\n",
              "      <th>3182</th>\n",
              "      <td>2019-04-18</td>\n",
              "      <td>15.7</td>\n",
              "      <td>11.7</td>\n",
              "      <td>NaN</td>\n",
              "    </tr>\n",
              "    <tr>\n",
              "      <th>3183</th>\n",
              "      <td>2019-04-19</td>\n",
              "      <td>7.8</td>\n",
              "      <td>NaN</td>\n",
              "      <td>2.3</td>\n",
              "    </tr>\n",
              "  </tbody>\n",
              "</table>\n",
              "</div>"
            ],
            "text/plain": [
              "            date  temp  max_wind  mean_wind\n",
              "559   2012-02-11  -0.7       NaN        NaN\n",
              "560   2012-02-12   0.4       NaN        NaN\n",
              "561   2012-02-13   4.0       NaN        NaN\n",
              "1694  2015-03-22  10.1      11.6        NaN\n",
              "1704  2015-04-01   7.3      12.1        NaN\n",
              "3182  2019-04-18  15.7      11.7        NaN\n",
              "3183  2019-04-19   7.8       NaN        2.3"
            ]
          },
          "execution_count": 152,
          "metadata": {},
          "output_type": "execute_result"
        }
      ],
      "source": [
        "# isna(=isnull)를 활용한 Boolean Indexing\n",
        "df_rawdata_weather[(df_rawdata_weather['max_wind'].isna()) | (df_rawdata_weather['mean_wind'].isna())]"
      ]
    },
    {
      "cell_type": "code",
      "execution_count": 137,
      "metadata": {
        "colab": {
          "base_uri": "https://localhost:8080/"
        },
        "id": "F16i01G4gxlY",
        "outputId": "ae392313-97f5-4b07-ff7c-635b903d8231"
      },
      "outputs": [
        {
          "data": {
            "text/plain": [
              "(date         0\n",
              " temp         0\n",
              " max_wind     4\n",
              " mean_wind    6\n",
              " dtype: int64,\n",
              " date         0\n",
              " temp         0\n",
              " max_wind     4\n",
              " mean_wind    6\n",
              " dtype: int64)"
            ]
          },
          "execution_count": 137,
          "metadata": {},
          "output_type": "execute_result"
        }
      ],
      "source": [
        "# 결측데이터 컬럼별 확인\n",
        "df_rawdata_weather.isnull().sum(), df_rawdata_weather.isna().sum()"
      ]
    },
    {
      "cell_type": "code",
      "execution_count": 140,
      "metadata": {
        "colab": {
          "base_uri": "https://localhost:8080/"
        },
        "id": "QjoYITprmb09",
        "outputId": "702fa062-576f-4e13-ce85-d2078a231047"
      },
      "outputs": [
        {
          "data": {
            "text/plain": [
              "date         0\n",
              "temp         0\n",
              "max_wind     0\n",
              "mean_wind    0\n",
              "dtype: int64"
            ]
          },
          "execution_count": 140,
          "metadata": {},
          "output_type": "execute_result"
        }
      ],
      "source": [
        "# dropna를 사용하여 na값 모두 제거하기\n",
        "df_mod01_weather = df_rawdata_weather.dropna()\n",
        "df_mod01_weather.isnull().sum()"
      ]
    },
    {
      "cell_type": "code",
      "execution_count": 154,
      "metadata": {
        "colab": {
          "base_uri": "https://localhost:8080/"
        },
        "id": "52ksdHUbiDW2",
        "outputId": "af4357ce-10f5-4661-a90b-bc460334587e"
      },
      "outputs": [
        {
          "data": {
            "text/plain": [
              "(            date  temp  max_wind  mean_wind\n",
              " 559   2012-02-11  -0.7       NaN        NaN\n",
              " 560   2012-02-12   0.4       NaN        NaN\n",
              " 561   2012-02-13   4.0       NaN        NaN\n",
              " 1694  2015-03-22  10.1      11.6        NaN\n",
              " 1704  2015-04-01   7.3      12.1        NaN\n",
              " 3182  2019-04-18  15.7      11.7        NaN\n",
              " 3183  2019-04-19   7.8       NaN        2.3,\n",
              "       temp   max_wind  mean_wind\n",
              " 559   -0.7   7.911099   3.936441\n",
              " 560    0.4   7.911099   3.936441\n",
              " 561    4.0   7.911099   3.936441\n",
              " 1694  10.1  11.600000   3.936441\n",
              " 1704   7.3  12.100000   3.936441\n",
              " 3182  15.7  11.700000   3.936441\n",
              " 3183   7.8   7.911099   2.300000)"
            ]
          },
          "execution_count": 154,
          "metadata": {},
          "output_type": "execute_result"
        }
      ],
      "source": [
        "# 결측 데이터를 평균값으로 대체하기 대체\n",
        "df_mod02_weather = df_rawdata_weather.iloc[:,1:].fillna(df_rawdata_weather.iloc[:,1:].mean())\n",
        "# 대체값 결과 비교하기\n",
        "df_rawdata_weather[(df_rawdata_weather['max_wind'].isna()) | (df_rawdata_weather['mean_wind'].isna())], df_mod02_weather.iloc[list_na_idx,:]"
      ]
    },
    {
      "cell_type": "code",
      "execution_count": 155,
      "metadata": {
        "colab": {
          "base_uri": "https://localhost:8080/"
        },
        "id": "nudX9Ao4nXAf",
        "outputId": "de383b86-703e-415c-db41-0c2eea6e3625"
      },
      "outputs": [
        {
          "data": {
            "text/plain": [
              "temp         0\n",
              "max_wind     0\n",
              "mean_wind    0\n",
              "dtype: int64"
            ]
          },
          "execution_count": 155,
          "metadata": {},
          "output_type": "execute_result"
        }
      ],
      "source": [
        "df_mod02_weather.isnull().sum()"
      ]
    },
    {
      "cell_type": "markdown",
      "metadata": {
        "id": "pBcHG_5rxeCW"
      },
      "source": [
        "# 6. 판다스 데이터 가공하기"
      ]
    },
    {
      "cell_type": "code",
      "execution_count": 158,
      "metadata": {
        "colab": {
          "base_uri": "https://localhost:8080/",
          "height": 206
        },
        "id": "BYF_Ja9Gxe7c",
        "outputId": "84264792-8f3d-475c-c9aa-6ec8ea0e8033"
      },
      "outputs": [
        {
          "name": "stdout",
          "output_type": "stream",
          "text": [
            "<class 'pandas.core.frame.DataFrame'>\n",
            "RangeIndex: 32 entries, 0 to 31\n",
            "Data columns (total 12 columns):\n",
            " #   Column  Non-Null Count  Dtype  \n",
            "---  ------  --------------  -----  \n",
            " 0   지역      32 non-null     object \n",
            " 1   망       32 non-null     object \n",
            " 2   측정소코드   32 non-null     int64  \n",
            " 3   측정소명    32 non-null     object \n",
            " 4   측정일시    32 non-null     int64  \n",
            " 5   SO2     32 non-null     float64\n",
            " 6   CO      32 non-null     float64\n",
            " 7   O3      32 non-null     float64\n",
            " 8   NO2     32 non-null     float64\n",
            " 9   PM10    32 non-null     int64  \n",
            " 10  PM25    32 non-null     int64  \n",
            " 11  주소      32 non-null     object \n",
            "dtypes: float64(4), int64(4), object(4)\n",
            "memory usage: 3.1+ KB\n"
          ]
        },
        {
          "data": {
            "text/html": [
              "<div>\n",
              "<style scoped>\n",
              "    .dataframe tbody tr th:only-of-type {\n",
              "        vertical-align: middle;\n",
              "    }\n",
              "\n",
              "    .dataframe tbody tr th {\n",
              "        vertical-align: top;\n",
              "    }\n",
              "\n",
              "    .dataframe thead th {\n",
              "        text-align: right;\n",
              "    }\n",
              "</style>\n",
              "<table border=\"1\" class=\"dataframe\">\n",
              "  <thead>\n",
              "    <tr style=\"text-align: right;\">\n",
              "      <th></th>\n",
              "      <th>지역</th>\n",
              "      <th>망</th>\n",
              "      <th>측정소코드</th>\n",
              "      <th>측정소명</th>\n",
              "      <th>측정일시</th>\n",
              "      <th>SO2</th>\n",
              "      <th>CO</th>\n",
              "      <th>O3</th>\n",
              "      <th>NO2</th>\n",
              "      <th>PM10</th>\n",
              "      <th>PM25</th>\n",
              "      <th>주소</th>\n",
              "    </tr>\n",
              "  </thead>\n",
              "  <tbody>\n",
              "    <tr>\n",
              "      <th>0</th>\n",
              "      <td>서울 송파구</td>\n",
              "      <td>도시대기</td>\n",
              "      <td>111273</td>\n",
              "      <td>송파구</td>\n",
              "      <td>2021040101</td>\n",
              "      <td>0.004</td>\n",
              "      <td>1.0</td>\n",
              "      <td>0.002</td>\n",
              "      <td>0.066</td>\n",
              "      <td>50</td>\n",
              "      <td>18</td>\n",
              "      <td>서울 송파구 백제고분로 236</td>\n",
              "    </tr>\n",
              "    <tr>\n",
              "      <th>1</th>\n",
              "      <td>서울 송파구</td>\n",
              "      <td>도시대기</td>\n",
              "      <td>111273</td>\n",
              "      <td>송파구</td>\n",
              "      <td>2021040102</td>\n",
              "      <td>0.004</td>\n",
              "      <td>0.8</td>\n",
              "      <td>0.002</td>\n",
              "      <td>0.058</td>\n",
              "      <td>48</td>\n",
              "      <td>20</td>\n",
              "      <td>서울 송파구 백제고분로 236</td>\n",
              "    </tr>\n",
              "    <tr>\n",
              "      <th>2</th>\n",
              "      <td>서울 송파구</td>\n",
              "      <td>도시대기</td>\n",
              "      <td>111273</td>\n",
              "      <td>송파구</td>\n",
              "      <td>2021040103</td>\n",
              "      <td>0.004</td>\n",
              "      <td>0.8</td>\n",
              "      <td>0.002</td>\n",
              "      <td>0.055</td>\n",
              "      <td>44</td>\n",
              "      <td>20</td>\n",
              "      <td>서울 송파구 백제고분로 236</td>\n",
              "    </tr>\n",
              "    <tr>\n",
              "      <th>3</th>\n",
              "      <td>서울 송파구</td>\n",
              "      <td>도시대기</td>\n",
              "      <td>111273</td>\n",
              "      <td>송파구</td>\n",
              "      <td>2021040104</td>\n",
              "      <td>0.003</td>\n",
              "      <td>0.8</td>\n",
              "      <td>0.002</td>\n",
              "      <td>0.055</td>\n",
              "      <td>40</td>\n",
              "      <td>20</td>\n",
              "      <td>서울 송파구 백제고분로 236</td>\n",
              "    </tr>\n",
              "    <tr>\n",
              "      <th>4</th>\n",
              "      <td>서울 송파구</td>\n",
              "      <td>도시대기</td>\n",
              "      <td>111273</td>\n",
              "      <td>송파구</td>\n",
              "      <td>2021040105</td>\n",
              "      <td>0.004</td>\n",
              "      <td>0.8</td>\n",
              "      <td>0.002</td>\n",
              "      <td>0.053</td>\n",
              "      <td>38</td>\n",
              "      <td>17</td>\n",
              "      <td>서울 송파구 백제고분로 236</td>\n",
              "    </tr>\n",
              "  </tbody>\n",
              "</table>\n",
              "</div>"
            ],
            "text/plain": [
              "       지역     망   측정소코드 측정소명        측정일시    SO2   CO     O3    NO2  PM10  \\\n",
              "0  서울 송파구  도시대기  111273  송파구  2021040101  0.004  1.0  0.002  0.066    50   \n",
              "1  서울 송파구  도시대기  111273  송파구  2021040102  0.004  0.8  0.002  0.058    48   \n",
              "2  서울 송파구  도시대기  111273  송파구  2021040103  0.004  0.8  0.002  0.055    44   \n",
              "3  서울 송파구  도시대기  111273  송파구  2021040104  0.003  0.8  0.002  0.055    40   \n",
              "4  서울 송파구  도시대기  111273  송파구  2021040105  0.004  0.8  0.002  0.053    38   \n",
              "\n",
              "   PM25                주소  \n",
              "0    18  서울 송파구 백제고분로 236  \n",
              "1    20  서울 송파구 백제고분로 236  \n",
              "2    20  서울 송파구 백제고분로 236  \n",
              "3    20  서울 송파구 백제고분로 236  \n",
              "4    17  서울 송파구 백제고분로 236  "
            ]
          },
          "execution_count": 158,
          "metadata": {},
          "output_type": "execute_result"
        }
      ],
      "source": [
        "filename='./Data/dust1.xlsx'\n",
        "df_rawdata_dust=pd.read_excel(filename)\n",
        "df_rawdata_dust.info()\n",
        "df_rawdata_dust.head()"
      ]
    },
    {
      "cell_type": "code",
      "execution_count": 159,
      "metadata": {},
      "outputs": [
        {
          "data": {
            "text/html": [
              "<div>\n",
              "<style scoped>\n",
              "    .dataframe tbody tr th:only-of-type {\n",
              "        vertical-align: middle;\n",
              "    }\n",
              "\n",
              "    .dataframe tbody tr th {\n",
              "        vertical-align: top;\n",
              "    }\n",
              "\n",
              "    .dataframe thead th {\n",
              "        text-align: right;\n",
              "    }\n",
              "</style>\n",
              "<table border=\"1\" class=\"dataframe\">\n",
              "  <thead>\n",
              "    <tr style=\"text-align: right;\">\n",
              "      <th></th>\n",
              "      <th>지역</th>\n",
              "      <th>망</th>\n",
              "      <th>측정소코드</th>\n",
              "      <th>측정소명</th>\n",
              "      <th>측정일시</th>\n",
              "      <th>SO2</th>\n",
              "      <th>CO</th>\n",
              "      <th>O3</th>\n",
              "      <th>NO2</th>\n",
              "      <th>PM10</th>\n",
              "      <th>PM25</th>\n",
              "      <th>주소</th>\n",
              "    </tr>\n",
              "  </thead>\n",
              "  <tbody>\n",
              "    <tr>\n",
              "      <th>count</th>\n",
              "      <td>32</td>\n",
              "      <td>32</td>\n",
              "      <td>32.0</td>\n",
              "      <td>32</td>\n",
              "      <td>3.200000e+01</td>\n",
              "      <td>32.000000</td>\n",
              "      <td>32.000000</td>\n",
              "      <td>32.000000</td>\n",
              "      <td>32.000000</td>\n",
              "      <td>32.000000</td>\n",
              "      <td>32.000000</td>\n",
              "      <td>32</td>\n",
              "    </tr>\n",
              "    <tr>\n",
              "      <th>unique</th>\n",
              "      <td>1</td>\n",
              "      <td>1</td>\n",
              "      <td>NaN</td>\n",
              "      <td>1</td>\n",
              "      <td>NaN</td>\n",
              "      <td>NaN</td>\n",
              "      <td>NaN</td>\n",
              "      <td>NaN</td>\n",
              "      <td>NaN</td>\n",
              "      <td>NaN</td>\n",
              "      <td>NaN</td>\n",
              "      <td>1</td>\n",
              "    </tr>\n",
              "    <tr>\n",
              "      <th>top</th>\n",
              "      <td>서울 송파구</td>\n",
              "      <td>도시대기</td>\n",
              "      <td>NaN</td>\n",
              "      <td>송파구</td>\n",
              "      <td>NaN</td>\n",
              "      <td>NaN</td>\n",
              "      <td>NaN</td>\n",
              "      <td>NaN</td>\n",
              "      <td>NaN</td>\n",
              "      <td>NaN</td>\n",
              "      <td>NaN</td>\n",
              "      <td>서울 송파구 백제고분로 236</td>\n",
              "    </tr>\n",
              "    <tr>\n",
              "      <th>freq</th>\n",
              "      <td>32</td>\n",
              "      <td>32</td>\n",
              "      <td>NaN</td>\n",
              "      <td>32</td>\n",
              "      <td>NaN</td>\n",
              "      <td>NaN</td>\n",
              "      <td>NaN</td>\n",
              "      <td>NaN</td>\n",
              "      <td>NaN</td>\n",
              "      <td>NaN</td>\n",
              "      <td>NaN</td>\n",
              "      <td>32</td>\n",
              "    </tr>\n",
              "    <tr>\n",
              "      <th>mean</th>\n",
              "      <td>NaN</td>\n",
              "      <td>NaN</td>\n",
              "      <td>111273.0</td>\n",
              "      <td>NaN</td>\n",
              "      <td>2.021040e+09</td>\n",
              "      <td>0.003125</td>\n",
              "      <td>0.468750</td>\n",
              "      <td>0.035625</td>\n",
              "      <td>0.026375</td>\n",
              "      <td>45.000000</td>\n",
              "      <td>13.656250</td>\n",
              "      <td>NaN</td>\n",
              "    </tr>\n",
              "    <tr>\n",
              "      <th>std</th>\n",
              "      <td>NaN</td>\n",
              "      <td>NaN</td>\n",
              "      <td>0.0</td>\n",
              "      <td>NaN</td>\n",
              "      <td>4.094686e+01</td>\n",
              "      <td>0.000554</td>\n",
              "      <td>0.208586</td>\n",
              "      <td>0.021480</td>\n",
              "      <td>0.018999</td>\n",
              "      <td>6.490688</td>\n",
              "      <td>4.012958</td>\n",
              "      <td>NaN</td>\n",
              "    </tr>\n",
              "    <tr>\n",
              "      <th>min</th>\n",
              "      <td>NaN</td>\n",
              "      <td>NaN</td>\n",
              "      <td>111273.0</td>\n",
              "      <td>NaN</td>\n",
              "      <td>2.021040e+09</td>\n",
              "      <td>0.002000</td>\n",
              "      <td>0.300000</td>\n",
              "      <td>0.002000</td>\n",
              "      <td>0.009000</td>\n",
              "      <td>38.000000</td>\n",
              "      <td>8.000000</td>\n",
              "      <td>NaN</td>\n",
              "    </tr>\n",
              "    <tr>\n",
              "      <th>25%</th>\n",
              "      <td>NaN</td>\n",
              "      <td>NaN</td>\n",
              "      <td>111273.0</td>\n",
              "      <td>NaN</td>\n",
              "      <td>2.021040e+09</td>\n",
              "      <td>0.003000</td>\n",
              "      <td>0.300000</td>\n",
              "      <td>0.011500</td>\n",
              "      <td>0.012000</td>\n",
              "      <td>41.750000</td>\n",
              "      <td>10.750000</td>\n",
              "      <td>NaN</td>\n",
              "    </tr>\n",
              "    <tr>\n",
              "      <th>50%</th>\n",
              "      <td>NaN</td>\n",
              "      <td>NaN</td>\n",
              "      <td>111273.0</td>\n",
              "      <td>NaN</td>\n",
              "      <td>2.021040e+09</td>\n",
              "      <td>0.003000</td>\n",
              "      <td>0.400000</td>\n",
              "      <td>0.046500</td>\n",
              "      <td>0.016500</td>\n",
              "      <td>44.000000</td>\n",
              "      <td>12.500000</td>\n",
              "      <td>NaN</td>\n",
              "    </tr>\n",
              "    <tr>\n",
              "      <th>75%</th>\n",
              "      <td>NaN</td>\n",
              "      <td>NaN</td>\n",
              "      <td>111273.0</td>\n",
              "      <td>NaN</td>\n",
              "      <td>2.021040e+09</td>\n",
              "      <td>0.003000</td>\n",
              "      <td>0.625000</td>\n",
              "      <td>0.050250</td>\n",
              "      <td>0.047250</td>\n",
              "      <td>46.000000</td>\n",
              "      <td>17.000000</td>\n",
              "      <td>NaN</td>\n",
              "    </tr>\n",
              "    <tr>\n",
              "      <th>max</th>\n",
              "      <td>NaN</td>\n",
              "      <td>NaN</td>\n",
              "      <td>111273.0</td>\n",
              "      <td>NaN</td>\n",
              "      <td>2.021040e+09</td>\n",
              "      <td>0.004000</td>\n",
              "      <td>1.000000</td>\n",
              "      <td>0.060000</td>\n",
              "      <td>0.066000</td>\n",
              "      <td>68.000000</td>\n",
              "      <td>22.000000</td>\n",
              "      <td>NaN</td>\n",
              "    </tr>\n",
              "  </tbody>\n",
              "</table>\n",
              "</div>"
            ],
            "text/plain": [
              "            지역     망     측정소코드 측정소명          측정일시        SO2         CO  \\\n",
              "count       32    32      32.0   32  3.200000e+01  32.000000  32.000000   \n",
              "unique       1     1       NaN    1           NaN        NaN        NaN   \n",
              "top     서울 송파구  도시대기       NaN  송파구           NaN        NaN        NaN   \n",
              "freq        32    32       NaN   32           NaN        NaN        NaN   \n",
              "mean       NaN   NaN  111273.0  NaN  2.021040e+09   0.003125   0.468750   \n",
              "std        NaN   NaN       0.0  NaN  4.094686e+01   0.000554   0.208586   \n",
              "min        NaN   NaN  111273.0  NaN  2.021040e+09   0.002000   0.300000   \n",
              "25%        NaN   NaN  111273.0  NaN  2.021040e+09   0.003000   0.300000   \n",
              "50%        NaN   NaN  111273.0  NaN  2.021040e+09   0.003000   0.400000   \n",
              "75%        NaN   NaN  111273.0  NaN  2.021040e+09   0.003000   0.625000   \n",
              "max        NaN   NaN  111273.0  NaN  2.021040e+09   0.004000   1.000000   \n",
              "\n",
              "               O3        NO2       PM10       PM25                주소  \n",
              "count   32.000000  32.000000  32.000000  32.000000                32  \n",
              "unique        NaN        NaN        NaN        NaN                 1  \n",
              "top           NaN        NaN        NaN        NaN  서울 송파구 백제고분로 236  \n",
              "freq          NaN        NaN        NaN        NaN                32  \n",
              "mean     0.035625   0.026375  45.000000  13.656250               NaN  \n",
              "std      0.021480   0.018999   6.490688   4.012958               NaN  \n",
              "min      0.002000   0.009000  38.000000   8.000000               NaN  \n",
              "25%      0.011500   0.012000  41.750000  10.750000               NaN  \n",
              "50%      0.046500   0.016500  44.000000  12.500000               NaN  \n",
              "75%      0.050250   0.047250  46.000000  17.000000               NaN  \n",
              "max      0.060000   0.066000  68.000000  22.000000               NaN  "
            ]
          },
          "execution_count": 159,
          "metadata": {},
          "output_type": "execute_result"
        }
      ],
      "source": [
        "df_rawdata_dust.describe(include='all')"
      ]
    },
    {
      "cell_type": "code",
      "execution_count": 162,
      "metadata": {
        "id": "EAuZzAz-zWFs"
      },
      "outputs": [
        {
          "name": "stdout",
          "output_type": "stream",
          "text": [
            "<class 'pandas.core.frame.DataFrame'>\n",
            "RangeIndex: 32 entries, 0 to 31\n",
            "Data columns (total 8 columns):\n",
            " #   Column  Non-Null Count  Dtype  \n",
            "---  ------  --------------  -----  \n",
            " 0   측정일시    32 non-null     int64  \n",
            " 1   SO2     32 non-null     float64\n",
            " 2   CO      32 non-null     float64\n",
            " 3   O3      32 non-null     float64\n",
            " 4   NO2     32 non-null     float64\n",
            " 5   PM10    32 non-null     int64  \n",
            " 6   PM25    32 non-null     int64  \n",
            " 7   주소      32 non-null     object \n",
            "dtypes: float64(4), int64(3), object(1)\n",
            "memory usage: 2.1+ KB\n",
            "<class 'pandas.core.frame.DataFrame'>\n",
            "RangeIndex: 32 entries, 0 to 31\n",
            "Data columns (total 8 columns):\n",
            " #   Column  Non-Null Count  Dtype  \n",
            "---  ------  --------------  -----  \n",
            " 0   측정일시    32 non-null     int64  \n",
            " 1   SO2     32 non-null     float64\n",
            " 2   CO      32 non-null     float64\n",
            " 3   O3      32 non-null     float64\n",
            " 4   NO2     32 non-null     float64\n",
            " 5   PM10    32 non-null     int64  \n",
            " 6   PM25    32 non-null     int64  \n",
            " 7   주소      32 non-null     object \n",
            "dtypes: float64(4), int64(3), object(1)\n",
            "memory usage: 2.1+ KB\n"
          ]
        },
        {
          "data": {
            "text/plain": [
              "(None, None)"
            ]
          },
          "execution_count": 162,
          "metadata": {},
          "output_type": "execute_result"
        }
      ],
      "source": [
        "# 컬럼(변수) 삭제하기\n",
        "## 위의 요약통계 확인 시 지역, 망, 측정소명 그리고 주소의 경우 unique값이 1개 즉 다 동일함.\n",
        "## 측정소 코드의 경우 코드값으로 object여야 하나 int Type으로 되어 있고 mean, min, max가 다 동일함.\n",
        "## 주소는 별도 처리를 위해 제외\n",
        "df_mod00_dust = df_rawdata_dust.drop(['지역', '망', '측정소코드', '측정소명'], axis=1) # drop으로 제거\n",
        "df_mod01_dust = df_rawdata_dust.iloc[:, 4:] # slicing으로 제거\n",
        "df_mod00_dust.info(), df_mod01_dust.info()"
      ]
    },
    {
      "cell_type": "code",
      "execution_count": 164,
      "metadata": {
        "colab": {
          "base_uri": "https://localhost:8080/",
          "height": 206
        },
        "id": "yjvX69ND0MVq",
        "outputId": "539460cd-8d5c-42a6-a73c-915fefaef81f"
      },
      "outputs": [
        {
          "data": {
            "text/html": [
              "<div>\n",
              "<style scoped>\n",
              "    .dataframe tbody tr th:only-of-type {\n",
              "        vertical-align: middle;\n",
              "    }\n",
              "\n",
              "    .dataframe tbody tr th {\n",
              "        vertical-align: top;\n",
              "    }\n",
              "\n",
              "    .dataframe thead th {\n",
              "        text-align: right;\n",
              "    }\n",
              "</style>\n",
              "<table border=\"1\" class=\"dataframe\">\n",
              "  <thead>\n",
              "    <tr style=\"text-align: right;\">\n",
              "      <th></th>\n",
              "      <th>측정일시</th>\n",
              "      <th>SO2</th>\n",
              "      <th>CO</th>\n",
              "      <th>O3</th>\n",
              "      <th>NO2</th>\n",
              "      <th>PM10</th>\n",
              "      <th>PM25</th>\n",
              "      <th>주소</th>\n",
              "    </tr>\n",
              "  </thead>\n",
              "  <tbody>\n",
              "    <tr>\n",
              "      <th>0</th>\n",
              "      <td>2021040101</td>\n",
              "      <td>0.004</td>\n",
              "      <td>1.0</td>\n",
              "      <td>0.002</td>\n",
              "      <td>0.066</td>\n",
              "      <td>50</td>\n",
              "      <td>18</td>\n",
              "      <td>서울 송파구 백제고분로 236</td>\n",
              "    </tr>\n",
              "    <tr>\n",
              "      <th>1</th>\n",
              "      <td>2021040102</td>\n",
              "      <td>0.004</td>\n",
              "      <td>0.8</td>\n",
              "      <td>0.002</td>\n",
              "      <td>0.058</td>\n",
              "      <td>48</td>\n",
              "      <td>20</td>\n",
              "      <td>서울 송파구 백제고분로 236</td>\n",
              "    </tr>\n",
              "    <tr>\n",
              "      <th>2</th>\n",
              "      <td>2021040103</td>\n",
              "      <td>0.004</td>\n",
              "      <td>0.8</td>\n",
              "      <td>0.002</td>\n",
              "      <td>0.055</td>\n",
              "      <td>44</td>\n",
              "      <td>20</td>\n",
              "      <td>서울 송파구 백제고분로 236</td>\n",
              "    </tr>\n",
              "    <tr>\n",
              "      <th>3</th>\n",
              "      <td>2021040104</td>\n",
              "      <td>0.003</td>\n",
              "      <td>0.8</td>\n",
              "      <td>0.002</td>\n",
              "      <td>0.055</td>\n",
              "      <td>40</td>\n",
              "      <td>20</td>\n",
              "      <td>서울 송파구 백제고분로 236</td>\n",
              "    </tr>\n",
              "    <tr>\n",
              "      <th>4</th>\n",
              "      <td>2021040105</td>\n",
              "      <td>0.004</td>\n",
              "      <td>0.8</td>\n",
              "      <td>0.002</td>\n",
              "      <td>0.053</td>\n",
              "      <td>38</td>\n",
              "      <td>17</td>\n",
              "      <td>서울 송파구 백제고분로 236</td>\n",
              "    </tr>\n",
              "  </tbody>\n",
              "</table>\n",
              "</div>"
            ],
            "text/plain": [
              "         측정일시    SO2   CO     O3    NO2  PM10  PM25                주소\n",
              "0  2021040101  0.004  1.0  0.002  0.066    50    18  서울 송파구 백제고분로 236\n",
              "1  2021040102  0.004  0.8  0.002  0.058    48    20  서울 송파구 백제고분로 236\n",
              "2  2021040103  0.004  0.8  0.002  0.055    44    20  서울 송파구 백제고분로 236\n",
              "3  2021040104  0.003  0.8  0.002  0.055    40    20  서울 송파구 백제고분로 236\n",
              "4  2021040105  0.004  0.8  0.002  0.053    38    17  서울 송파구 백제고분로 236"
            ]
          },
          "execution_count": 164,
          "metadata": {},
          "output_type": "execute_result"
        }
      ],
      "source": [
        "df_mod00_dust.head()"
      ]
    },
    {
      "cell_type": "code",
      "execution_count": 167,
      "metadata": {
        "id": "Q77cV1ur0fi6"
      },
      "outputs": [],
      "source": [
        "# 컬럼생성하기\n",
        "df_mod00_dust['city'] = '서울' # 직접입력\n",
        "df_mod01_dust['city'] = df_mod01_dust['주소'].str.slice(start=0, stop=2) # 주소 컬럼에서 가져오기"
      ]
    },
    {
      "cell_type": "code",
      "execution_count": 168,
      "metadata": {
        "colab": {
          "base_uri": "https://localhost:8080/",
          "height": 206
        },
        "id": "cB779N7J13V7",
        "outputId": "fbc5f265-8830-468a-eee1-3f4302a0ceb0"
      },
      "outputs": [
        {
          "data": {
            "text/plain": [
              "(         측정일시    SO2   CO     O3    NO2  PM10  PM25                주소 city\n",
              " 0  2021040101  0.004  1.0  0.002  0.066    50    18  서울 송파구 백제고분로 236   서울\n",
              " 1  2021040102  0.004  0.8  0.002  0.058    48    20  서울 송파구 백제고분로 236   서울\n",
              " 2  2021040103  0.004  0.8  0.002  0.055    44    20  서울 송파구 백제고분로 236   서울\n",
              " 3  2021040104  0.003  0.8  0.002  0.055    40    20  서울 송파구 백제고분로 236   서울\n",
              " 4  2021040105  0.004  0.8  0.002  0.053    38    17  서울 송파구 백제고분로 236   서울,\n",
              "          측정일시    SO2   CO     O3    NO2  PM10  PM25                주소 city\n",
              " 0  2021040101  0.004  1.0  0.002  0.066    50    18  서울 송파구 백제고분로 236   서울\n",
              " 1  2021040102  0.004  0.8  0.002  0.058    48    20  서울 송파구 백제고분로 236   서울\n",
              " 2  2021040103  0.004  0.8  0.002  0.055    44    20  서울 송파구 백제고분로 236   서울\n",
              " 3  2021040104  0.003  0.8  0.002  0.055    40    20  서울 송파구 백제고분로 236   서울\n",
              " 4  2021040105  0.004  0.8  0.002  0.053    38    17  서울 송파구 백제고분로 236   서울)"
            ]
          },
          "execution_count": 168,
          "metadata": {},
          "output_type": "execute_result"
        }
      ],
      "source": [
        "df_mod00_dust.head(), df_mod01_dust.head()"
      ]
    },
    {
      "cell_type": "code",
      "execution_count": 169,
      "metadata": {},
      "outputs": [
        {
          "data": {
            "text/plain": [
              "Index(['측정일시', 'SO2', 'CO', 'O3', 'NO2', 'PM10', 'PM25', '주소', 'city'], dtype='object')"
            ]
          },
          "execution_count": 169,
          "metadata": {},
          "output_type": "execute_result"
        }
      ],
      "source": [
        "df_mod01_dust.columns"
      ]
    },
    {
      "cell_type": "code",
      "execution_count": 170,
      "metadata": {
        "id": "Wwi8KF7_453H"
      },
      "outputs": [],
      "source": [
        "df_mod00_dust.rename(columns={'측정일시':'date', '주소':'addr'}, inplace=True)\n",
        "df_mod01_dust.columns = ['date', 'SO2', 'CO', 'O3', 'NO2', 'PM10', 'PM25', 'addr', 'city']"
      ]
    },
    {
      "cell_type": "code",
      "execution_count": 171,
      "metadata": {
        "colab": {
          "base_uri": "https://localhost:8080/"
        },
        "id": "t6CuB3nq5OBl",
        "outputId": "738ad3d4-46d4-4525-bf8b-f0eba286fc3f"
      },
      "outputs": [
        {
          "data": {
            "text/plain": [
              "(Index(['date', 'SO2', 'CO', 'O3', 'NO2', 'PM10', 'PM25', 'addr', 'city'], dtype='object'),\n",
              " Index(['date', 'SO2', 'CO', 'O3', 'NO2', 'PM10', 'PM25', 'addr', 'city'], dtype='object'))"
            ]
          },
          "execution_count": 171,
          "metadata": {},
          "output_type": "execute_result"
        }
      ],
      "source": [
        "df_mod00_dust.columns, df_mod01_dust.columns"
      ]
    },
    {
      "cell_type": "code",
      "execution_count": 173,
      "metadata": {
        "colab": {
          "base_uri": "https://localhost:8080/"
        },
        "id": "9n1R4kQD58al",
        "outputId": "b52485ed-783f-426d-94c3-ea6aef392ba5"
      },
      "outputs": [
        {
          "data": {
            "text/plain": [
              "date      int64\n",
              "SO2     float64\n",
              "CO      float64\n",
              "O3      float64\n",
              "NO2     float64\n",
              "PM10      int64\n",
              "PM25      int64\n",
              "addr     object\n",
              "city     object\n",
              "dtype: object"
            ]
          },
          "execution_count": 173,
          "metadata": {},
          "output_type": "execute_result"
        }
      ],
      "source": [
        "df_mod00_dust.dtypes"
      ]
    },
    {
      "cell_type": "code",
      "execution_count": 176,
      "metadata": {
        "colab": {
          "base_uri": "https://localhost:8080/"
        },
        "id": "d4cY-FF96xce",
        "outputId": "b98e0e40-011d-4e2f-d049-47ffbfecbb36"
      },
      "outputs": [
        {
          "name": "stdout",
          "output_type": "stream",
          "text": [
            "date     object\n",
            "SO2     float64\n",
            "CO      float64\n",
            "O3      float64\n",
            "NO2     float64\n",
            "PM10      int64\n",
            "PM25      int64\n",
            "addr     object\n",
            "city     object\n",
            "dtype: object\n"
          ]
        },
        {
          "data": {
            "text/html": [
              "<div>\n",
              "<style scoped>\n",
              "    .dataframe tbody tr th:only-of-type {\n",
              "        vertical-align: middle;\n",
              "    }\n",
              "\n",
              "    .dataframe tbody tr th {\n",
              "        vertical-align: top;\n",
              "    }\n",
              "\n",
              "    .dataframe thead th {\n",
              "        text-align: right;\n",
              "    }\n",
              "</style>\n",
              "<table border=\"1\" class=\"dataframe\">\n",
              "  <thead>\n",
              "    <tr style=\"text-align: right;\">\n",
              "      <th></th>\n",
              "      <th>date</th>\n",
              "      <th>SO2</th>\n",
              "      <th>CO</th>\n",
              "      <th>O3</th>\n",
              "      <th>NO2</th>\n",
              "      <th>PM10</th>\n",
              "      <th>PM25</th>\n",
              "      <th>addr</th>\n",
              "      <th>city</th>\n",
              "    </tr>\n",
              "  </thead>\n",
              "  <tbody>\n",
              "    <tr>\n",
              "      <th>0</th>\n",
              "      <td>20210401</td>\n",
              "      <td>0.004</td>\n",
              "      <td>1.0</td>\n",
              "      <td>0.002</td>\n",
              "      <td>0.066</td>\n",
              "      <td>50</td>\n",
              "      <td>18</td>\n",
              "      <td>서울 송파구 백제고분로 236</td>\n",
              "      <td>서울</td>\n",
              "    </tr>\n",
              "    <tr>\n",
              "      <th>1</th>\n",
              "      <td>20210401</td>\n",
              "      <td>0.004</td>\n",
              "      <td>0.8</td>\n",
              "      <td>0.002</td>\n",
              "      <td>0.058</td>\n",
              "      <td>48</td>\n",
              "      <td>20</td>\n",
              "      <td>서울 송파구 백제고분로 236</td>\n",
              "      <td>서울</td>\n",
              "    </tr>\n",
              "    <tr>\n",
              "      <th>2</th>\n",
              "      <td>20210401</td>\n",
              "      <td>0.004</td>\n",
              "      <td>0.8</td>\n",
              "      <td>0.002</td>\n",
              "      <td>0.055</td>\n",
              "      <td>44</td>\n",
              "      <td>20</td>\n",
              "      <td>서울 송파구 백제고분로 236</td>\n",
              "      <td>서울</td>\n",
              "    </tr>\n",
              "    <tr>\n",
              "      <th>3</th>\n",
              "      <td>20210401</td>\n",
              "      <td>0.003</td>\n",
              "      <td>0.8</td>\n",
              "      <td>0.002</td>\n",
              "      <td>0.055</td>\n",
              "      <td>40</td>\n",
              "      <td>20</td>\n",
              "      <td>서울 송파구 백제고분로 236</td>\n",
              "      <td>서울</td>\n",
              "    </tr>\n",
              "    <tr>\n",
              "      <th>4</th>\n",
              "      <td>20210401</td>\n",
              "      <td>0.004</td>\n",
              "      <td>0.8</td>\n",
              "      <td>0.002</td>\n",
              "      <td>0.053</td>\n",
              "      <td>38</td>\n",
              "      <td>17</td>\n",
              "      <td>서울 송파구 백제고분로 236</td>\n",
              "      <td>서울</td>\n",
              "    </tr>\n",
              "  </tbody>\n",
              "</table>\n",
              "</div>"
            ],
            "text/plain": [
              "       date    SO2   CO     O3    NO2  PM10  PM25              addr city\n",
              "0  20210401  0.004  1.0  0.002  0.066    50    18  서울 송파구 백제고분로 236   서울\n",
              "1  20210401  0.004  0.8  0.002  0.058    48    20  서울 송파구 백제고분로 236   서울\n",
              "2  20210401  0.004  0.8  0.002  0.055    44    20  서울 송파구 백제고분로 236   서울\n",
              "3  20210401  0.003  0.8  0.002  0.055    40    20  서울 송파구 백제고분로 236   서울\n",
              "4  20210401  0.004  0.8  0.002  0.053    38    17  서울 송파구 백제고분로 236   서울"
            ]
          },
          "execution_count": 176,
          "metadata": {},
          "output_type": "execute_result"
        }
      ],
      "source": [
        "# 숫자 int형을 문자열형으로 변환 후 연월일만 추출\n",
        "df_mod00_dust['date'] = df_mod00_dust['date'].astype(str)\n",
        "df_mod00_dust['date'] = df_mod00_dust['date'].str.slice(start=0, stop=8)\n",
        "print(df_mod00_dust.dtypes)\n",
        "df_mod00_dust.head()"
      ]
    },
    {
      "cell_type": "code",
      "execution_count": 177,
      "metadata": {
        "colab": {
          "base_uri": "https://localhost:8080/"
        },
        "id": "8l1FABUM8tH7",
        "outputId": "752e5f19-c1fd-4182-9095-2ebe12dcb572"
      },
      "outputs": [
        {
          "data": {
            "text/plain": [
              "date    datetime64[ns]\n",
              "SO2            float64\n",
              "CO             float64\n",
              "O3             float64\n",
              "NO2            float64\n",
              "PM10             int64\n",
              "PM25             int64\n",
              "addr            object\n",
              "city            object\n",
              "dtype: object"
            ]
          },
          "execution_count": 177,
          "metadata": {},
          "output_type": "execute_result"
        }
      ],
      "source": [
        "df_mod00_dust['date'] = pd.to_datetime(df_mod00_dust['date'])\n",
        "df_mod00_dust.dtypes"
      ]
    },
    {
      "cell_type": "code",
      "execution_count": 178,
      "metadata": {
        "colab": {
          "base_uri": "https://localhost:8080/",
          "height": 206
        },
        "id": "kwkZ9IB_-GfH",
        "outputId": "0aa90958-6f5e-41b0-d017-2fae27135291"
      },
      "outputs": [
        {
          "data": {
            "text/html": [
              "<div>\n",
              "<style scoped>\n",
              "    .dataframe tbody tr th:only-of-type {\n",
              "        vertical-align: middle;\n",
              "    }\n",
              "\n",
              "    .dataframe tbody tr th {\n",
              "        vertical-align: top;\n",
              "    }\n",
              "\n",
              "    .dataframe thead th {\n",
              "        text-align: right;\n",
              "    }\n",
              "</style>\n",
              "<table border=\"1\" class=\"dataframe\">\n",
              "  <thead>\n",
              "    <tr style=\"text-align: right;\">\n",
              "      <th></th>\n",
              "      <th>date</th>\n",
              "      <th>SO2</th>\n",
              "      <th>CO</th>\n",
              "      <th>O3</th>\n",
              "      <th>NO2</th>\n",
              "      <th>PM10</th>\n",
              "      <th>PM25</th>\n",
              "      <th>addr</th>\n",
              "      <th>city</th>\n",
              "      <th>year</th>\n",
              "      <th>month</th>\n",
              "      <th>day</th>\n",
              "    </tr>\n",
              "  </thead>\n",
              "  <tbody>\n",
              "    <tr>\n",
              "      <th>0</th>\n",
              "      <td>2021-04-01</td>\n",
              "      <td>0.004</td>\n",
              "      <td>1.0</td>\n",
              "      <td>0.002</td>\n",
              "      <td>0.066</td>\n",
              "      <td>50</td>\n",
              "      <td>18</td>\n",
              "      <td>서울 송파구 백제고분로 236</td>\n",
              "      <td>서울</td>\n",
              "      <td>2021</td>\n",
              "      <td>4</td>\n",
              "      <td>1</td>\n",
              "    </tr>\n",
              "    <tr>\n",
              "      <th>1</th>\n",
              "      <td>2021-04-01</td>\n",
              "      <td>0.004</td>\n",
              "      <td>0.8</td>\n",
              "      <td>0.002</td>\n",
              "      <td>0.058</td>\n",
              "      <td>48</td>\n",
              "      <td>20</td>\n",
              "      <td>서울 송파구 백제고분로 236</td>\n",
              "      <td>서울</td>\n",
              "      <td>2021</td>\n",
              "      <td>4</td>\n",
              "      <td>1</td>\n",
              "    </tr>\n",
              "    <tr>\n",
              "      <th>2</th>\n",
              "      <td>2021-04-01</td>\n",
              "      <td>0.004</td>\n",
              "      <td>0.8</td>\n",
              "      <td>0.002</td>\n",
              "      <td>0.055</td>\n",
              "      <td>44</td>\n",
              "      <td>20</td>\n",
              "      <td>서울 송파구 백제고분로 236</td>\n",
              "      <td>서울</td>\n",
              "      <td>2021</td>\n",
              "      <td>4</td>\n",
              "      <td>1</td>\n",
              "    </tr>\n",
              "    <tr>\n",
              "      <th>3</th>\n",
              "      <td>2021-04-01</td>\n",
              "      <td>0.003</td>\n",
              "      <td>0.8</td>\n",
              "      <td>0.002</td>\n",
              "      <td>0.055</td>\n",
              "      <td>40</td>\n",
              "      <td>20</td>\n",
              "      <td>서울 송파구 백제고분로 236</td>\n",
              "      <td>서울</td>\n",
              "      <td>2021</td>\n",
              "      <td>4</td>\n",
              "      <td>1</td>\n",
              "    </tr>\n",
              "    <tr>\n",
              "      <th>4</th>\n",
              "      <td>2021-04-01</td>\n",
              "      <td>0.004</td>\n",
              "      <td>0.8</td>\n",
              "      <td>0.002</td>\n",
              "      <td>0.053</td>\n",
              "      <td>38</td>\n",
              "      <td>17</td>\n",
              "      <td>서울 송파구 백제고분로 236</td>\n",
              "      <td>서울</td>\n",
              "      <td>2021</td>\n",
              "      <td>4</td>\n",
              "      <td>1</td>\n",
              "    </tr>\n",
              "  </tbody>\n",
              "</table>\n",
              "</div>"
            ],
            "text/plain": [
              "        date    SO2   CO     O3    NO2  PM10  PM25              addr city  \\\n",
              "0 2021-04-01  0.004  1.0  0.002  0.066    50    18  서울 송파구 백제고분로 236   서울   \n",
              "1 2021-04-01  0.004  0.8  0.002  0.058    48    20  서울 송파구 백제고분로 236   서울   \n",
              "2 2021-04-01  0.004  0.8  0.002  0.055    44    20  서울 송파구 백제고분로 236   서울   \n",
              "3 2021-04-01  0.003  0.8  0.002  0.055    40    20  서울 송파구 백제고분로 236   서울   \n",
              "4 2021-04-01  0.004  0.8  0.002  0.053    38    17  서울 송파구 백제고분로 236   서울   \n",
              "\n",
              "   year  month  day  \n",
              "0  2021      4    1  \n",
              "1  2021      4    1  \n",
              "2  2021      4    1  \n",
              "3  2021      4    1  \n",
              "4  2021      4    1  "
            ]
          },
          "execution_count": 178,
          "metadata": {},
          "output_type": "execute_result"
        }
      ],
      "source": [
        "## Series dt를 활용한 연도, 월, 일 분리하여 컬럼으로 생성\n",
        "df_mod00_dust['year'] = df_mod00_dust['date'].dt.year\n",
        "df_mod00_dust['month'] = df_mod00_dust['date'].dt.month\n",
        "df_mod00_dust['day'] = df_mod00_dust['date'].dt.day\n",
        "df_mod00_dust.head()"
      ]
    },
    {
      "cell_type": "markdown",
      "metadata": {},
      "source": [
        "## 데이터 병합(Merge)하기"
      ]
    },
    {
      "cell_type": "code",
      "execution_count": 179,
      "metadata": {
        "colab": {
          "base_uri": "https://localhost:8080/",
          "height": 237
        },
        "id": "Iq0h3GsADRFu",
        "outputId": "5cca9ccb-52d1-4b1c-ce97-da46ac7145e8"
      },
      "outputs": [
        {
          "data": {
            "text/html": [
              "<div>\n",
              "<style scoped>\n",
              "    .dataframe tbody tr th:only-of-type {\n",
              "        vertical-align: middle;\n",
              "    }\n",
              "\n",
              "    .dataframe tbody tr th {\n",
              "        vertical-align: top;\n",
              "    }\n",
              "\n",
              "    .dataframe thead th {\n",
              "        text-align: right;\n",
              "    }\n",
              "</style>\n",
              "<table border=\"1\" class=\"dataframe\">\n",
              "  <thead>\n",
              "    <tr style=\"text-align: right;\">\n",
              "      <th></th>\n",
              "      <th>국적코드</th>\n",
              "      <th>성별</th>\n",
              "      <th>입국객수</th>\n",
              "      <th>증가수</th>\n",
              "    </tr>\n",
              "  </thead>\n",
              "  <tbody>\n",
              "    <tr>\n",
              "      <th>0</th>\n",
              "      <td>A01</td>\n",
              "      <td>남성</td>\n",
              "      <td>125000</td>\n",
              "      <td>8000</td>\n",
              "    </tr>\n",
              "    <tr>\n",
              "      <th>1</th>\n",
              "      <td>A01</td>\n",
              "      <td>여성</td>\n",
              "      <td>130000</td>\n",
              "      <td>10000</td>\n",
              "    </tr>\n",
              "    <tr>\n",
              "      <th>2</th>\n",
              "      <td>A05</td>\n",
              "      <td>남성</td>\n",
              "      <td>300</td>\n",
              "      <td>10</td>\n",
              "    </tr>\n",
              "    <tr>\n",
              "      <th>3</th>\n",
              "      <td>A05</td>\n",
              "      <td>여성</td>\n",
              "      <td>200</td>\n",
              "      <td>50</td>\n",
              "    </tr>\n",
              "    <tr>\n",
              "      <th>4</th>\n",
              "      <td>A06</td>\n",
              "      <td>남성</td>\n",
              "      <td>158912</td>\n",
              "      <td>24486</td>\n",
              "    </tr>\n",
              "    <tr>\n",
              "      <th>5</th>\n",
              "      <td>A06</td>\n",
              "      <td>여성</td>\n",
              "      <td>325000</td>\n",
              "      <td>63466</td>\n",
              "    </tr>\n",
              "  </tbody>\n",
              "</table>\n",
              "</div>"
            ],
            "text/plain": [
              "  국적코드  성별    입국객수    증가수\n",
              "0  A01  남성  125000   8000\n",
              "1  A01  여성  130000  10000\n",
              "2  A05  남성     300     10\n",
              "3  A05  여성     200     50\n",
              "4  A06  남성  158912  24486\n",
              "5  A06  여성  325000  63466"
            ]
          },
          "execution_count": 179,
          "metadata": {},
          "output_type": "execute_result"
        }
      ],
      "source": [
        "filename='./Data/nation.xlsx'\n",
        "df_rawdata_nation = pd.read_excel(filename)\n",
        "df_rawdata_nation"
      ]
    },
    {
      "cell_type": "code",
      "execution_count": 180,
      "metadata": {
        "colab": {
          "base_uri": "https://localhost:8080/",
          "height": 300
        },
        "id": "ykQ7lZPCDx3Z",
        "outputId": "0d1147a5-4bad-4207-a1ad-aaade9944492"
      },
      "outputs": [
        {
          "data": {
            "text/html": [
              "<div>\n",
              "<style scoped>\n",
              "    .dataframe tbody tr th:only-of-type {\n",
              "        vertical-align: middle;\n",
              "    }\n",
              "\n",
              "    .dataframe tbody tr th {\n",
              "        vertical-align: top;\n",
              "    }\n",
              "\n",
              "    .dataframe thead th {\n",
              "        text-align: right;\n",
              "    }\n",
              "</style>\n",
              "<table border=\"1\" class=\"dataframe\">\n",
              "  <thead>\n",
              "    <tr style=\"text-align: right;\">\n",
              "      <th></th>\n",
              "      <th>국적코드</th>\n",
              "      <th>국적명</th>\n",
              "    </tr>\n",
              "  </thead>\n",
              "  <tbody>\n",
              "    <tr>\n",
              "      <th>0</th>\n",
              "      <td>A01</td>\n",
              "      <td>필리핀</td>\n",
              "    </tr>\n",
              "    <tr>\n",
              "      <th>1</th>\n",
              "      <td>A02</td>\n",
              "      <td>일본</td>\n",
              "    </tr>\n",
              "    <tr>\n",
              "      <th>2</th>\n",
              "      <td>A03</td>\n",
              "      <td>미국</td>\n",
              "    </tr>\n",
              "    <tr>\n",
              "      <th>3</th>\n",
              "      <td>A04</td>\n",
              "      <td>중국</td>\n",
              "    </tr>\n",
              "    <tr>\n",
              "      <th>4</th>\n",
              "      <td>A05</td>\n",
              "      <td>호주</td>\n",
              "    </tr>\n",
              "    <tr>\n",
              "      <th>5</th>\n",
              "      <td>A06</td>\n",
              "      <td>베트남</td>\n",
              "    </tr>\n",
              "    <tr>\n",
              "      <th>6</th>\n",
              "      <td>A07</td>\n",
              "      <td>스위스</td>\n",
              "    </tr>\n",
              "    <tr>\n",
              "      <th>7</th>\n",
              "      <td>A99</td>\n",
              "      <td>기타</td>\n",
              "    </tr>\n",
              "  </tbody>\n",
              "</table>\n",
              "</div>"
            ],
            "text/plain": [
              "  국적코드  국적명\n",
              "0  A01  필리핀\n",
              "1  A02   일본\n",
              "2  A03   미국\n",
              "3  A04   중국\n",
              "4  A05   호주\n",
              "5  A06  베트남\n",
              "6  A07  스위스\n",
              "7  A99   기타"
            ]
          },
          "execution_count": 180,
          "metadata": {},
          "output_type": "execute_result"
        }
      ],
      "source": [
        "filename='./Data/code.xlsx'\n",
        "df_rawdata_code = pd.read_excel(filename)\n",
        "df_rawdata_code"
      ]
    },
    {
      "cell_type": "code",
      "execution_count": 184,
      "metadata": {
        "colab": {
          "base_uri": "https://localhost:8080/",
          "height": 237
        },
        "id": "XQUHXyuYD9P0",
        "outputId": "1beda668-9977-4ba1-b592-b3b2249dfb0d"
      },
      "outputs": [
        {
          "data": {
            "text/plain": [
              "(  국적코드  성별    입국객수    증가수  국적명\n",
              " 0  A01  남성  125000   8000  필리핀\n",
              " 1  A01  여성  130000  10000  필리핀\n",
              " 2  A05  남성     300     10   호주\n",
              " 3  A05  여성     200     50   호주\n",
              " 4  A06  남성  158912  24486  베트남\n",
              " 5  A06  여성  325000  63466  베트남,\n",
              "   국적코드  성별    입국객수    증가수  국적명\n",
              " 0  A01  남성  125000   8000  필리핀\n",
              " 1  A01  여성  130000  10000  필리핀\n",
              " 2  A05  남성     300     10   호주\n",
              " 3  A05  여성     200     50   호주\n",
              " 4  A06  남성  158912  24486  베트남\n",
              " 5  A06  여성  325000  63466  베트남)"
            ]
          },
          "execution_count": 184,
          "metadata": {},
          "output_type": "execute_result"
        }
      ],
      "source": [
        "pd.merge(df_rawdata_nation, df_rawdata_code, on='국적코드'), df_rawdata_nation.merge(df_rawdata_code, how='left', on='국적코드')"
      ]
    },
    {
      "cell_type": "code",
      "execution_count": 186,
      "metadata": {
        "colab": {
          "base_uri": "https://localhost:8080/",
          "height": 394
        },
        "id": "TkaUHcobHSSm",
        "outputId": "202818c8-4f5e-483f-dba9-5b262164e5c3"
      },
      "outputs": [
        {
          "data": {
            "text/plain": [
              "(   국적코드   성별      입국객수      증가수  국적명\n",
              " 0   A01   남성  125000.0   8000.0  필리핀\n",
              " 1   A01   여성  130000.0  10000.0  필리핀\n",
              " 2   A02  NaN       NaN      NaN   일본\n",
              " 3   A03  NaN       NaN      NaN   미국\n",
              " 4   A04  NaN       NaN      NaN   중국\n",
              " 5   A05   남성     300.0     10.0   호주\n",
              " 6   A05   여성     200.0     50.0   호주\n",
              " 7   A06   남성  158912.0  24486.0  베트남\n",
              " 8   A06   여성  325000.0  63466.0  베트남\n",
              " 9   A07  NaN       NaN      NaN  스위스\n",
              " 10  A99  NaN       NaN      NaN   기타,\n",
              "    국적코드   성별      입국객수      증가수  국적명\n",
              " 0   A01   남성  125000.0   8000.0  필리핀\n",
              " 1   A01   여성  130000.0  10000.0  필리핀\n",
              " 2   A02  NaN       NaN      NaN   일본\n",
              " 3   A03  NaN       NaN      NaN   미국\n",
              " 4   A04  NaN       NaN      NaN   중국\n",
              " 5   A05   남성     300.0     10.0   호주\n",
              " 6   A05   여성     200.0     50.0   호주\n",
              " 7   A06   남성  158912.0  24486.0  베트남\n",
              " 8   A06   여성  325000.0  63466.0  베트남\n",
              " 9   A07  NaN       NaN      NaN  스위스\n",
              " 10  A99  NaN       NaN      NaN   기타)"
            ]
          },
          "execution_count": 186,
          "metadata": {},
          "output_type": "execute_result"
        }
      ],
      "source": [
        "# 오른쪽 컬럼기준\n",
        "pd.merge(df_rawdata_nation, df_rawdata_code, how='right',on='국적코드'), df_rawdata_nation.merge(df_rawdata_code, how='right', on='국적코드')"
      ]
    },
    {
      "cell_type": "markdown",
      "metadata": {
        "id": "x0t6fKw1JhQn"
      },
      "source": [
        "# 4.7 판다스 데이터 그룹핑하기"
      ]
    },
    {
      "cell_type": "code",
      "execution_count": 190,
      "metadata": {
        "colab": {
          "base_uri": "https://localhost:8080/",
          "height": 174
        },
        "id": "5lL2jk7UJiQB",
        "outputId": "0e25d0ab-3522-4492-cdc1-48a08732007b"
      },
      "outputs": [
        {
          "data": {
            "text/html": [
              "<div>\n",
              "<style scoped>\n",
              "    .dataframe tbody tr th:only-of-type {\n",
              "        vertical-align: middle;\n",
              "    }\n",
              "\n",
              "    .dataframe tbody tr th {\n",
              "        vertical-align: top;\n",
              "    }\n",
              "\n",
              "    .dataframe thead th {\n",
              "        text-align: right;\n",
              "    }\n",
              "</style>\n",
              "<table border=\"1\" class=\"dataframe\">\n",
              "  <thead>\n",
              "    <tr style=\"text-align: right;\">\n",
              "      <th></th>\n",
              "      <th>국적코드</th>\n",
              "      <th>성별</th>\n",
              "      <th>입국객수</th>\n",
              "      <th>증가수</th>\n",
              "    </tr>\n",
              "  </thead>\n",
              "  <tbody>\n",
              "    <tr>\n",
              "      <th>0</th>\n",
              "      <td>A01</td>\n",
              "      <td>남성</td>\n",
              "      <td>125000</td>\n",
              "      <td>8000</td>\n",
              "    </tr>\n",
              "    <tr>\n",
              "      <th>1</th>\n",
              "      <td>A01</td>\n",
              "      <td>여성</td>\n",
              "      <td>130000</td>\n",
              "      <td>10000</td>\n",
              "    </tr>\n",
              "    <tr>\n",
              "      <th>2</th>\n",
              "      <td>A05</td>\n",
              "      <td>남성</td>\n",
              "      <td>300</td>\n",
              "      <td>10</td>\n",
              "    </tr>\n",
              "    <tr>\n",
              "      <th>3</th>\n",
              "      <td>A05</td>\n",
              "      <td>여성</td>\n",
              "      <td>200</td>\n",
              "      <td>50</td>\n",
              "    </tr>\n",
              "    <tr>\n",
              "      <th>4</th>\n",
              "      <td>A06</td>\n",
              "      <td>남성</td>\n",
              "      <td>158912</td>\n",
              "      <td>24486</td>\n",
              "    </tr>\n",
              "    <tr>\n",
              "      <th>5</th>\n",
              "      <td>A06</td>\n",
              "      <td>여성</td>\n",
              "      <td>325000</td>\n",
              "      <td>63466</td>\n",
              "    </tr>\n",
              "  </tbody>\n",
              "</table>\n",
              "</div>"
            ],
            "text/plain": [
              "  국적코드  성별    입국객수    증가수\n",
              "0  A01  남성  125000   8000\n",
              "1  A01  여성  130000  10000\n",
              "2  A05  남성     300     10\n",
              "3  A05  여성     200     50\n",
              "4  A06  남성  158912  24486\n",
              "5  A06  여성  325000  63466"
            ]
          },
          "execution_count": 190,
          "metadata": {},
          "output_type": "execute_result"
        }
      ],
      "source": [
        "filename='./Data/nation.xlsx'\n",
        "df_rawdata_nation = pd.read_excel(filename)\n",
        "df_rawdata_nation"
      ]
    },
    {
      "cell_type": "code",
      "execution_count": 203,
      "metadata": {},
      "outputs": [
        {
          "data": {
            "text/plain": [
              "국적코드\n",
              "A01    255000\n",
              "A05       500\n",
              "A06    483912\n",
              "Name: 입국객수, dtype: int64"
            ]
          },
          "execution_count": 203,
          "metadata": {},
          "output_type": "execute_result"
        }
      ],
      "source": [
        "# 국적코드별 입국객수 출력하기\n",
        "df_rawdata_nation.groupby(by=['국적코드'])['입국객수'].sum()"
      ]
    },
    {
      "cell_type": "code",
      "execution_count": 204,
      "metadata": {},
      "outputs": [
        {
          "name": "stderr",
          "output_type": "stream",
          "text": [
            "C:\\Users\\wisdo\\AppData\\Local\\Temp\\ipykernel_10320\\2262213610.py:2: FutureWarning: The default value of numeric_only in DataFrameGroupBy.sum is deprecated. In a future version, numeric_only will default to False. Either specify numeric_only or select only columns which should be valid for the function.\n",
            "  df_rawdata_nation.groupby(by=['국적코드']).sum()\n"
          ]
        },
        {
          "data": {
            "text/html": [
              "<div>\n",
              "<style scoped>\n",
              "    .dataframe tbody tr th:only-of-type {\n",
              "        vertical-align: middle;\n",
              "    }\n",
              "\n",
              "    .dataframe tbody tr th {\n",
              "        vertical-align: top;\n",
              "    }\n",
              "\n",
              "    .dataframe thead th {\n",
              "        text-align: right;\n",
              "    }\n",
              "</style>\n",
              "<table border=\"1\" class=\"dataframe\">\n",
              "  <thead>\n",
              "    <tr style=\"text-align: right;\">\n",
              "      <th></th>\n",
              "      <th>입국객수</th>\n",
              "      <th>증가수</th>\n",
              "    </tr>\n",
              "    <tr>\n",
              "      <th>국적코드</th>\n",
              "      <th></th>\n",
              "      <th></th>\n",
              "    </tr>\n",
              "  </thead>\n",
              "  <tbody>\n",
              "    <tr>\n",
              "      <th>A01</th>\n",
              "      <td>255000</td>\n",
              "      <td>18000</td>\n",
              "    </tr>\n",
              "    <tr>\n",
              "      <th>A05</th>\n",
              "      <td>500</td>\n",
              "      <td>60</td>\n",
              "    </tr>\n",
              "    <tr>\n",
              "      <th>A06</th>\n",
              "      <td>483912</td>\n",
              "      <td>87952</td>\n",
              "    </tr>\n",
              "  </tbody>\n",
              "</table>\n",
              "</div>"
            ],
            "text/plain": [
              "        입국객수    증가수\n",
              "국적코드               \n",
              "A01   255000  18000\n",
              "A05      500     60\n",
              "A06   483912  87952"
            ]
          },
          "execution_count": 204,
          "metadata": {},
          "output_type": "execute_result"
        }
      ],
      "source": [
        "# 국적코드별 입국객수, 증가수 모두 출력하기\n",
        "df_rawdata_nation.groupby(by=['국적코드']).sum()"
      ]
    },
    {
      "cell_type": "code",
      "execution_count": 205,
      "metadata": {
        "colab": {
          "base_uri": "https://localhost:8080/",
          "height": 268
        },
        "id": "GfBDaHPoMPtv",
        "outputId": "144fd1ce-29e9-440e-a7d8-f9255c929426"
      },
      "outputs": [
        {
          "data": {
            "text/html": [
              "<div>\n",
              "<style scoped>\n",
              "    .dataframe tbody tr th:only-of-type {\n",
              "        vertical-align: middle;\n",
              "    }\n",
              "\n",
              "    .dataframe tbody tr th {\n",
              "        vertical-align: top;\n",
              "    }\n",
              "\n",
              "    .dataframe thead th {\n",
              "        text-align: right;\n",
              "    }\n",
              "</style>\n",
              "<table border=\"1\" class=\"dataframe\">\n",
              "  <thead>\n",
              "    <tr style=\"text-align: right;\">\n",
              "      <th></th>\n",
              "      <th></th>\n",
              "      <th>입국객수</th>\n",
              "      <th>증가수</th>\n",
              "    </tr>\n",
              "    <tr>\n",
              "      <th>국적코드</th>\n",
              "      <th>성별</th>\n",
              "      <th></th>\n",
              "      <th></th>\n",
              "    </tr>\n",
              "  </thead>\n",
              "  <tbody>\n",
              "    <tr>\n",
              "      <th rowspan=\"2\" valign=\"top\">A01</th>\n",
              "      <th>남성</th>\n",
              "      <td>125000</td>\n",
              "      <td>8000</td>\n",
              "    </tr>\n",
              "    <tr>\n",
              "      <th>여성</th>\n",
              "      <td>130000</td>\n",
              "      <td>10000</td>\n",
              "    </tr>\n",
              "    <tr>\n",
              "      <th rowspan=\"2\" valign=\"top\">A05</th>\n",
              "      <th>남성</th>\n",
              "      <td>300</td>\n",
              "      <td>10</td>\n",
              "    </tr>\n",
              "    <tr>\n",
              "      <th>여성</th>\n",
              "      <td>200</td>\n",
              "      <td>50</td>\n",
              "    </tr>\n",
              "    <tr>\n",
              "      <th rowspan=\"2\" valign=\"top\">A06</th>\n",
              "      <th>남성</th>\n",
              "      <td>158912</td>\n",
              "      <td>24486</td>\n",
              "    </tr>\n",
              "    <tr>\n",
              "      <th>여성</th>\n",
              "      <td>325000</td>\n",
              "      <td>63466</td>\n",
              "    </tr>\n",
              "  </tbody>\n",
              "</table>\n",
              "</div>"
            ],
            "text/plain": [
              "           입국객수    증가수\n",
              "국적코드 성별               \n",
              "A01  남성  125000   8000\n",
              "     여성  130000  10000\n",
              "A05  남성     300     10\n",
              "     여성     200     50\n",
              "A06  남성  158912  24486\n",
              "     여성  325000  63466"
            ]
          },
          "execution_count": 205,
          "metadata": {},
          "output_type": "execute_result"
        }
      ],
      "source": [
        "df_rawdata_nation.groupby(['국적코드','성별']).sum()"
      ]
    },
    {
      "cell_type": "markdown",
      "metadata": {
        "id": "e6_4_7PINLUl"
      },
      "source": [
        "# 연습문제"
      ]
    },
    {
      "cell_type": "code",
      "execution_count": 240,
      "metadata": {},
      "outputs": [
        {
          "name": "stdout",
          "output_type": "stream",
          "text": [
            "<class 'pandas.core.frame.DataFrame'>\n",
            "RangeIndex: 273 entries, 0 to 272\n",
            "Data columns (total 4 columns):\n",
            " #   Column  Non-Null Count  Dtype  \n",
            "---  ------  --------------  -----  \n",
            " 0   date    273 non-null    object \n",
            " 1   mean    273 non-null    float64\n",
            " 2   low     273 non-null    float64\n",
            " 3   high    273 non-null    float64\n",
            "dtypes: float64(3), object(1)\n",
            "memory usage: 8.7+ KB\n"
          ]
        },
        {
          "data": {
            "text/html": [
              "<div>\n",
              "<style scoped>\n",
              "    .dataframe tbody tr th:only-of-type {\n",
              "        vertical-align: middle;\n",
              "    }\n",
              "\n",
              "    .dataframe tbody tr th {\n",
              "        vertical-align: top;\n",
              "    }\n",
              "\n",
              "    .dataframe thead th {\n",
              "        text-align: right;\n",
              "    }\n",
              "</style>\n",
              "<table border=\"1\" class=\"dataframe\">\n",
              "  <thead>\n",
              "    <tr style=\"text-align: right;\">\n",
              "      <th></th>\n",
              "      <th>date</th>\n",
              "      <th>mean</th>\n",
              "      <th>low</th>\n",
              "      <th>high</th>\n",
              "    </tr>\n",
              "  </thead>\n",
              "  <tbody>\n",
              "    <tr>\n",
              "      <th>0</th>\n",
              "      <td>2021-01-01</td>\n",
              "      <td>-4.2</td>\n",
              "      <td>-9.8</td>\n",
              "      <td>1.6</td>\n",
              "    </tr>\n",
              "    <tr>\n",
              "      <th>1</th>\n",
              "      <td>2021-01-02</td>\n",
              "      <td>-5.0</td>\n",
              "      <td>-8.4</td>\n",
              "      <td>-1.4</td>\n",
              "    </tr>\n",
              "    <tr>\n",
              "      <th>2</th>\n",
              "      <td>2021-01-03</td>\n",
              "      <td>-5.6</td>\n",
              "      <td>-9.1</td>\n",
              "      <td>-2.0</td>\n",
              "    </tr>\n",
              "    <tr>\n",
              "      <th>3</th>\n",
              "      <td>2021-01-04</td>\n",
              "      <td>-3.5</td>\n",
              "      <td>-8.4</td>\n",
              "      <td>0.3</td>\n",
              "    </tr>\n",
              "    <tr>\n",
              "      <th>4</th>\n",
              "      <td>2021-01-05</td>\n",
              "      <td>-5.5</td>\n",
              "      <td>-9.9</td>\n",
              "      <td>-2.1</td>\n",
              "    </tr>\n",
              "    <tr>\n",
              "      <th>...</th>\n",
              "      <td>...</td>\n",
              "      <td>...</td>\n",
              "      <td>...</td>\n",
              "      <td>...</td>\n",
              "    </tr>\n",
              "    <tr>\n",
              "      <th>268</th>\n",
              "      <td>2021-09-26</td>\n",
              "      <td>22.6</td>\n",
              "      <td>18.4</td>\n",
              "      <td>27.3</td>\n",
              "    </tr>\n",
              "    <tr>\n",
              "      <th>269</th>\n",
              "      <td>2021-09-27</td>\n",
              "      <td>21.6</td>\n",
              "      <td>18.7</td>\n",
              "      <td>25.0</td>\n",
              "    </tr>\n",
              "    <tr>\n",
              "      <th>270</th>\n",
              "      <td>2021-09-28</td>\n",
              "      <td>21.5</td>\n",
              "      <td>19.6</td>\n",
              "      <td>24.4</td>\n",
              "    </tr>\n",
              "    <tr>\n",
              "      <th>271</th>\n",
              "      <td>2021-09-29</td>\n",
              "      <td>20.2</td>\n",
              "      <td>17.8</td>\n",
              "      <td>21.4</td>\n",
              "    </tr>\n",
              "    <tr>\n",
              "      <th>272</th>\n",
              "      <td>2021-09-30</td>\n",
              "      <td>20.3</td>\n",
              "      <td>16.0</td>\n",
              "      <td>25.9</td>\n",
              "    </tr>\n",
              "  </tbody>\n",
              "</table>\n",
              "<p>273 rows × 4 columns</p>\n",
              "</div>"
            ],
            "text/plain": [
              "           date  mean   low  high\n",
              "0    2021-01-01  -4.2  -9.8   1.6\n",
              "1    2021-01-02  -5.0  -8.4  -1.4\n",
              "2    2021-01-03  -5.6  -9.1  -2.0\n",
              "3    2021-01-04  -3.5  -8.4   0.3\n",
              "4    2021-01-05  -5.5  -9.9  -2.1\n",
              "..          ...   ...   ...   ...\n",
              "268  2021-09-26  22.6  18.4  27.3\n",
              "269  2021-09-27  21.6  18.7  25.0\n",
              "270  2021-09-28  21.5  19.6  24.4\n",
              "271  2021-09-29  20.2  17.8  21.4\n",
              "272  2021-09-30  20.3  16.0  25.9\n",
              "\n",
              "[273 rows x 4 columns]"
            ]
          },
          "execution_count": 240,
          "metadata": {},
          "output_type": "execute_result"
        }
      ],
      "source": [
        "# 문제1-1\n",
        "filename = './Data/weather2.csv'\n",
        "df_rawdata_weather2 = pd.read_csv(filename, encoding='cp949')\n",
        "df_rawdata_weather2.info()\n",
        "df_rawdata_weather2"
      ]
    },
    {
      "cell_type": "code",
      "execution_count": 239,
      "metadata": {},
      "outputs": [
        {
          "data": {
            "text/html": [
              "<div>\n",
              "<style scoped>\n",
              "    .dataframe tbody tr th:only-of-type {\n",
              "        vertical-align: middle;\n",
              "    }\n",
              "\n",
              "    .dataframe tbody tr th {\n",
              "        vertical-align: top;\n",
              "    }\n",
              "\n",
              "    .dataframe thead th {\n",
              "        text-align: right;\n",
              "    }\n",
              "</style>\n",
              "<table border=\"1\" class=\"dataframe\">\n",
              "  <thead>\n",
              "    <tr style=\"text-align: right;\">\n",
              "      <th></th>\n",
              "      <th>date</th>\n",
              "      <th>mean</th>\n",
              "      <th>low</th>\n",
              "      <th>high</th>\n",
              "    </tr>\n",
              "  </thead>\n",
              "  <tbody>\n",
              "    <tr>\n",
              "      <th>227</th>\n",
              "      <td>2021-08-16</td>\n",
              "      <td>27.3</td>\n",
              "      <td>22.5</td>\n",
              "      <td>32.8</td>\n",
              "    </tr>\n",
              "  </tbody>\n",
              "</table>\n",
              "</div>"
            ],
            "text/plain": [
              "           date  mean   low  high\n",
              "227  2021-08-16  27.3  22.5  32.8"
            ]
          },
          "execution_count": 239,
          "metadata": {},
          "output_type": "execute_result"
        }
      ],
      "source": [
        "# 문제1-2 : 태어난 날짜 2021년도 8월 16일\n",
        "df_rawdata_weather2[df_rawdata_weather2['date'] == '2021-08-16']"
      ]
    },
    {
      "cell_type": "code",
      "execution_count": 242,
      "metadata": {},
      "outputs": [
        {
          "data": {
            "text/html": [
              "<div>\n",
              "<style scoped>\n",
              "    .dataframe tbody tr th:only-of-type {\n",
              "        vertical-align: middle;\n",
              "    }\n",
              "\n",
              "    .dataframe tbody tr th {\n",
              "        vertical-align: top;\n",
              "    }\n",
              "\n",
              "    .dataframe thead th {\n",
              "        text-align: right;\n",
              "    }\n",
              "</style>\n",
              "<table border=\"1\" class=\"dataframe\">\n",
              "  <thead>\n",
              "    <tr style=\"text-align: right;\">\n",
              "      <th></th>\n",
              "      <th>date</th>\n",
              "      <th>mean</th>\n",
              "      <th>low</th>\n",
              "      <th>high</th>\n",
              "    </tr>\n",
              "  </thead>\n",
              "  <tbody>\n",
              "    <tr>\n",
              "      <th>111</th>\n",
              "      <td>2021-04-22</td>\n",
              "      <td>20.9</td>\n",
              "      <td>16.1</td>\n",
              "      <td>27.5</td>\n",
              "    </tr>\n",
              "    <tr>\n",
              "      <th>131</th>\n",
              "      <td>2021-05-12</td>\n",
              "      <td>22.0</td>\n",
              "      <td>16.9</td>\n",
              "      <td>27.7</td>\n",
              "    </tr>\n",
              "    <tr>\n",
              "      <th>132</th>\n",
              "      <td>2021-05-13</td>\n",
              "      <td>22.9</td>\n",
              "      <td>16.6</td>\n",
              "      <td>29.6</td>\n",
              "    </tr>\n",
              "    <tr>\n",
              "      <th>133</th>\n",
              "      <td>2021-05-14</td>\n",
              "      <td>24.1</td>\n",
              "      <td>18.0</td>\n",
              "      <td>30.8</td>\n",
              "    </tr>\n",
              "    <tr>\n",
              "      <th>134</th>\n",
              "      <td>2021-05-15</td>\n",
              "      <td>22.1</td>\n",
              "      <td>20.8</td>\n",
              "      <td>26.2</td>\n",
              "    </tr>\n",
              "    <tr>\n",
              "      <th>...</th>\n",
              "      <td>...</td>\n",
              "      <td>...</td>\n",
              "      <td>...</td>\n",
              "      <td>...</td>\n",
              "    </tr>\n",
              "    <tr>\n",
              "      <th>268</th>\n",
              "      <td>2021-09-26</td>\n",
              "      <td>22.6</td>\n",
              "      <td>18.4</td>\n",
              "      <td>27.3</td>\n",
              "    </tr>\n",
              "    <tr>\n",
              "      <th>269</th>\n",
              "      <td>2021-09-27</td>\n",
              "      <td>21.6</td>\n",
              "      <td>18.7</td>\n",
              "      <td>25.0</td>\n",
              "    </tr>\n",
              "    <tr>\n",
              "      <th>270</th>\n",
              "      <td>2021-09-28</td>\n",
              "      <td>21.5</td>\n",
              "      <td>19.6</td>\n",
              "      <td>24.4</td>\n",
              "    </tr>\n",
              "    <tr>\n",
              "      <th>271</th>\n",
              "      <td>2021-09-29</td>\n",
              "      <td>20.2</td>\n",
              "      <td>17.8</td>\n",
              "      <td>21.4</td>\n",
              "    </tr>\n",
              "    <tr>\n",
              "      <th>272</th>\n",
              "      <td>2021-09-30</td>\n",
              "      <td>20.3</td>\n",
              "      <td>16.0</td>\n",
              "      <td>25.9</td>\n",
              "    </tr>\n",
              "  </tbody>\n",
              "</table>\n",
              "<p>124 rows × 4 columns</p>\n",
              "</div>"
            ],
            "text/plain": [
              "           date  mean   low  high\n",
              "111  2021-04-22  20.9  16.1  27.5\n",
              "131  2021-05-12  22.0  16.9  27.7\n",
              "132  2021-05-13  22.9  16.6  29.6\n",
              "133  2021-05-14  24.1  18.0  30.8\n",
              "134  2021-05-15  22.1  20.8  26.2\n",
              "..          ...   ...   ...   ...\n",
              "268  2021-09-26  22.6  18.4  27.3\n",
              "269  2021-09-27  21.6  18.7  25.0\n",
              "270  2021-09-28  21.5  19.6  24.4\n",
              "271  2021-09-29  20.2  17.8  21.4\n",
              "272  2021-09-30  20.3  16.0  25.9\n",
              "\n",
              "[124 rows x 4 columns]"
            ]
          },
          "execution_count": 242,
          "metadata": {},
          "output_type": "execute_result"
        }
      ],
      "source": [
        "# 문제1-3 : 평균기온이 20도 이상인 날\n",
        "df_rawdata_weather2[df_rawdata_weather2['mean'] >= 20]"
      ]
    },
    {
      "cell_type": "code",
      "execution_count": 243,
      "metadata": {},
      "outputs": [
        {
          "data": {
            "text/html": [
              "<div>\n",
              "<style scoped>\n",
              "    .dataframe tbody tr th:only-of-type {\n",
              "        vertical-align: middle;\n",
              "    }\n",
              "\n",
              "    .dataframe tbody tr th {\n",
              "        vertical-align: top;\n",
              "    }\n",
              "\n",
              "    .dataframe thead th {\n",
              "        text-align: right;\n",
              "    }\n",
              "</style>\n",
              "<table border=\"1\" class=\"dataframe\">\n",
              "  <thead>\n",
              "    <tr style=\"text-align: right;\">\n",
              "      <th></th>\n",
              "      <th>date</th>\n",
              "      <th>mean</th>\n",
              "      <th>low</th>\n",
              "      <th>high</th>\n",
              "    </tr>\n",
              "  </thead>\n",
              "  <tbody>\n",
              "    <tr>\n",
              "      <th>204</th>\n",
              "      <td>2021-07-24</td>\n",
              "      <td>31.7</td>\n",
              "      <td>26.9</td>\n",
              "      <td>36.5</td>\n",
              "    </tr>\n",
              "  </tbody>\n",
              "</table>\n",
              "</div>"
            ],
            "text/plain": [
              "           date  mean   low  high\n",
              "204  2021-07-24  31.7  26.9  36.5"
            ]
          },
          "execution_count": 243,
          "metadata": {},
          "output_type": "execute_result"
        }
      ],
      "source": [
        "# 문제1-4 : 가장 무더웠던 날\n",
        "df_rawdata_weather2[df_rawdata_weather2['high'] == df_rawdata_weather2['high'].max()]"
      ]
    },
    {
      "cell_type": "code",
      "execution_count": 214,
      "metadata": {
        "colab": {
          "base_uri": "https://localhost:8080/",
          "height": 174
        },
        "id": "OzHvzrR5AdqR",
        "outputId": "d04fc240-a5cc-4eab-d791-534c7ee7cba8"
      },
      "outputs": [
        {
          "data": {
            "text/html": [
              "<div>\n",
              "<style scoped>\n",
              "    .dataframe tbody tr th:only-of-type {\n",
              "        vertical-align: middle;\n",
              "    }\n",
              "\n",
              "    .dataframe tbody tr th {\n",
              "        vertical-align: top;\n",
              "    }\n",
              "\n",
              "    .dataframe thead th {\n",
              "        text-align: right;\n",
              "    }\n",
              "</style>\n",
              "<table border=\"1\" class=\"dataframe\">\n",
              "  <thead>\n",
              "    <tr style=\"text-align: right;\">\n",
              "      <th></th>\n",
              "      <th>항목</th>\n",
              "      <th>사례수</th>\n",
              "      <th>증가</th>\n",
              "      <th>감소</th>\n",
              "      <th>변화없음</th>\n",
              "    </tr>\n",
              "  </thead>\n",
              "  <tbody>\n",
              "    <tr>\n",
              "      <th>0</th>\n",
              "      <td>스마트폰</td>\n",
              "      <td>999</td>\n",
              "      <td>78.9</td>\n",
              "      <td>1.7</td>\n",
              "      <td>19.4</td>\n",
              "    </tr>\n",
              "    <tr>\n",
              "      <th>1</th>\n",
              "      <td>텔레비전</td>\n",
              "      <td>965</td>\n",
              "      <td>68.5</td>\n",
              "      <td>3.9</td>\n",
              "      <td>27.6</td>\n",
              "    </tr>\n",
              "    <tr>\n",
              "      <th>2</th>\n",
              "      <td>개인용 PC</td>\n",
              "      <td>973</td>\n",
              "      <td>65.7</td>\n",
              "      <td>3.7</td>\n",
              "      <td>30.6</td>\n",
              "    </tr>\n",
              "    <tr>\n",
              "      <th>3</th>\n",
              "      <td>태블릿 PC</td>\n",
              "      <td>662</td>\n",
              "      <td>46.8</td>\n",
              "      <td>4.2</td>\n",
              "      <td>49.0</td>\n",
              "    </tr>\n",
              "    <tr>\n",
              "      <th>4</th>\n",
              "      <td>라디오</td>\n",
              "      <td>687</td>\n",
              "      <td>35.5</td>\n",
              "      <td>12.5</td>\n",
              "      <td>52.0</td>\n",
              "    </tr>\n",
              "    <tr>\n",
              "      <th>5</th>\n",
              "      <td>잡지·책</td>\n",
              "      <td>776</td>\n",
              "      <td>31.3</td>\n",
              "      <td>17.8</td>\n",
              "      <td>50.9</td>\n",
              "    </tr>\n",
              "    <tr>\n",
              "      <th>6</th>\n",
              "      <td>종이신문</td>\n",
              "      <td>552</td>\n",
              "      <td>17.6</td>\n",
              "      <td>23.2</td>\n",
              "      <td>59.2</td>\n",
              "    </tr>\n",
              "  </tbody>\n",
              "</table>\n",
              "</div>"
            ],
            "text/plain": [
              "       항목  사례수    증가    감소  변화없음\n",
              "0    스마트폰  999  78.9   1.7  19.4\n",
              "1    텔레비전  965  68.5   3.9  27.6\n",
              "2  개인용 PC  973  65.7   3.7  30.6\n",
              "3  태블릿 PC  662  46.8   4.2  49.0\n",
              "4     라디오  687  35.5  12.5  52.0\n",
              "5    잡지·책  776  31.3  17.8  50.9\n",
              "6    종이신문  552  17.6  23.2  59.2"
            ]
          },
          "execution_count": 214,
          "metadata": {},
          "output_type": "execute_result"
        }
      ],
      "source": [
        "# 문제2\n",
        "filename = './Data/covid.csv'\n",
        "df_rawdata_covid = pd.read_csv(filename, encoding='cp949')\n",
        "df_rawdata_covid"
      ]
    },
    {
      "cell_type": "code",
      "execution_count": 215,
      "metadata": {},
      "outputs": [
        {
          "data": {
            "text/html": [
              "<div>\n",
              "<style scoped>\n",
              "    .dataframe tbody tr th:only-of-type {\n",
              "        vertical-align: middle;\n",
              "    }\n",
              "\n",
              "    .dataframe tbody tr th {\n",
              "        vertical-align: top;\n",
              "    }\n",
              "\n",
              "    .dataframe thead th {\n",
              "        text-align: right;\n",
              "    }\n",
              "</style>\n",
              "<table border=\"1\" class=\"dataframe\">\n",
              "  <thead>\n",
              "    <tr style=\"text-align: right;\">\n",
              "      <th></th>\n",
              "      <th>사례수</th>\n",
              "      <th>증가</th>\n",
              "      <th>감소</th>\n",
              "      <th>변화없음</th>\n",
              "    </tr>\n",
              "    <tr>\n",
              "      <th>항목</th>\n",
              "      <th></th>\n",
              "      <th></th>\n",
              "      <th></th>\n",
              "      <th></th>\n",
              "    </tr>\n",
              "  </thead>\n",
              "  <tbody>\n",
              "    <tr>\n",
              "      <th>스마트폰</th>\n",
              "      <td>999</td>\n",
              "      <td>78.9</td>\n",
              "      <td>1.7</td>\n",
              "      <td>19.4</td>\n",
              "    </tr>\n",
              "    <tr>\n",
              "      <th>텔레비전</th>\n",
              "      <td>965</td>\n",
              "      <td>68.5</td>\n",
              "      <td>3.9</td>\n",
              "      <td>27.6</td>\n",
              "    </tr>\n",
              "    <tr>\n",
              "      <th>개인용 PC</th>\n",
              "      <td>973</td>\n",
              "      <td>65.7</td>\n",
              "      <td>3.7</td>\n",
              "      <td>30.6</td>\n",
              "    </tr>\n",
              "    <tr>\n",
              "      <th>태블릿 PC</th>\n",
              "      <td>662</td>\n",
              "      <td>46.8</td>\n",
              "      <td>4.2</td>\n",
              "      <td>49.0</td>\n",
              "    </tr>\n",
              "    <tr>\n",
              "      <th>라디오</th>\n",
              "      <td>687</td>\n",
              "      <td>35.5</td>\n",
              "      <td>12.5</td>\n",
              "      <td>52.0</td>\n",
              "    </tr>\n",
              "    <tr>\n",
              "      <th>잡지·책</th>\n",
              "      <td>776</td>\n",
              "      <td>31.3</td>\n",
              "      <td>17.8</td>\n",
              "      <td>50.9</td>\n",
              "    </tr>\n",
              "    <tr>\n",
              "      <th>종이신문</th>\n",
              "      <td>552</td>\n",
              "      <td>17.6</td>\n",
              "      <td>23.2</td>\n",
              "      <td>59.2</td>\n",
              "    </tr>\n",
              "  </tbody>\n",
              "</table>\n",
              "</div>"
            ],
            "text/plain": [
              "        사례수    증가    감소  변화없음\n",
              "항목                           \n",
              "스마트폰    999  78.9   1.7  19.4\n",
              "텔레비전    965  68.5   3.9  27.6\n",
              "개인용 PC  973  65.7   3.7  30.6\n",
              "태블릿 PC  662  46.8   4.2  49.0\n",
              "라디오     687  35.5  12.5  52.0\n",
              "잡지·책    776  31.3  17.8  50.9\n",
              "종이신문    552  17.6  23.2  59.2"
            ]
          },
          "execution_count": 215,
          "metadata": {},
          "output_type": "execute_result"
        }
      ],
      "source": [
        "# 문제2-1.항목열을 인덱스열로 지정한 후 ‘스마트폰’의 해당하는 모든 컬럼의 정보를 출력해보자.\n",
        "df_rawdata_covid = pd.read_csv(filename, index_col=0, encoding='cp949')\n",
        "df_rawdata_covid"
      ]
    },
    {
      "cell_type": "code",
      "execution_count": 216,
      "metadata": {},
      "outputs": [
        {
          "data": {
            "text/html": [
              "<div>\n",
              "<style scoped>\n",
              "    .dataframe tbody tr th:only-of-type {\n",
              "        vertical-align: middle;\n",
              "    }\n",
              "\n",
              "    .dataframe tbody tr th {\n",
              "        vertical-align: top;\n",
              "    }\n",
              "\n",
              "    .dataframe thead th {\n",
              "        text-align: right;\n",
              "    }\n",
              "</style>\n",
              "<table border=\"1\" class=\"dataframe\">\n",
              "  <thead>\n",
              "    <tr style=\"text-align: right;\">\n",
              "      <th></th>\n",
              "      <th>사례수</th>\n",
              "      <th>증가</th>\n",
              "      <th>감소</th>\n",
              "      <th>변화없음</th>\n",
              "    </tr>\n",
              "    <tr>\n",
              "      <th>항목</th>\n",
              "      <th></th>\n",
              "      <th></th>\n",
              "      <th></th>\n",
              "      <th></th>\n",
              "    </tr>\n",
              "  </thead>\n",
              "  <tbody>\n",
              "    <tr>\n",
              "      <th>스마트폰</th>\n",
              "      <td>999</td>\n",
              "      <td>78.9</td>\n",
              "      <td>1.7</td>\n",
              "      <td>19.4</td>\n",
              "    </tr>\n",
              "  </tbody>\n",
              "</table>\n",
              "</div>"
            ],
            "text/plain": [
              "      사례수    증가   감소  변화없음\n",
              "항목                        \n",
              "스마트폰  999  78.9  1.7  19.4"
            ]
          },
          "execution_count": 216,
          "metadata": {},
          "output_type": "execute_result"
        }
      ],
      "source": [
        "# 문제2-2.사례수가 가장 높은 항목의 모든 정보를 출력해보자.\n",
        "result = df_rawdata_covid[df_rawdata_covid['사례수'] == df_rawdata_covid['사례수'].max()]\n",
        "result"
      ]
    },
    {
      "cell_type": "code",
      "execution_count": 217,
      "metadata": {},
      "outputs": [
        {
          "data": {
            "text/html": [
              "<div>\n",
              "<style scoped>\n",
              "    .dataframe tbody tr th:only-of-type {\n",
              "        vertical-align: middle;\n",
              "    }\n",
              "\n",
              "    .dataframe tbody tr th {\n",
              "        vertical-align: top;\n",
              "    }\n",
              "\n",
              "    .dataframe thead th {\n",
              "        text-align: right;\n",
              "    }\n",
              "</style>\n",
              "<table border=\"1\" class=\"dataframe\">\n",
              "  <thead>\n",
              "    <tr style=\"text-align: right;\">\n",
              "      <th></th>\n",
              "      <th>사례수</th>\n",
              "      <th>증가</th>\n",
              "      <th>감소</th>\n",
              "      <th>변화없음</th>\n",
              "    </tr>\n",
              "    <tr>\n",
              "      <th>항목</th>\n",
              "      <th></th>\n",
              "      <th></th>\n",
              "      <th></th>\n",
              "      <th></th>\n",
              "    </tr>\n",
              "  </thead>\n",
              "  <tbody>\n",
              "    <tr>\n",
              "      <th>스마트폰</th>\n",
              "      <td>999</td>\n",
              "      <td>78.9</td>\n",
              "      <td>1.7</td>\n",
              "      <td>19.4</td>\n",
              "    </tr>\n",
              "    <tr>\n",
              "      <th>텔레비전</th>\n",
              "      <td>965</td>\n",
              "      <td>68.5</td>\n",
              "      <td>3.9</td>\n",
              "      <td>27.6</td>\n",
              "    </tr>\n",
              "    <tr>\n",
              "      <th>개인용 PC</th>\n",
              "      <td>973</td>\n",
              "      <td>65.7</td>\n",
              "      <td>3.7</td>\n",
              "      <td>30.6</td>\n",
              "    </tr>\n",
              "  </tbody>\n",
              "</table>\n",
              "</div>"
            ],
            "text/plain": [
              "        사례수    증가   감소  변화없음\n",
              "항목                          \n",
              "스마트폰    999  78.9  1.7  19.4\n",
              "텔레비전    965  68.5  3.9  27.6\n",
              "개인용 PC  973  65.7  3.7  30.6"
            ]
          },
          "execution_count": 217,
          "metadata": {},
          "output_type": "execute_result"
        }
      ],
      "source": [
        "# 문제2-3.증가율이 높은 3개의 항목을 출력해보자.\n",
        "newdata = df_rawdata_covid.sort_values('증가', ascending=False)\n",
        "newdata.head(3)"
      ]
    },
    {
      "cell_type": "code",
      "execution_count": 219,
      "metadata": {
        "colab": {
          "base_uri": "https://localhost:8080/",
          "height": 423
        },
        "id": "kpB59dBbBgou",
        "outputId": "e857a6f8-99e3-4e7b-f3b4-6355fb900b49"
      },
      "outputs": [
        {
          "data": {
            "text/html": [
              "<div>\n",
              "<style scoped>\n",
              "    .dataframe tbody tr th:only-of-type {\n",
              "        vertical-align: middle;\n",
              "    }\n",
              "\n",
              "    .dataframe tbody tr th {\n",
              "        vertical-align: top;\n",
              "    }\n",
              "\n",
              "    .dataframe thead th {\n",
              "        text-align: right;\n",
              "    }\n",
              "</style>\n",
              "<table border=\"1\" class=\"dataframe\">\n",
              "  <thead>\n",
              "    <tr style=\"text-align: right;\">\n",
              "      <th></th>\n",
              "      <th>date</th>\n",
              "      <th>subject</th>\n",
              "      <th>day1num</th>\n",
              "      <th>day1sum</th>\n",
              "      <th>day1rate</th>\n",
              "      <th>day2num</th>\n",
              "      <th>day2sum</th>\n",
              "      <th>day2rate</th>\n",
              "    </tr>\n",
              "  </thead>\n",
              "  <tbody>\n",
              "    <tr>\n",
              "      <th>0</th>\n",
              "      <td>2021.10.16</td>\n",
              "      <td>9505868</td>\n",
              "      <td>10673</td>\n",
              "      <td>7562283</td>\n",
              "      <td>79.6</td>\n",
              "      <td>66910</td>\n",
              "      <td>6191341</td>\n",
              "      <td>65.1</td>\n",
              "    </tr>\n",
              "    <tr>\n",
              "      <th>1</th>\n",
              "      <td>2021.10.15</td>\n",
              "      <td>9505868</td>\n",
              "      <td>14556</td>\n",
              "      <td>7551829</td>\n",
              "      <td>79.4</td>\n",
              "      <td>133580</td>\n",
              "      <td>6124432</td>\n",
              "      <td>64.4</td>\n",
              "    </tr>\n",
              "    <tr>\n",
              "      <th>2</th>\n",
              "      <td>2021.10.14</td>\n",
              "      <td>9505868</td>\n",
              "      <td>9609</td>\n",
              "      <td>7536654</td>\n",
              "      <td>79.3</td>\n",
              "      <td>94569</td>\n",
              "      <td>5989111</td>\n",
              "      <td>63.0</td>\n",
              "    </tr>\n",
              "    <tr>\n",
              "      <th>3</th>\n",
              "      <td>2021.10.13</td>\n",
              "      <td>9505868</td>\n",
              "      <td>9804</td>\n",
              "      <td>7526430</td>\n",
              "      <td>79.2</td>\n",
              "      <td>77503</td>\n",
              "      <td>5893191</td>\n",
              "      <td>62.0</td>\n",
              "    </tr>\n",
              "    <tr>\n",
              "      <th>4</th>\n",
              "      <td>2021.10.12</td>\n",
              "      <td>9505868</td>\n",
              "      <td>17274</td>\n",
              "      <td>7516070</td>\n",
              "      <td>79.1</td>\n",
              "      <td>110204</td>\n",
              "      <td>5814018</td>\n",
              "      <td>61.2</td>\n",
              "    </tr>\n",
              "    <tr>\n",
              "      <th>...</th>\n",
              "      <td>...</td>\n",
              "      <td>...</td>\n",
              "      <td>...</td>\n",
              "      <td>...</td>\n",
              "      <td>...</td>\n",
              "      <td>...</td>\n",
              "      <td>...</td>\n",
              "      <td>...</td>\n",
              "    </tr>\n",
              "    <tr>\n",
              "      <th>174</th>\n",
              "      <td>2021.04.25</td>\n",
              "      <td>1023346</td>\n",
              "      <td>23323</td>\n",
              "      <td>350631</td>\n",
              "      <td>34.2</td>\n",
              "      <td>3411</td>\n",
              "      <td>18513</td>\n",
              "      <td>1.8</td>\n",
              "    </tr>\n",
              "    <tr>\n",
              "      <th>175</th>\n",
              "      <td>2021.04.24</td>\n",
              "      <td>1023346</td>\n",
              "      <td>200</td>\n",
              "      <td>350427</td>\n",
              "      <td>34.2</td>\n",
              "      <td>0</td>\n",
              "      <td>18513</td>\n",
              "      <td>1.8</td>\n",
              "    </tr>\n",
              "    <tr>\n",
              "      <th>176</th>\n",
              "      <td>2021.04.23</td>\n",
              "      <td>1027740</td>\n",
              "      <td>10195</td>\n",
              "      <td>345764</td>\n",
              "      <td>33.6</td>\n",
              "      <td>119</td>\n",
              "      <td>18376</td>\n",
              "      <td>1.8</td>\n",
              "    </tr>\n",
              "    <tr>\n",
              "      <th>177</th>\n",
              "      <td>2021.04.22</td>\n",
              "      <td>1023538</td>\n",
              "      <td>27074</td>\n",
              "      <td>317386</td>\n",
              "      <td>31.0</td>\n",
              "      <td>2479</td>\n",
              "      <td>15901</td>\n",
              "      <td>1.6</td>\n",
              "    </tr>\n",
              "    <tr>\n",
              "      <th>178</th>\n",
              "      <td>2021.04.21</td>\n",
              "      <td>1019322</td>\n",
              "      <td>22501</td>\n",
              "      <td>291857</td>\n",
              "      <td>28.6</td>\n",
              "      <td>2358</td>\n",
              "      <td>13543</td>\n",
              "      <td>1.3</td>\n",
              "    </tr>\n",
              "  </tbody>\n",
              "</table>\n",
              "<p>179 rows × 8 columns</p>\n",
              "</div>"
            ],
            "text/plain": [
              "           date  subject  day1num  day1sum  day1rate  day2num  day2sum  \\\n",
              "0    2021.10.16  9505868    10673  7562283      79.6    66910  6191341   \n",
              "1    2021.10.15  9505868    14556  7551829      79.4   133580  6124432   \n",
              "2    2021.10.14  9505868     9609  7536654      79.3    94569  5989111   \n",
              "3    2021.10.13  9505868     9804  7526430      79.2    77503  5893191   \n",
              "4    2021.10.12  9505868    17274  7516070      79.1   110204  5814018   \n",
              "..          ...      ...      ...      ...       ...      ...      ...   \n",
              "174  2021.04.25  1023346    23323   350631      34.2     3411    18513   \n",
              "175  2021.04.24  1023346      200   350427      34.2        0    18513   \n",
              "176  2021.04.23  1027740    10195   345764      33.6      119    18376   \n",
              "177  2021.04.22  1023538    27074   317386      31.0     2479    15901   \n",
              "178  2021.04.21  1019322    22501   291857      28.6     2358    13543   \n",
              "\n",
              "     day2rate  \n",
              "0        65.1  \n",
              "1        64.4  \n",
              "2        63.0  \n",
              "3        62.0  \n",
              "4        61.2  \n",
              "..        ...  \n",
              "174       1.8  \n",
              "175       1.8  \n",
              "176       1.8  \n",
              "177       1.6  \n",
              "178       1.3  \n",
              "\n",
              "[179 rows x 8 columns]"
            ]
          },
          "execution_count": 219,
          "metadata": {},
          "output_type": "execute_result"
        }
      ],
      "source": [
        "# 문제3-1\n",
        "filename = './Data/vaccine.csv'\n",
        "df_rawdata_vaccine = pd.read_csv(filename, encoding='cp949')\n",
        "df_rawdata_vaccine"
      ]
    },
    {
      "cell_type": "code",
      "execution_count": 226,
      "metadata": {
        "colab": {
          "base_uri": "https://localhost:8080/",
          "height": 423
        },
        "id": "yw9LkQXHCK-d",
        "outputId": "2783c4bf-7c2c-4f4a-9bd5-860d4d5c5355"
      },
      "outputs": [
        {
          "name": "stdout",
          "output_type": "stream",
          "text": [
            "<class 'pandas.core.frame.DataFrame'>\n",
            "RangeIndex: 179 entries, 0 to 178\n",
            "Data columns (total 4 columns):\n",
            " #   Column   Non-Null Count  Dtype \n",
            "---  ------   --------------  ----- \n",
            " 0   date     179 non-null    object\n",
            " 1   subject  179 non-null    int64 \n",
            " 2   day1num  179 non-null    int64 \n",
            " 3   day2num  179 non-null    int64 \n",
            "dtypes: int64(3), object(1)\n",
            "memory usage: 5.7+ KB\n"
          ]
        },
        {
          "data": {
            "text/html": [
              "<div>\n",
              "<style scoped>\n",
              "    .dataframe tbody tr th:only-of-type {\n",
              "        vertical-align: middle;\n",
              "    }\n",
              "\n",
              "    .dataframe tbody tr th {\n",
              "        vertical-align: top;\n",
              "    }\n",
              "\n",
              "    .dataframe thead th {\n",
              "        text-align: right;\n",
              "    }\n",
              "</style>\n",
              "<table border=\"1\" class=\"dataframe\">\n",
              "  <thead>\n",
              "    <tr style=\"text-align: right;\">\n",
              "      <th></th>\n",
              "      <th>date</th>\n",
              "      <th>subject</th>\n",
              "      <th>day1num</th>\n",
              "      <th>day2num</th>\n",
              "    </tr>\n",
              "  </thead>\n",
              "  <tbody>\n",
              "    <tr>\n",
              "      <th>0</th>\n",
              "      <td>2021.10.16</td>\n",
              "      <td>9505868</td>\n",
              "      <td>10673</td>\n",
              "      <td>66910</td>\n",
              "    </tr>\n",
              "    <tr>\n",
              "      <th>1</th>\n",
              "      <td>2021.10.15</td>\n",
              "      <td>9505868</td>\n",
              "      <td>14556</td>\n",
              "      <td>133580</td>\n",
              "    </tr>\n",
              "    <tr>\n",
              "      <th>2</th>\n",
              "      <td>2021.10.14</td>\n",
              "      <td>9505868</td>\n",
              "      <td>9609</td>\n",
              "      <td>94569</td>\n",
              "    </tr>\n",
              "    <tr>\n",
              "      <th>3</th>\n",
              "      <td>2021.10.13</td>\n",
              "      <td>9505868</td>\n",
              "      <td>9804</td>\n",
              "      <td>77503</td>\n",
              "    </tr>\n",
              "    <tr>\n",
              "      <th>4</th>\n",
              "      <td>2021.10.12</td>\n",
              "      <td>9505868</td>\n",
              "      <td>17274</td>\n",
              "      <td>110204</td>\n",
              "    </tr>\n",
              "    <tr>\n",
              "      <th>...</th>\n",
              "      <td>...</td>\n",
              "      <td>...</td>\n",
              "      <td>...</td>\n",
              "      <td>...</td>\n",
              "    </tr>\n",
              "    <tr>\n",
              "      <th>174</th>\n",
              "      <td>2021.04.25</td>\n",
              "      <td>1023346</td>\n",
              "      <td>23323</td>\n",
              "      <td>3411</td>\n",
              "    </tr>\n",
              "    <tr>\n",
              "      <th>175</th>\n",
              "      <td>2021.04.24</td>\n",
              "      <td>1023346</td>\n",
              "      <td>200</td>\n",
              "      <td>0</td>\n",
              "    </tr>\n",
              "    <tr>\n",
              "      <th>176</th>\n",
              "      <td>2021.04.23</td>\n",
              "      <td>1027740</td>\n",
              "      <td>10195</td>\n",
              "      <td>119</td>\n",
              "    </tr>\n",
              "    <tr>\n",
              "      <th>177</th>\n",
              "      <td>2021.04.22</td>\n",
              "      <td>1023538</td>\n",
              "      <td>27074</td>\n",
              "      <td>2479</td>\n",
              "    </tr>\n",
              "    <tr>\n",
              "      <th>178</th>\n",
              "      <td>2021.04.21</td>\n",
              "      <td>1019322</td>\n",
              "      <td>22501</td>\n",
              "      <td>2358</td>\n",
              "    </tr>\n",
              "  </tbody>\n",
              "</table>\n",
              "<p>179 rows × 4 columns</p>\n",
              "</div>"
            ],
            "text/plain": [
              "           date  subject  day1num  day2num\n",
              "0    2021.10.16  9505868    10673    66910\n",
              "1    2021.10.15  9505868    14556   133580\n",
              "2    2021.10.14  9505868     9609    94569\n",
              "3    2021.10.13  9505868     9804    77503\n",
              "4    2021.10.12  9505868    17274   110204\n",
              "..          ...      ...      ...      ...\n",
              "174  2021.04.25  1023346    23323     3411\n",
              "175  2021.04.24  1023346      200        0\n",
              "176  2021.04.23  1027740    10195      119\n",
              "177  2021.04.22  1023538    27074     2479\n",
              "178  2021.04.21  1019322    22501     2358\n",
              "\n",
              "[179 rows x 4 columns]"
            ]
          },
          "execution_count": 226,
          "metadata": {},
          "output_type": "execute_result"
        }
      ],
      "source": [
        "# 문제3-2\n",
        "# 필요없는 열을 삭제한다.\n",
        "df_mod00_vaccine = df_rawdata_vaccine.drop(['day1sum', 'day1rate', 'day2sum', 'day2rate'], axis=1)\n",
        "df_mod00_vaccine.info()\n",
        "df_mod00_vaccine"
      ]
    },
    {
      "cell_type": "code",
      "execution_count": 224,
      "metadata": {
        "colab": {
          "base_uri": "https://localhost:8080/",
          "height": 300
        },
        "id": "f4M7qdjkCgzl",
        "outputId": "2c616128-0ee7-4e6f-a806-8083460368ea"
      },
      "outputs": [
        {
          "data": {
            "text/html": [
              "<div>\n",
              "<style scoped>\n",
              "    .dataframe tbody tr th:only-of-type {\n",
              "        vertical-align: middle;\n",
              "    }\n",
              "\n",
              "    .dataframe tbody tr th {\n",
              "        vertical-align: top;\n",
              "    }\n",
              "\n",
              "    .dataframe thead th {\n",
              "        text-align: right;\n",
              "    }\n",
              "</style>\n",
              "<table border=\"1\" class=\"dataframe\">\n",
              "  <thead>\n",
              "    <tr style=\"text-align: right;\">\n",
              "      <th></th>\n",
              "      <th>subject</th>\n",
              "      <th>day1num</th>\n",
              "      <th>day2num</th>\n",
              "    </tr>\n",
              "  </thead>\n",
              "  <tbody>\n",
              "    <tr>\n",
              "      <th>count</th>\n",
              "      <td>1.790000e+02</td>\n",
              "      <td>179.000000</td>\n",
              "      <td>179.000000</td>\n",
              "    </tr>\n",
              "    <tr>\n",
              "      <th>mean</th>\n",
              "      <td>5.086644e+06</td>\n",
              "      <td>40078.150838</td>\n",
              "      <td>34096.636872</td>\n",
              "    </tr>\n",
              "    <tr>\n",
              "      <th>std</th>\n",
              "      <td>3.324235e+06</td>\n",
              "      <td>44231.469656</td>\n",
              "      <td>40745.688278</td>\n",
              "    </tr>\n",
              "    <tr>\n",
              "      <th>min</th>\n",
              "      <td>1.019322e+06</td>\n",
              "      <td>0.000000</td>\n",
              "      <td>0.000000</td>\n",
              "    </tr>\n",
              "    <tr>\n",
              "      <th>25%</th>\n",
              "      <td>2.279241e+06</td>\n",
              "      <td>4385.000000</td>\n",
              "      <td>4794.500000</td>\n",
              "    </tr>\n",
              "    <tr>\n",
              "      <th>50%</th>\n",
              "      <td>3.943320e+06</td>\n",
              "      <td>23323.000000</td>\n",
              "      <td>16581.000000</td>\n",
              "    </tr>\n",
              "    <tr>\n",
              "      <th>75%</th>\n",
              "      <td>9.505868e+06</td>\n",
              "      <td>71634.500000</td>\n",
              "      <td>50950.000000</td>\n",
              "    </tr>\n",
              "    <tr>\n",
              "      <th>max</th>\n",
              "      <td>9.795426e+06</td>\n",
              "      <td>169036.000000</td>\n",
              "      <td>200186.000000</td>\n",
              "    </tr>\n",
              "  </tbody>\n",
              "</table>\n",
              "</div>"
            ],
            "text/plain": [
              "            subject        day1num        day2num\n",
              "count  1.790000e+02     179.000000     179.000000\n",
              "mean   5.086644e+06   40078.150838   34096.636872\n",
              "std    3.324235e+06   44231.469656   40745.688278\n",
              "min    1.019322e+06       0.000000       0.000000\n",
              "25%    2.279241e+06    4385.000000    4794.500000\n",
              "50%    3.943320e+06   23323.000000   16581.000000\n",
              "75%    9.505868e+06   71634.500000   50950.000000\n",
              "max    9.795426e+06  169036.000000  200186.000000"
            ]
          },
          "execution_count": 224,
          "metadata": {},
          "output_type": "execute_result"
        }
      ],
      "source": [
        "# 문제3-3 : 기초통계량\n",
        "df_mod00_vaccine.describe()"
      ]
    },
    {
      "cell_type": "code",
      "execution_count": 230,
      "metadata": {
        "colab": {
          "base_uri": "https://localhost:8080/",
          "height": 300
        },
        "id": "9mjvevZOCv0m",
        "outputId": "53b116ad-a6cc-40db-c594-39e833db7ca1"
      },
      "outputs": [
        {
          "data": {
            "text/html": [
              "<div>\n",
              "<style scoped>\n",
              "    .dataframe tbody tr th:only-of-type {\n",
              "        vertical-align: middle;\n",
              "    }\n",
              "\n",
              "    .dataframe tbody tr th {\n",
              "        vertical-align: top;\n",
              "    }\n",
              "\n",
              "    .dataframe thead th {\n",
              "        text-align: right;\n",
              "    }\n",
              "</style>\n",
              "<table border=\"1\" class=\"dataframe\">\n",
              "  <thead>\n",
              "    <tr style=\"text-align: right;\">\n",
              "      <th></th>\n",
              "      <th>date</th>\n",
              "      <th>subject</th>\n",
              "      <th>day1num</th>\n",
              "      <th>day2num</th>\n",
              "      <th>month</th>\n",
              "    </tr>\n",
              "  </thead>\n",
              "  <tbody>\n",
              "    <tr>\n",
              "      <th>0</th>\n",
              "      <td>2021.10.16</td>\n",
              "      <td>9505868</td>\n",
              "      <td>10673</td>\n",
              "      <td>66910</td>\n",
              "      <td>10</td>\n",
              "    </tr>\n",
              "    <tr>\n",
              "      <th>1</th>\n",
              "      <td>2021.10.15</td>\n",
              "      <td>9505868</td>\n",
              "      <td>14556</td>\n",
              "      <td>133580</td>\n",
              "      <td>10</td>\n",
              "    </tr>\n",
              "    <tr>\n",
              "      <th>2</th>\n",
              "      <td>2021.10.14</td>\n",
              "      <td>9505868</td>\n",
              "      <td>9609</td>\n",
              "      <td>94569</td>\n",
              "      <td>10</td>\n",
              "    </tr>\n",
              "    <tr>\n",
              "      <th>3</th>\n",
              "      <td>2021.10.13</td>\n",
              "      <td>9505868</td>\n",
              "      <td>9804</td>\n",
              "      <td>77503</td>\n",
              "      <td>10</td>\n",
              "    </tr>\n",
              "    <tr>\n",
              "      <th>4</th>\n",
              "      <td>2021.10.12</td>\n",
              "      <td>9505868</td>\n",
              "      <td>17274</td>\n",
              "      <td>110204</td>\n",
              "      <td>10</td>\n",
              "    </tr>\n",
              "    <tr>\n",
              "      <th>...</th>\n",
              "      <td>...</td>\n",
              "      <td>...</td>\n",
              "      <td>...</td>\n",
              "      <td>...</td>\n",
              "      <td>...</td>\n",
              "    </tr>\n",
              "    <tr>\n",
              "      <th>174</th>\n",
              "      <td>2021.04.25</td>\n",
              "      <td>1023346</td>\n",
              "      <td>23323</td>\n",
              "      <td>3411</td>\n",
              "      <td>4</td>\n",
              "    </tr>\n",
              "    <tr>\n",
              "      <th>175</th>\n",
              "      <td>2021.04.24</td>\n",
              "      <td>1023346</td>\n",
              "      <td>200</td>\n",
              "      <td>0</td>\n",
              "      <td>4</td>\n",
              "    </tr>\n",
              "    <tr>\n",
              "      <th>176</th>\n",
              "      <td>2021.04.23</td>\n",
              "      <td>1027740</td>\n",
              "      <td>10195</td>\n",
              "      <td>119</td>\n",
              "      <td>4</td>\n",
              "    </tr>\n",
              "    <tr>\n",
              "      <th>177</th>\n",
              "      <td>2021.04.22</td>\n",
              "      <td>1023538</td>\n",
              "      <td>27074</td>\n",
              "      <td>2479</td>\n",
              "      <td>4</td>\n",
              "    </tr>\n",
              "    <tr>\n",
              "      <th>178</th>\n",
              "      <td>2021.04.21</td>\n",
              "      <td>1019322</td>\n",
              "      <td>22501</td>\n",
              "      <td>2358</td>\n",
              "      <td>4</td>\n",
              "    </tr>\n",
              "  </tbody>\n",
              "</table>\n",
              "<p>179 rows × 5 columns</p>\n",
              "</div>"
            ],
            "text/plain": [
              "           date  subject  day1num  day2num  month\n",
              "0    2021.10.16  9505868    10673    66910     10\n",
              "1    2021.10.15  9505868    14556   133580     10\n",
              "2    2021.10.14  9505868     9609    94569     10\n",
              "3    2021.10.13  9505868     9804    77503     10\n",
              "4    2021.10.12  9505868    17274   110204     10\n",
              "..          ...      ...      ...      ...    ...\n",
              "174  2021.04.25  1023346    23323     3411      4\n",
              "175  2021.04.24  1023346      200        0      4\n",
              "176  2021.04.23  1027740    10195      119      4\n",
              "177  2021.04.22  1023538    27074     2479      4\n",
              "178  2021.04.21  1019322    22501     2358      4\n",
              "\n",
              "[179 rows x 5 columns]"
            ]
          },
          "execution_count": 230,
          "metadata": {},
          "output_type": "execute_result"
        }
      ],
      "source": [
        "# 문제3-4 : 월별 평균값을 도출하기 위한 새로운 열 생성\n",
        "df_mod00_vaccine['month'] = pd.DatetimeIndex(df_mod00_vaccine['date']).month\n",
        "# df_mod00_vaccine['month'] = pd.to_datetime(df_mod00_vaccine['date']).dt.month\n",
        "# df_mod00_vaccine['month'] = df_mod00_vaccine['date'].str.slice(start=5, stop=7)\n",
        "df_mod00_vaccine"
      ]
    },
    {
      "cell_type": "code",
      "execution_count": 231,
      "metadata": {},
      "outputs": [
        {
          "name": "stderr",
          "output_type": "stream",
          "text": [
            "C:\\Users\\wisdo\\AppData\\Local\\Temp\\ipykernel_10320\\2793819125.py:1: FutureWarning: The default value of numeric_only in DataFrameGroupBy.mean is deprecated. In a future version, numeric_only will default to False. Either specify numeric_only or select only columns which should be valid for the function.\n",
            "  df_month_means = df_mod00_vaccine.groupby('month').mean()\n"
          ]
        },
        {
          "data": {
            "text/html": [
              "<div>\n",
              "<style scoped>\n",
              "    .dataframe tbody tr th:only-of-type {\n",
              "        vertical-align: middle;\n",
              "    }\n",
              "\n",
              "    .dataframe tbody tr th {\n",
              "        vertical-align: top;\n",
              "    }\n",
              "\n",
              "    .dataframe thead th {\n",
              "        text-align: right;\n",
              "    }\n",
              "</style>\n",
              "<table border=\"1\" class=\"dataframe\">\n",
              "  <thead>\n",
              "    <tr style=\"text-align: right;\">\n",
              "      <th></th>\n",
              "      <th>subject</th>\n",
              "      <th>day1num</th>\n",
              "      <th>day2num</th>\n",
              "    </tr>\n",
              "    <tr>\n",
              "      <th>month</th>\n",
              "      <th></th>\n",
              "      <th></th>\n",
              "      <th></th>\n",
              "    </tr>\n",
              "  </thead>\n",
              "  <tbody>\n",
              "    <tr>\n",
              "      <th>4</th>\n",
              "      <td>1.054686e+06</td>\n",
              "      <td>22060.100000</td>\n",
              "      <td>2304.600000</td>\n",
              "    </tr>\n",
              "    <tr>\n",
              "      <th>5</th>\n",
              "      <td>1.289918e+06</td>\n",
              "      <td>18225.548387</td>\n",
              "      <td>9734.000000</td>\n",
              "    </tr>\n",
              "    <tr>\n",
              "      <th>6</th>\n",
              "      <td>3.167106e+06</td>\n",
              "      <td>55957.200000</td>\n",
              "      <td>20147.300000</td>\n",
              "    </tr>\n",
              "    <tr>\n",
              "      <th>7</th>\n",
              "      <td>3.819340e+06</td>\n",
              "      <td>25807.870968</td>\n",
              "      <td>9934.903226</td>\n",
              "    </tr>\n",
              "    <tr>\n",
              "      <th>8</th>\n",
              "      <td>6.702049e+06</td>\n",
              "      <td>57667.258065</td>\n",
              "      <td>55575.000000</td>\n",
              "    </tr>\n",
              "    <tr>\n",
              "      <th>9</th>\n",
              "      <td>9.556825e+06</td>\n",
              "      <td>65715.000000</td>\n",
              "      <td>62162.000000</td>\n",
              "    </tr>\n",
              "    <tr>\n",
              "      <th>10</th>\n",
              "      <td>9.505868e+06</td>\n",
              "      <td>9406.312500</td>\n",
              "      <td>79900.750000</td>\n",
              "    </tr>\n",
              "  </tbody>\n",
              "</table>\n",
              "</div>"
            ],
            "text/plain": [
              "            subject       day1num       day2num\n",
              "month                                          \n",
              "4      1.054686e+06  22060.100000   2304.600000\n",
              "5      1.289918e+06  18225.548387   9734.000000\n",
              "6      3.167106e+06  55957.200000  20147.300000\n",
              "7      3.819340e+06  25807.870968   9934.903226\n",
              "8      6.702049e+06  57667.258065  55575.000000\n",
              "9      9.556825e+06  65715.000000  62162.000000\n",
              "10     9.505868e+06   9406.312500  79900.750000"
            ]
          },
          "execution_count": 231,
          "metadata": {},
          "output_type": "execute_result"
        }
      ],
      "source": [
        "# 문제3-4 : Groupby를 활용한 월별 평균값을 도출\n",
        "df_month_means = df_mod00_vaccine.groupby('month').mean()\n",
        "df_month_means"
      ]
    },
    {
      "cell_type": "code",
      "execution_count": 235,
      "metadata": {
        "colab": {
          "base_uri": "https://localhost:8080/",
          "height": 300
        },
        "id": "gyo7jHu6NKtV",
        "outputId": "32e62097-ffea-493d-97f2-e64dcbbb8185"
      },
      "outputs": [
        {
          "data": {
            "text/plain": [
              "(   수강코드    과목명 담당교수\n",
              " 0   111    파이썬  양숙희\n",
              " 1   222  데이터분석  오경선\n",
              " 2   333   인공지능  장은실\n",
              " 3   444   선형대수  황복동\n",
              " 4   555   이산수학  정명식\n",
              " 5   666  컴퓨터개론  최봉수\n",
              " 6   777   자료구조  김진영\n",
              " 7   888   정보통신  김진호,\n",
              "   담당교수     학과\n",
              " 0  양숙희  컴퓨터공학\n",
              " 1  장은실   정보통신\n",
              " 2  오경선   인공지능\n",
              " 3  황복동  컴퓨터공학\n",
              " 4  정명식   인공지능)"
            ]
          },
          "execution_count": 235,
          "metadata": {},
          "output_type": "execute_result"
        }
      ],
      "source": [
        "# 문제4\n",
        "filename1 = './Data/signup.csv'\n",
        "filename2 = './Data/professor.csv'\n",
        "df_rawdata_signup = pd.read_csv(filename1, encoding='cp949')\n",
        "df_rawdata_professor = pd.read_csv(filename2, encoding='cp949')\n",
        "df_rawdata_signup, df_rawdata_professor"
      ]
    },
    {
      "cell_type": "code",
      "execution_count": 236,
      "metadata": {
        "colab": {
          "base_uri": "https://localhost:8080/",
          "height": 206
        },
        "id": "dX6cqYXjOCWT",
        "outputId": "14d8a445-4a73-440d-ff36-584d20f64a3b"
      },
      "outputs": [
        {
          "data": {
            "text/html": [
              "<div>\n",
              "<style scoped>\n",
              "    .dataframe tbody tr th:only-of-type {\n",
              "        vertical-align: middle;\n",
              "    }\n",
              "\n",
              "    .dataframe tbody tr th {\n",
              "        vertical-align: top;\n",
              "    }\n",
              "\n",
              "    .dataframe thead th {\n",
              "        text-align: right;\n",
              "    }\n",
              "</style>\n",
              "<table border=\"1\" class=\"dataframe\">\n",
              "  <thead>\n",
              "    <tr style=\"text-align: right;\">\n",
              "      <th></th>\n",
              "      <th>수강코드</th>\n",
              "      <th>과목명</th>\n",
              "      <th>담당교수</th>\n",
              "      <th>학과</th>\n",
              "    </tr>\n",
              "  </thead>\n",
              "  <tbody>\n",
              "    <tr>\n",
              "      <th>0</th>\n",
              "      <td>111</td>\n",
              "      <td>파이썬</td>\n",
              "      <td>양숙희</td>\n",
              "      <td>컴퓨터공학</td>\n",
              "    </tr>\n",
              "    <tr>\n",
              "      <th>1</th>\n",
              "      <td>222</td>\n",
              "      <td>데이터분석</td>\n",
              "      <td>오경선</td>\n",
              "      <td>인공지능</td>\n",
              "    </tr>\n",
              "    <tr>\n",
              "      <th>2</th>\n",
              "      <td>333</td>\n",
              "      <td>인공지능</td>\n",
              "      <td>장은실</td>\n",
              "      <td>정보통신</td>\n",
              "    </tr>\n",
              "    <tr>\n",
              "      <th>3</th>\n",
              "      <td>444</td>\n",
              "      <td>선형대수</td>\n",
              "      <td>황복동</td>\n",
              "      <td>컴퓨터공학</td>\n",
              "    </tr>\n",
              "    <tr>\n",
              "      <th>4</th>\n",
              "      <td>555</td>\n",
              "      <td>이산수학</td>\n",
              "      <td>정명식</td>\n",
              "      <td>인공지능</td>\n",
              "    </tr>\n",
              "  </tbody>\n",
              "</table>\n",
              "</div>"
            ],
            "text/plain": [
              "   수강코드    과목명 담당교수     학과\n",
              "0   111    파이썬  양숙희  컴퓨터공학\n",
              "1   222  데이터분석  오경선   인공지능\n",
              "2   333   인공지능  장은실   정보통신\n",
              "3   444   선형대수  황복동  컴퓨터공학\n",
              "4   555   이산수학  정명식   인공지능"
            ]
          },
          "execution_count": 236,
          "metadata": {},
          "output_type": "execute_result"
        }
      ],
      "source": [
        "# 문제4-1\n",
        "df = pd.merge(df_rawdata_signup, df_rawdata_professor, on='담당교수')\n",
        "# df = df_rawdata_signup.merge(df_rawdata_professor, how='left', on='담당교수')\n",
        "df"
      ]
    },
    {
      "cell_type": "code",
      "execution_count": 237,
      "metadata": {
        "colab": {
          "base_uri": "https://localhost:8080/",
          "height": 174
        },
        "id": "W6dPljUtOdj7",
        "outputId": "3a2f1cdb-137e-4443-fdc4-21902e04ba0d"
      },
      "outputs": [
        {
          "data": {
            "text/html": [
              "<div>\n",
              "<style scoped>\n",
              "    .dataframe tbody tr th:only-of-type {\n",
              "        vertical-align: middle;\n",
              "    }\n",
              "\n",
              "    .dataframe tbody tr th {\n",
              "        vertical-align: top;\n",
              "    }\n",
              "\n",
              "    .dataframe thead th {\n",
              "        text-align: right;\n",
              "    }\n",
              "</style>\n",
              "<table border=\"1\" class=\"dataframe\">\n",
              "  <thead>\n",
              "    <tr style=\"text-align: right;\">\n",
              "      <th></th>\n",
              "      <th>담당교수</th>\n",
              "    </tr>\n",
              "    <tr>\n",
              "      <th>학과</th>\n",
              "      <th></th>\n",
              "    </tr>\n",
              "  </thead>\n",
              "  <tbody>\n",
              "    <tr>\n",
              "      <th>인공지능</th>\n",
              "      <td>2</td>\n",
              "    </tr>\n",
              "    <tr>\n",
              "      <th>정보통신</th>\n",
              "      <td>1</td>\n",
              "    </tr>\n",
              "    <tr>\n",
              "      <th>컴퓨터공학</th>\n",
              "      <td>2</td>\n",
              "    </tr>\n",
              "  </tbody>\n",
              "</table>\n",
              "</div>"
            ],
            "text/plain": [
              "       담당교수\n",
              "학과         \n",
              "인공지능      2\n",
              "정보통신      1\n",
              "컴퓨터공학     2"
            ]
          },
          "execution_count": 237,
          "metadata": {},
          "output_type": "execute_result"
        }
      ],
      "source": [
        "# 문제4-1\n",
        "df_rawdata_professor.groupby(['학과']).count()"
      ]
    }
  ],
  "metadata": {
    "colab": {
      "collapsed_sections": [],
      "name": "[교재집필] 판다스 기초.ipynb",
      "provenance": []
    },
    "kernelspec": {
      "display_name": "Python 3",
      "name": "python3"
    },
    "language_info": {
      "codemirror_mode": {
        "name": "ipython",
        "version": 3
      },
      "file_extension": ".py",
      "mimetype": "text/x-python",
      "name": "python",
      "nbconvert_exporter": "python",
      "pygments_lexer": "ipython3",
      "version": "3.9.13"
    }
  },
  "nbformat": 4,
  "nbformat_minor": 0
}
