{
  "cells": [
    {
      "cell_type": "markdown",
      "metadata": {
        "id": "vXSx4def-F9c"
      },
      "source": [
        "# 시계열 데이터 전처리 방법\n",
        "본문예제11-01"
      ]
    },
    {
      "cell_type": "code",
      "execution_count": 2,
      "metadata": {},
      "outputs": [],
      "source": [
        "# 라이브러리 로드\n",
        "import pandas as pd\n",
        "import numpy as np\n",
        "import pendulum"
      ]
    },
    {
      "cell_type": "code",
      "execution_count": 39,
      "metadata": {
        "colab": {
          "base_uri": "https://localhost:8080/"
        },
        "id": "kb4EgnBl2AiL",
        "outputId": "aa3fe304-962f-4ba9-82ce-04f6df5a2ce4"
      },
      "outputs": [
        {
          "name": "stdout",
          "output_type": "stream",
          "text": [
            "<class 'pandas.core.frame.DataFrame'>\n",
            "RangeIndex: 3 entries, 0 to 2\n",
            "Data columns (total 2 columns):\n",
            " #   Column  Non-Null Count  Dtype \n",
            "---  ------  --------------  ----- \n",
            " 0   date    3 non-null      object\n",
            " 1   name    3 non-null      object\n",
            "dtypes: object(2)\n",
            "memory usage: 176.0+ bytes\n"
          ]
        },
        {
          "data": {
            "text/html": [
              "<div>\n",
              "<style scoped>\n",
              "    .dataframe tbody tr th:only-of-type {\n",
              "        vertical-align: middle;\n",
              "    }\n",
              "\n",
              "    .dataframe tbody tr th {\n",
              "        vertical-align: top;\n",
              "    }\n",
              "\n",
              "    .dataframe thead th {\n",
              "        text-align: right;\n",
              "    }\n",
              "</style>\n",
              "<table border=\"1\" class=\"dataframe\">\n",
              "  <thead>\n",
              "    <tr style=\"text-align: right;\">\n",
              "      <th></th>\n",
              "      <th>date</th>\n",
              "      <th>name</th>\n",
              "    </tr>\n",
              "  </thead>\n",
              "  <tbody>\n",
              "    <tr>\n",
              "      <th>0</th>\n",
              "      <td>2019-01-03</td>\n",
              "      <td>J</td>\n",
              "    </tr>\n",
              "    <tr>\n",
              "      <th>1</th>\n",
              "      <td>2021-11-22</td>\n",
              "      <td>Y</td>\n",
              "    </tr>\n",
              "    <tr>\n",
              "      <th>2</th>\n",
              "      <td>2023-01-05</td>\n",
              "      <td>O</td>\n",
              "    </tr>\n",
              "  </tbody>\n",
              "</table>\n",
              "</div>"
            ],
            "text/plain": [
              "         date name\n",
              "0  2019-01-03    J\n",
              "1  2021-11-22    Y\n",
              "2  2023-01-05    O"
            ]
          },
          "execution_count": 39,
          "metadata": {},
          "output_type": "execute_result"
        }
      ],
      "source": [
        "# DataFrame 생성\n",
        "df_example01 = pd.DataFrame({'date':['2019-01-03', '2021-11-22', '2023-01-05'], 'name':['J', 'Y', 'O']})\n",
        "df_example01.info()\n",
        "df_example01"
      ]
    },
    {
      "cell_type": "markdown",
      "metadata": {
        "id": "HhtNo5lm-Dvw"
      },
      "source": [
        "본문예제11-02"
      ]
    },
    {
      "cell_type": "code",
      "execution_count": 50,
      "metadata": {
        "colab": {
          "base_uri": "https://localhost:8080/"
        },
        "id": "sPt1pHTX2m6M",
        "outputId": "28535f8d-8eac-4b2a-e249-46c210ff1328"
      },
      "outputs": [
        {
          "name": "stdout",
          "output_type": "stream",
          "text": [
            "<class 'pandas.core.frame.DataFrame'>\n",
            "RangeIndex: 3 entries, 0 to 2\n",
            "Data columns (total 4 columns):\n",
            " #   Column         Non-Null Count  Dtype                          \n",
            "---  ------         --------------  -----                          \n",
            " 0   date           3 non-null      object                         \n",
            " 1   name           3 non-null      object                         \n",
            " 2   date_pandas    3 non-null      datetime64[ns]                 \n",
            " 3   date_pendulum  3 non-null      datetime64[ns, Timezone('UTC')]\n",
            "dtypes: datetime64[ns, Timezone('UTC')](1), datetime64[ns](1), object(2)\n",
            "memory usage: 224.0+ bytes\n"
          ]
        },
        {
          "data": {
            "text/plain": [
              "(None,\n",
              "          date name date_pandas             date_pendulum\n",
              " 0  2019-01-03    J  2019-01-03 2019-01-03 00:00:00+00:00\n",
              " 1  2021-11-22    Y  2021-11-22 2021-11-22 00:00:00+00:00\n",
              " 2  2023-01-05    O  2023-01-05 2023-01-05 00:00:00+00:00)"
            ]
          },
          "execution_count": 50,
          "metadata": {},
          "output_type": "execute_result"
        }
      ],
      "source": [
        "# Pandas Datetime으로 변경\n",
        "df_example01['date_pandas'] = pd.to_datetime(df_example01.date, format='%Y-%m-%d')\n",
        "df_example01['date_pendulum'] = df_example01.apply(lambda x: pendulum.parse(x['date']), axis=1)\n",
        "df_example01.info(), df_example01"
      ]
    },
    {
      "cell_type": "markdown",
      "metadata": {
        "id": "oTa2mabQ-K2i"
      },
      "source": [
        "본문예제11-03"
      ]
    },
    {
      "cell_type": "code",
      "execution_count": 5,
      "metadata": {
        "colab": {
          "base_uri": "https://localhost:8080/"
        },
        "id": "p2AeKZTg2xMC",
        "outputId": "2a88a661-a6ff-4539-e503-aeaa014d2eff"
      },
      "outputs": [
        {
          "name": "stdout",
          "output_type": "stream",
          "text": [
            "<class 'pandas.core.frame.DataFrame'>\n",
            "DatetimeIndex: 3 entries, 2019-01-03 to 2023-01-05\n",
            "Data columns (total 1 columns):\n",
            " #   Column  Non-Null Count  Dtype \n",
            "---  ------  --------------  ----- \n",
            " 0   name    3 non-null      object\n",
            "dtypes: object(1)\n",
            "memory usage: 48.0+ bytes\n"
          ]
        }
      ],
      "source": [
        "# Date를 인덱스로 설정\n",
        "df_example01_01 = df_example01.set_index(keys=['date'])\n",
        "df_example01_01.info()"
      ]
    },
    {
      "cell_type": "markdown",
      "metadata": {
        "id": "rano4Z-R9scU"
      },
      "source": [
        "본문예제11-04"
      ]
    },
    {
      "cell_type": "code",
      "execution_count": 6,
      "metadata": {
        "colab": {
          "base_uri": "https://localhost:8080/"
        },
        "id": "312r_zie39WC",
        "outputId": "25c86116-56c2-454d-832e-1bcc8fe987a1"
      },
      "outputs": [
        {
          "data": {
            "text/plain": [
              "(x1    1\n",
              " dtype: int64,\n",
              "              x1\n",
              " date           \n",
              " 2019-01-03  0.1\n",
              " 2021-11-22  2.0\n",
              " 2021-12-01  NaN\n",
              " 2023-01-05  1.2)"
            ]
          },
          "execution_count": 6,
          "metadata": {},
          "output_type": "execute_result"
        }
      ],
      "source": [
        "# 결측값이 있는 DataFrame 생성과 결측값 확인\n",
        "df_example02 = pd.DataFrame({'date':['2019-01-03', '2021-11-22','2021-12-01','2023-01-05'],'x1':[0.1,2.0,np.nan,1.2]})\n",
        "df_example02['date'] = pd.to_datetime(df_example02.date, format='%Y-%m-%d')\n",
        "df_example02_01 = df_example02.set_index(keys=['date'])\n",
        "df_example02_01.isnull().sum(), df_example02_01"
      ]
    },
    {
      "cell_type": "markdown",
      "metadata": {
        "id": "fPhR4YZg9nTZ"
      },
      "source": [
        "본문예제11-05"
      ]
    },
    {
      "cell_type": "code",
      "execution_count": 7,
      "metadata": {
        "colab": {
          "base_uri": "https://localhost:8080/"
        },
        "id": "BXn_Gvwx5uN_",
        "outputId": "eec0f3b9-2a06-4deb-8c1a-911ce1d28c36"
      },
      "outputs": [
        {
          "name": "stdout",
          "output_type": "stream",
          "text": [
            "====================\n"
          ]
        },
        {
          "data": {
            "text/plain": [
              "(        date   x1\n",
              " 0 2019-01-03  0.1\n",
              " 1 2021-11-22  2.0\n",
              " 2 2021-12-01  NaN\n",
              " 3 2023-01-05  1.2,\n",
              "              x1\n",
              " date           \n",
              " 2019-01-03  0.1\n",
              " 2021-11-22  2.0\n",
              " 2021-12-01  NaN\n",
              " 2023-01-05  1.2,\n",
              "              x1\n",
              " date           \n",
              " 2019-01-03  0.1\n",
              " 2021-11-22  2.0\n",
              " 2021-12-01  2.0\n",
              " 2023-01-05  1.2)"
            ]
          },
          "execution_count": 7,
          "metadata": {},
          "output_type": "execute_result"
        }
      ],
      "source": [
        "# 가장 최근 값으로 결측치 채우\n",
        "df_example02_ffill = df_example02_01.fillna(method='ffill')\n",
        "print('=='*10)\n",
        "df_example02, df_example02_01, df_example02_ffill"
      ]
    },
    {
      "cell_type": "markdown",
      "metadata": {
        "id": "NEMLcVnx9g0z"
      },
      "source": [
        "본문예제11-06"
      ]
    },
    {
      "cell_type": "code",
      "execution_count": 8,
      "metadata": {
        "colab": {
          "base_uri": "https://localhost:8080/"
        },
        "id": "bHQh8iIH6Iob",
        "outputId": "570a6e2d-147b-45a2-f536-de32e9e88274"
      },
      "outputs": [
        {
          "data": {
            "text/plain": [
              "(        date   x1\n",
              " 0 2019-01-03  0.1\n",
              " 1 2021-11-22  2.0\n",
              " 2 2021-12-01  NaN\n",
              " 3 2023-01-05  1.2,\n",
              "              x1\n",
              " date           \n",
              " 2019-01-03  0.1\n",
              " 2021-11-22  2.0\n",
              " 2021-12-01  NaN\n",
              " 2023-01-05  1.2,\n",
              "              x1\n",
              " date           \n",
              " 2019-01-03  0.1\n",
              " 2021-11-22  2.0\n",
              " 2021-12-01  2.0\n",
              " 2023-01-05  1.2,\n",
              "              x1\n",
              " date           \n",
              " 2019-01-03  0.1\n",
              " 2021-11-22  2.0\n",
              " 2023-01-05  1.2)"
            ]
          },
          "execution_count": 8,
          "metadata": {},
          "output_type": "execute_result"
        }
      ],
      "source": [
        "# 결측치 제거\n",
        "df_example02_drop = df_example02_01.dropna()\n",
        "df_example02, df_example02_01, df_example02_ffill, df_example02_drop"
      ]
    },
    {
      "cell_type": "markdown",
      "metadata": {
        "id": "Q4oa9b1c9aRj"
      },
      "source": [
        "본문예제 11-07"
      ]
    },
    {
      "cell_type": "code",
      "execution_count": 9,
      "metadata": {
        "colab": {
          "base_uri": "https://localhost:8080/"
        },
        "id": "m4_N1LDe642O",
        "outputId": "f04d5f2c-a302-4057-a7a3-680f12f5ddaf"
      },
      "outputs": [
        {
          "data": {
            "text/plain": [
              "(        date   x1\n",
              " 0 2019-01-03  0.1\n",
              " 1 2021-11-22  2.0\n",
              " 2 2021-12-01  NaN\n",
              " 3 2023-01-05  1.2,\n",
              "              x1\n",
              " date           \n",
              " 2019-01-03  0.1\n",
              " 2021-11-22  2.0\n",
              " 2021-12-01  NaN\n",
              " 2023-01-05  1.2,\n",
              "              x1\n",
              " date           \n",
              " 2019-01-03  0.1\n",
              " 2021-11-22  2.0\n",
              " 2021-12-01  2.0\n",
              " 2023-01-05  1.2,\n",
              "              x1\n",
              " date           \n",
              " 2019-01-03  0.1\n",
              " 2021-11-22  2.0\n",
              " 2023-01-05  1.2,\n",
              "              x1\n",
              " date           \n",
              " 2019-01-03  0.1\n",
              " 2021-11-22  2.0\n",
              " 2021-12-01  1.6\n",
              " 2023-01-05  1.2)"
            ]
          },
          "execution_count": 9,
          "metadata": {},
          "output_type": "execute_result"
        }
      ],
      "source": [
        "# 결측치 전후 값의 평균으로 결측값 채우기\n",
        "df_example02_interpolate = df_example02_01.interpolate()\n",
        "df_example02, df_example02_01, df_example02_ffill, df_example02_drop, df_example02_interpolate"
      ]
    },
    {
      "cell_type": "markdown",
      "metadata": {
        "id": "AsFdTpxX-NsP"
      },
      "source": [
        "본문예제11-08"
      ]
    },
    {
      "cell_type": "code",
      "execution_count": 14,
      "metadata": {
        "colab": {
          "base_uri": "https://localhost:8080/"
        },
        "id": "30x0oSk2-M5O",
        "outputId": "f9a2e2c9-c5e5-4e96-88a4-80e870a9c99e"
      },
      "outputs": [
        {
          "name": "stdout",
          "output_type": "stream",
          "text": [
            "DatetimeIndex(['2019-01-03', '2021-11-22', '2021-12-01', '2023-01-05'], dtype='datetime64[ns]', name='date', freq=None)\n"
          ]
        },
        {
          "data": {
            "text/html": [
              "<div>\n",
              "<style scoped>\n",
              "    .dataframe tbody tr th:only-of-type {\n",
              "        vertical-align: middle;\n",
              "    }\n",
              "\n",
              "    .dataframe tbody tr th {\n",
              "        vertical-align: top;\n",
              "    }\n",
              "\n",
              "    .dataframe thead th {\n",
              "        text-align: right;\n",
              "    }\n",
              "</style>\n",
              "<table border=\"1\" class=\"dataframe\">\n",
              "  <thead>\n",
              "    <tr style=\"text-align: right;\">\n",
              "      <th></th>\n",
              "      <th>x1</th>\n",
              "    </tr>\n",
              "    <tr>\n",
              "      <th>date</th>\n",
              "      <th></th>\n",
              "    </tr>\n",
              "  </thead>\n",
              "  <tbody>\n",
              "    <tr>\n",
              "      <th>2019-01-03</th>\n",
              "      <td>0.1</td>\n",
              "    </tr>\n",
              "    <tr>\n",
              "      <th>2021-11-22</th>\n",
              "      <td>2.0</td>\n",
              "    </tr>\n",
              "    <tr>\n",
              "      <th>2021-12-01</th>\n",
              "      <td>1.6</td>\n",
              "    </tr>\n",
              "    <tr>\n",
              "      <th>2023-01-05</th>\n",
              "      <td>1.2</td>\n",
              "    </tr>\n",
              "  </tbody>\n",
              "</table>\n",
              "</div>"
            ],
            "text/plain": [
              "             x1\n",
              "date           \n",
              "2019-01-03  0.1\n",
              "2021-11-22  2.0\n",
              "2021-12-01  1.6\n",
              "2023-01-05  1.2"
            ]
          },
          "execution_count": 14,
          "metadata": {},
          "output_type": "execute_result"
        }
      ],
      "source": [
        "# index 속성으로 빈도 확인\n",
        "df_example03 = pd.DataFrame({'date':['2019-01-03', '2021-11-22','2021-12-01','2023-01-05'], 'x1':[0.1,2.0,1.6,1.2]})\n",
        "df_example03['date'] = pd.to_datetime(df_example03.date,format='%Y-%m-%d')\n",
        "df_example03_01 = df_example03.set_index(keys=['date'])\n",
        "#인덱스 속성 확인\n",
        "print(df_example03_01.index)\n",
        "df_example03_01"
      ]
    },
    {
      "cell_type": "markdown",
      "metadata": {
        "id": "QnafzREs_BvG"
      },
      "source": [
        "본문예제11-09"
      ]
    },
    {
      "cell_type": "code",
      "execution_count": 12,
      "metadata": {
        "colab": {
          "base_uri": "https://localhost:8080/"
        },
        "id": "OnMxZk4N_EmI",
        "outputId": "b7879108-dc30-41aa-caf3-40e0f1a17687"
      },
      "outputs": [
        {
          "name": "stdout",
          "output_type": "stream",
          "text": [
            "            x1\n",
            "date          \n",
            "2019-12-31 NaN\n",
            "2020-12-31 NaN\n",
            "2021-12-31 NaN\n",
            "2022-12-31 NaN\n"
          ]
        }
      ],
      "source": [
        "df_example03_01\n",
        "df_example03_02 = df_example03_01.asfreq('Y', method='ffill') #‘Y’ 매년 마지막 일\n",
        "print(df_example03_02) # 설정한 주기로 생성된 데이터\n"
      ]
    },
    {
      "cell_type": "markdown",
      "metadata": {
        "id": "KtnUSqxG__6C"
      },
      "source": [
        "본문예제11-10"
      ]
    },
    {
      "cell_type": "code",
      "execution_count": 28,
      "metadata": {
        "colab": {
          "base_uri": "https://localhost:8080/"
        },
        "id": "fO9XP1LzACHO",
        "outputId": "0bcca06c-01cb-49ff-87a8-957569ab8ae8"
      },
      "outputs": [],
      "source": [
        "# window별 연산을 적용 가능함 Moving Average\n",
        "df_example04 = pd.DataFrame({'date':['2021-01-06', '2021-01-13', '2021-01-20', '2021-01-27', '2021-02-03'],\n",
        "                             'x1':[5, 4, 3, 2, 7]})\n",
        "df_example04['date'] = pd.to_datetime(df_example04.date)\n",
        "df_example04_01 = df_example04.set_index(keys=['date'])\n",
        "\n",
        "df_rolling_mean = pd.concat([df_example04_01, df_example04_01.rolling(2).mean(), df_example04_01.rolling(3).mean()], axis=1)\n",
        "df_rolling_mean.columns = ['original', 'window_1', 'window_2']\n",
        "\n",
        "df_rolling_sum = pd.concat([df_example04_01, df_example04_01.rolling(2).sum(), df_example04_01.rolling(3).sum()], axis=1)\n",
        "df_rolling_sum.columns = ['original', 'window_1', 'window_2']\n"
      ]
    },
    {
      "cell_type": "code",
      "execution_count": 29,
      "metadata": {},
      "outputs": [
        {
          "data": {
            "text/plain": [
              "(            original  window_1  window_2\n",
              " date                                    \n",
              " 2021-01-06         5       NaN       NaN\n",
              " 2021-01-13         4       4.5       NaN\n",
              " 2021-01-20         3       3.5       4.0\n",
              " 2021-01-27         2       2.5       3.0\n",
              " 2021-02-03         7       4.5       4.0,\n",
              "             original  window_1  window_2\n",
              " date                                    \n",
              " 2021-01-06         5       NaN       NaN\n",
              " 2021-01-13         4       9.0       NaN\n",
              " 2021-01-20         3       7.0      12.0\n",
              " 2021-01-27         2       5.0       9.0\n",
              " 2021-02-03         7       9.0      12.0)"
            ]
          },
          "execution_count": 29,
          "metadata": {},
          "output_type": "execute_result"
        }
      ],
      "source": [
        "df_rolling_mean, df_rolling_sum"
      ]
    },
    {
      "cell_type": "markdown",
      "metadata": {
        "id": "IKk0kvzWB8S5"
      },
      "source": [
        "본문예제11-11"
      ]
    },
    {
      "cell_type": "code",
      "execution_count": 27,
      "metadata": {
        "colab": {
          "base_uri": "https://localhost:8080/"
        },
        "id": "bkGUWioLB_GU",
        "outputId": "7bf015a3-6c6f-4e61-c1bc-1fb9a1c9569d"
      },
      "outputs": [
        {
          "data": {
            "text/html": [
              "<div>\n",
              "<style scoped>\n",
              "    .dataframe tbody tr th:only-of-type {\n",
              "        vertical-align: middle;\n",
              "    }\n",
              "\n",
              "    .dataframe tbody tr th {\n",
              "        vertical-align: top;\n",
              "    }\n",
              "\n",
              "    .dataframe thead th {\n",
              "        text-align: right;\n",
              "    }\n",
              "</style>\n",
              "<table border=\"1\" class=\"dataframe\">\n",
              "  <thead>\n",
              "    <tr style=\"text-align: right;\">\n",
              "      <th></th>\n",
              "      <th>x1</th>\n",
              "      <th>x2</th>\n",
              "      <th>x1_diff</th>\n",
              "      <th>x2_diff</th>\n",
              "    </tr>\n",
              "    <tr>\n",
              "      <th>date</th>\n",
              "      <th></th>\n",
              "      <th></th>\n",
              "      <th></th>\n",
              "      <th></th>\n",
              "    </tr>\n",
              "  </thead>\n",
              "  <tbody>\n",
              "    <tr>\n",
              "      <th>2021-01-06</th>\n",
              "      <td>5</td>\n",
              "      <td>3</td>\n",
              "      <td>NaN</td>\n",
              "      <td>NaN</td>\n",
              "    </tr>\n",
              "    <tr>\n",
              "      <th>2021-01-13</th>\n",
              "      <td>4</td>\n",
              "      <td>4</td>\n",
              "      <td>-1.0</td>\n",
              "      <td>1.0</td>\n",
              "    </tr>\n",
              "    <tr>\n",
              "      <th>2021-01-20</th>\n",
              "      <td>3</td>\n",
              "      <td>5</td>\n",
              "      <td>-1.0</td>\n",
              "      <td>1.0</td>\n",
              "    </tr>\n",
              "    <tr>\n",
              "      <th>2021-01-27</th>\n",
              "      <td>2</td>\n",
              "      <td>1</td>\n",
              "      <td>-1.0</td>\n",
              "      <td>-4.0</td>\n",
              "    </tr>\n",
              "    <tr>\n",
              "      <th>2021-02-03</th>\n",
              "      <td>7</td>\n",
              "      <td>9</td>\n",
              "      <td>5.0</td>\n",
              "      <td>8.0</td>\n",
              "    </tr>\n",
              "  </tbody>\n",
              "</table>\n",
              "</div>"
            ],
            "text/plain": [
              "            x1  x2  x1_diff  x2_diff\n",
              "date                                \n",
              "2021-01-06   5   3      NaN      NaN\n",
              "2021-01-13   4   4     -1.0      1.0\n",
              "2021-01-20   3   5     -1.0      1.0\n",
              "2021-01-27   2   1     -1.0     -4.0\n",
              "2021-02-03   7   9      5.0      8.0"
            ]
          },
          "execution_count": 27,
          "metadata": {},
          "output_type": "execute_result"
        }
      ],
      "source": [
        "df_example05 = pd.DataFrame({'date':['2021-01-06', '2021-01-13', '2021-01-20', '2021-01-27', '2021-02-03'],\n",
        "                             'x1':[5, 4, 3, 2, 7],\n",
        "                             'x2':[3, 4, 5, 1, 9]})\n",
        "df_example05['date'] = pd.to_datetime(df_example05.date)\n",
        "df_example05_01 = df_example05.set_index(keys=['date'])\n",
        "\n",
        "\n",
        "df_example05_01_diff = df_example05_01.diff() # 이전값-이후값\n",
        "df_example05_01_diff.columns=['x1_diff', 'x2_diff'] # 컬럼명 만들기\n",
        "df_example05_02 = pd.concat([df_example05_01, df_example05_01_diff], axis=1) # 데이터프레임 열끼리 합치기\n",
        "df_example05_02"
      ]
    },
    {
      "cell_type": "markdown",
      "metadata": {
        "id": "Qu8nymbrCJvF"
      },
      "source": [
        "본문예제11-12"
      ]
    },
    {
      "cell_type": "code",
      "execution_count": 32,
      "metadata": {
        "colab": {
          "base_uri": "https://localhost:8080/"
        },
        "id": "02jZOs-FCMIH",
        "outputId": "16659405-7946-4d77-ea9d-63b6e6fbc027"
      },
      "outputs": [
        {
          "data": {
            "text/plain": [
              "(            x1  x2  shift\n",
              " date                     \n",
              " 2021-01-06   5   3    NaN\n",
              " 2021-01-13   4   4    NaN\n",
              " 2021-01-20   3   5    5.0\n",
              " 2021-01-27   2   1    4.0\n",
              " 2021-02-03   7   9    3.0,\n",
              "             x1  x2  shift\n",
              " date                     \n",
              " 2021-01-06   5   3    5.0\n",
              " 2021-01-13   4   4    5.0\n",
              " 2021-01-20   3   5    5.0\n",
              " 2021-01-27   2   1    4.0\n",
              " 2021-02-03   7   9    3.0)"
            ]
          },
          "execution_count": 32,
          "metadata": {},
          "output_type": "execute_result"
        }
      ],
      "source": [
        "import numpy as np\n",
        "df_example06 = pd.DataFrame({'date':['2021-01-06', '2021-01-13', '2021-01-20', '2021-01-27', '2021-02-03'],\n",
        "                             'x1':[5, 4, 3, 2, 7],\n",
        "                             'x2':[3, 4, 5, 1, 9]})\n",
        "df_example06['date'] = pd.to_datetime(df_example06.date)\n",
        "df_example06_01 = df_example06.set_index(keys=['date'])\n",
        "df_example06_01['shift'] = df_example06_01['x1'].shift(2)\n",
        "df_example06_02 = df_example06_01.fillna(method='bfill')\n",
        "df_example06_01, df_example06_02"
      ]
    },
    {
      "cell_type": "markdown",
      "metadata": {
        "id": "48shmZv2Egz1"
      },
      "source": [
        "본문예제11-12"
      ]
    },
    {
      "cell_type": "code",
      "execution_count": 33,
      "metadata": {
        "colab": {
          "base_uri": "https://localhost:8080/"
        },
        "id": "LJfFbjKTEpMU",
        "outputId": "bfb32a98-f450-40f7-f900-4085bf76c891"
      },
      "outputs": [
        {
          "data": {
            "text/html": [
              "<div>\n",
              "<style scoped>\n",
              "    .dataframe tbody tr th:only-of-type {\n",
              "        vertical-align: middle;\n",
              "    }\n",
              "\n",
              "    .dataframe tbody tr th {\n",
              "        vertical-align: top;\n",
              "    }\n",
              "\n",
              "    .dataframe thead th {\n",
              "        text-align: right;\n",
              "    }\n",
              "</style>\n",
              "<table border=\"1\" class=\"dataframe\">\n",
              "  <thead>\n",
              "    <tr style=\"text-align: right;\">\n",
              "      <th></th>\n",
              "      <th>x1</th>\n",
              "      <th>과목</th>\n",
              "      <th>a</th>\n",
              "      <th>b</th>\n",
              "      <th>c</th>\n",
              "      <th>d</th>\n",
              "      <th>e</th>\n",
              "    </tr>\n",
              "    <tr>\n",
              "      <th>date</th>\n",
              "      <th></th>\n",
              "      <th></th>\n",
              "      <th></th>\n",
              "      <th></th>\n",
              "      <th></th>\n",
              "      <th></th>\n",
              "      <th></th>\n",
              "    </tr>\n",
              "  </thead>\n",
              "  <tbody>\n",
              "    <tr>\n",
              "      <th>2021-01-06</th>\n",
              "      <td>5</td>\n",
              "      <td>a</td>\n",
              "      <td>1</td>\n",
              "      <td>0</td>\n",
              "      <td>0</td>\n",
              "      <td>0</td>\n",
              "      <td>0</td>\n",
              "    </tr>\n",
              "    <tr>\n",
              "      <th>2021-01-13</th>\n",
              "      <td>4</td>\n",
              "      <td>b</td>\n",
              "      <td>0</td>\n",
              "      <td>1</td>\n",
              "      <td>0</td>\n",
              "      <td>0</td>\n",
              "      <td>0</td>\n",
              "    </tr>\n",
              "    <tr>\n",
              "      <th>2021-01-20</th>\n",
              "      <td>3</td>\n",
              "      <td>c</td>\n",
              "      <td>0</td>\n",
              "      <td>0</td>\n",
              "      <td>1</td>\n",
              "      <td>0</td>\n",
              "      <td>0</td>\n",
              "    </tr>\n",
              "    <tr>\n",
              "      <th>2021-01-27</th>\n",
              "      <td>2</td>\n",
              "      <td>d</td>\n",
              "      <td>0</td>\n",
              "      <td>0</td>\n",
              "      <td>0</td>\n",
              "      <td>1</td>\n",
              "      <td>0</td>\n",
              "    </tr>\n",
              "    <tr>\n",
              "      <th>2021-02-03</th>\n",
              "      <td>7</td>\n",
              "      <td>e</td>\n",
              "      <td>0</td>\n",
              "      <td>0</td>\n",
              "      <td>0</td>\n",
              "      <td>0</td>\n",
              "      <td>1</td>\n",
              "    </tr>\n",
              "  </tbody>\n",
              "</table>\n",
              "</div>"
            ],
            "text/plain": [
              "            x1 과목  a  b  c  d  e\n",
              "date                            \n",
              "2021-01-06   5  a  1  0  0  0  0\n",
              "2021-01-13   4  b  0  1  0  0  0\n",
              "2021-01-20   3  c  0  0  1  0  0\n",
              "2021-01-27   2  d  0  0  0  1  0\n",
              "2021-02-03   7  e  0  0  0  0  1"
            ]
          },
          "execution_count": 33,
          "metadata": {},
          "output_type": "execute_result"
        }
      ],
      "source": [
        "df_example07 = pd.DataFrame({'date':['2021-01-06', '2021-01-13', '2021-01-20', '2021-01-27', '2021-02-03'],\n",
        "                              'x1':[5, 4, 3, 2, 7],\n",
        "                              '과목':['a', 'b', 'c', 'd', 'e']})\n",
        "df_example07['date'] = pd.to_datetime(df_example07.date)\n",
        "df_example07_01 = df_example07.set_index(keys=['date'])\n",
        "df_example07_dummy = pd.get_dummies(df_example07_01['과목'])\n",
        "df_example07_02 = pd.concat([df_example07_01,df_example07_dummy], axis=1)\n",
        "df_example07_02"
      ]
    }
  ],
  "metadata": {
    "colab": {
      "provenance": []
    },
    "kernelspec": {
      "display_name": "Python 3",
      "name": "python3"
    },
    "language_info": {
      "codemirror_mode": {
        "name": "ipython",
        "version": 3
      },
      "file_extension": ".py",
      "mimetype": "text/x-python",
      "name": "python",
      "nbconvert_exporter": "python",
      "pygments_lexer": "ipython3",
      "version": "3.9.13"
    }
  },
  "nbformat": 4,
  "nbformat_minor": 0
}
